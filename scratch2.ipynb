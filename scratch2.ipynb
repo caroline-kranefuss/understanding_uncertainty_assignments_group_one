{
 "cells": [
  {
   "cell_type": "markdown",
   "id": "dd21efe9",
   "metadata": {},
   "source": [
    "# Assignment 5\n",
    "### Do all four questions."
   ]
  },
  {
   "cell_type": "markdown",
   "id": "1ee9b4e8",
   "metadata": {},
   "source": [
    "**1.** Let's review some basic matrix multiplication. When you have an $M \\times N$ matrix $A$ with $M$ rows and $N$ columns, \n",
    "$$\n",
    "A= \\left[ \\begin{array}{cccc} a_{11} & a_{12} & ... & a_{1N} \\\\\n",
    "a_{21} & a_{22} & ... & a_{2N} \\\\\n",
    "\\vdots & \\vdots & ... & \\vdots \\\\\n",
    "a_{M1} & a_{M2} & ... & a_{MN} \n",
    "\\end{array} \\right],\n",
    "$$\n",
    "and you right-multiply it by a vector\n",
    "$$\n",
    "x = \\left[ \\begin{array}{c} x_1 \\\\ x_2 \\\\ \\vdots \\\\ x_N \n",
    "\\end{array} \\right],\n",
    "$$\n",
    "you get\n",
    "$$\n",
    "Ax = \\left[ \\begin{array}{c} \\sum_{i=1}^N a_{1i} x_i \\\\ \\sum_{i=1}^N a_{2i} x_i \\\\ \\vdots \\\\ \\sum_{i=1}^N a_{Mi} x_i \n",
    "\\end{array} \\right].\n",
    "$$\n",
    "This is just \"matrix row times column vector\" element-by-element, stacking the results into a new vector.\n",
    "\n",
    "For this to make sense, $N$ must be the same for the matrix and the vector, but $M$ can be different from $N$. \n",
    "\n",
    "Let's play with some NumPy to see this. First we'll define a matrix $A$:"
   ]
  },
  {
   "cell_type": "code",
   "execution_count": 2,
   "id": "33df3579",
   "metadata": {},
   "outputs": [
    {
     "data": {
      "text/plain": [
       "array([[1, 2, 3],\n",
       "       [4, 5, 6],\n",
       "       [7, 8, 9]])"
      ]
     },
     "execution_count": 2,
     "metadata": {},
     "output_type": "execute_result"
    }
   ],
   "source": [
    "import numpy as np\n",
    "\n",
    "A = np.array([ [1,2,3],\n",
    "              [4,5,6],\n",
    "              [7,8,9]])\n",
    "A"
   ]
  },
  {
   "cell_type": "markdown",
   "id": "94b1b3ac",
   "metadata": {},
   "source": [
    "a. Multiply $A$ times each of the following vectors using the @ operator. Explain which part of the $A$ matrix gets selected and explain why, using the definition of matrix multiplication. "
   ]
  },
  {
   "cell_type": "code",
   "execution_count": 3,
   "id": "5b6148d2",
   "metadata": {},
   "outputs": [],
   "source": [
    "e_1 = np.array([1,0,0])\n",
    "e_2 = np.array([0,1,0])\n",
    "e_3 = np.array([0,0,1])"
   ]
  },
  {
   "cell_type": "code",
   "execution_count": 4,
   "id": "14608719",
   "metadata": {},
   "outputs": [
    {
     "data": {
      "text/plain": [
       "(array([1, 4, 7]), array([2, 5, 8]), array([3, 6, 9]))"
      ]
     },
     "execution_count": 4,
     "metadata": {},
     "output_type": "execute_result"
    }
   ],
   "source": [
    "A@e_1, A@e_2, A@e_3"
   ]
  },
  {
   "cell_type": "markdown",
   "id": "2da75bb5",
   "metadata": {},
   "source": [
    "e_1, e_2, and e_3 selects the first, second, and third column respectfully from the matrix A. "
   ]
  },
  {
   "cell_type": "markdown",
   "id": "72a4704e",
   "metadata": {},
   "source": [
    "b. Now multiply $A$ times $u = (1,1,1)$. Explain the logic of the result with the definition of matrix multiplication."
   ]
  },
  {
   "cell_type": "code",
   "execution_count": 5,
   "id": "5bf73f9b",
   "metadata": {},
   "outputs": [],
   "source": [
    "u = np.ones(3)"
   ]
  },
  {
   "cell_type": "code",
   "execution_count": 6,
   "id": "e8c3b807",
   "metadata": {},
   "outputs": [
    {
     "data": {
      "text/plain": [
       "array([ 6., 15., 24.])"
      ]
     },
     "execution_count": 6,
     "metadata": {},
     "output_type": "execute_result"
    }
   ],
   "source": [
    "A@u"
   ]
  },
  {
   "cell_type": "markdown",
   "id": "8d1a91af",
   "metadata": {},
   "source": [
    "This multiplies each column of A by 1 and sums the results, which is equivalent to summing each row of A."
   ]
  },
  {
   "cell_type": "markdown",
   "id": "dde75eab",
   "metadata": {},
   "source": [
    "c. Whenever a matrix has 1's on the diagonal and zeros everywhere else, we call it an **identity matrix**. What happens when you multiple $A$ times $x$ below? What happens when you multiple an identity matrix times any vector? Explain your result with the definition of matrix multiplication."
   ]
  },
  {
   "cell_type": "code",
   "execution_count": 7,
   "id": "b0d349c4",
   "metadata": {},
   "outputs": [],
   "source": [
    "A = np.array([ [1,0,0],\n",
    "              [0,1,0],\n",
    "              [0,0,1]])\n",
    "x = np.array([-2,4,11])\n"
   ]
  },
  {
   "cell_type": "code",
   "execution_count": 8,
   "id": "0c49cb3d",
   "metadata": {},
   "outputs": [
    {
     "data": {
      "text/plain": [
       "array([-2,  4, 11])"
      ]
     },
     "execution_count": 8,
     "metadata": {},
     "output_type": "execute_result"
    }
   ],
   "source": [
    "A@x"
   ]
  },
  {
   "cell_type": "markdown",
   "id": "4b01347d",
   "metadata": {},
   "source": [
    "Multipying any vector by the identity matrix produces the original vector. This is because we are taking the sum of each matrix row (1) by each of the rows in the array."
   ]
  },
  {
   "cell_type": "markdown",
   "id": "57141925",
   "metadata": {},
   "source": [
    "d. What if every row and column sum to 1, but the 1's are no longer on the diagonal? Multiple $A$ times $X$ below and explain the result. Create another matrix whose rows and columns sum to 1, but is not an identity matrix, and show how it permutes the values of $x$. "
   ]
  },
  {
   "cell_type": "code",
   "execution_count": 9,
   "id": "83a9ed11",
   "metadata": {},
   "outputs": [],
   "source": [
    "A = np.array([ [0,0,1],\n",
    "              [1,0,0],\n",
    "              [0,1,0]])\n",
    "x = np.array([-2,4,11])\n"
   ]
  },
  {
   "cell_type": "code",
   "execution_count": 10,
   "id": "8bc9c6dd",
   "metadata": {},
   "outputs": [
    {
     "data": {
      "text/plain": [
       "array([11, -2,  4])"
      ]
     },
     "execution_count": 10,
     "metadata": {},
     "output_type": "execute_result"
    }
   ],
   "source": [
    "A@x"
   ]
  },
  {
   "cell_type": "code",
   "execution_count": 15,
   "id": "d8510704",
   "metadata": {},
   "outputs": [
    {
     "data": {
      "text/plain": [
       "array([11,  4, -2])"
      ]
     },
     "execution_count": 15,
     "metadata": {},
     "output_type": "execute_result"
    }
   ],
   "source": [
    "A = np.array([ [0,0,1],\n",
    "              [0,1,0],\n",
    "              [1,0,0]])\n",
    "x = np.array([-2,4,11])\n",
    "\n",
    "A@x"
   ]
  },
  {
   "cell_type": "markdown",
   "id": "4eeee7d3",
   "metadata": {},
   "source": [
    "If each row and column sum to 1 but its not the identity matrix the resulting matrix will contain the original array values just not in the original order. The first value in the new array will use the referenced value  in the x array in the first row of the matrix. "
   ]
  },
  {
   "cell_type": "markdown",
   "id": "611c26c3",
   "metadata": {},
   "source": [
    "e. The next matrix $A$ could be a Markov transition matrix: Its columns sum to 1, and each entry $a_{ij}$ can be interpreted as the proportion of observations who moved from state $j$ to state $i$. Multiply $A$ by each of the vectors $e_1$, $e_2$, and $e_3$, and explain your results."
   ]
  },
  {
   "cell_type": "code",
   "execution_count": 20,
   "id": "aff4fb97",
   "metadata": {},
   "outputs": [
    {
     "name": "stdout",
     "output_type": "stream",
     "text": [
      "[[0.50052958 0.24049286 0.18358131]\n",
      " [0.02574731 0.39251588 0.37907577]\n",
      " [0.47372311 0.36699127 0.43734292]]\n"
     ]
    }
   ],
   "source": [
    "rng = np.random.default_rng(100)\n",
    "A = rng.random((3,3)) # Generate a random 3X3 matrix\n",
    "sums = np.sum(A,axis=0) # Column sums\n",
    "A = A/sums # Normalize the columns so they sum to 1\n",
    "print(A)"
   ]
  },
  {
   "cell_type": "code",
   "execution_count": 21,
   "id": "efeb33da",
   "metadata": {},
   "outputs": [
    {
     "data": {
      "text/plain": [
       "(array([0.50052958, 0.02574731, 0.47372311]),\n",
       " array([0.24049286, 0.39251588, 0.36699127]),\n",
       " array([0.18358131, 0.37907577, 0.43734292]))"
      ]
     },
     "execution_count": 21,
     "metadata": {},
     "output_type": "execute_result"
    }
   ],
   "source": [
    "A@e_1, A@e_2, A@e_3 "
   ]
  },
  {
   "cell_type": "markdown",
   "id": "beb6b551",
   "metadata": {},
   "source": [
    "This takes each col in A of the respectively referenced value in e. For example e1 takes takes the 1st value in each row in the A matrix (essentially taking the entire first column), and so on."
   ]
  },
  {
   "cell_type": "markdown",
   "id": "0647bfa7",
   "metadata": {},
   "source": [
    "f. For each of the vectors $e_1, e_2, e_3$, multiple $A$ times that vector 5 times. What answer do you get for each starting vector? Describe the behavior you observe."
   ]
  },
  {
   "cell_type": "markdown",
   "id": "fa2c9a93",
   "metadata": {},
   "source": [
    "*2.* Let's consider a simple Markov transition matrix over two states:\n",
    "$$\n",
    "T = \\left[ \\begin{array}{cc} p_{1\\leftarrow 1} &  p_{1\\leftarrow 2} \\\\\n",
    "p_{2 \\leftarrow 1} & p_{2 \\leftarrow 2} \\end{array}\\right] \n",
    "$$\n",
    "The arrows help visualize the transition a bit: This is the same index notation as usual, $p_{ij}$, but writing it $p_{i \\leftarrow j}$ emphasizes that it's the proportion of times that state $j$ transitions to state $i$. Below, $T$ is given by\n",
    "$$\n",
    "T = \\left[ \\begin{array}{cc} .25 & .5 \\\\\n",
    ".75 & .5 \\end{array}\\right].\n",
    "$$\n",
    "\n",
    "- Start in state 1, at the initial condition $[1,0]$. Multiply that vector by $T$. Write out the result in terms of the formula and compute the result in a code chunk below. What is this object you're looking at, in terms of proportions and transitions?\n",
    "- Multiple by $T$ again. What do you get? This isn't a column of $T$. Explain in words what it is. (Hint: A forecast of what in what period?)\n",
    "- Keep multiplying the current vector of outcomes by $T$. When does it start to settle down without changing further?\n",
    "- Do the above analysis again, starting from the initial condition $[0,1]$. Do you get a different result?\n",
    "- The take-away is that, in the long run, these chains settle down into the long-run proportions, and the sensitivity on initial conditions vanishes. \n"
   ]
  },
  {
   "cell_type": "code",
   "execution_count": 12,
   "id": "4b6a775f",
   "metadata": {},
   "outputs": [],
   "source": [
    "T = np.array([[ 1/4, 1/2],\n",
    "                 [ 3/4, 1/2 ]])"
   ]
  },
  {
   "cell_type": "code",
   "execution_count": 24,
   "id": "3f26e0f8",
   "metadata": {},
   "outputs": [
    {
     "data": {
      "text/plain": [
       "array([0.25, 0.75])"
      ]
     },
     "execution_count": 24,
     "metadata": {},
     "output_type": "execute_result"
    }
   ],
   "source": [
    "initial_state = np.array([1,0]) # Start in state 1\n",
    "result = T@initial_state\n",
    "result"
   ]
  },
  {
   "cell_type": "markdown",
   "id": "7c7fbb9e",
   "metadata": {},
   "source": [
    "The code above shows that if we start in state 1 we have a 25% chance of staying there and a 75% chance of moving to state 2."
   ]
  },
  {
   "cell_type": "code",
   "execution_count": 26,
   "id": "4d576df2",
   "metadata": {},
   "outputs": [
    {
     "data": {
      "text/plain": [
       "array([0.4375, 0.5625])"
      ]
     },
     "execution_count": 26,
     "metadata": {},
     "output_type": "execute_result"
    }
   ],
   "source": [
    "result2 = T@result\n",
    "result2"
   ]
  },
  {
   "cell_type": "markdown",
   "id": "3216b7a9",
   "metadata": {},
   "source": [
    "Given the markov chain. If we start in state 1 the code above shows the probabilities of being in each state after two time steps (emphasis on NOT knowing the result of the first time step). This is a forcast of sorts of what COULD happen given what we know now."
   ]
  },
  {
   "cell_type": "code",
   "execution_count": null,
   "id": "aba183ec",
   "metadata": {},
   "outputs": [
    {
     "name": "stdout",
     "output_type": "stream",
     "text": [
      "Step 0: [1 0]\n",
      "Step 1: [0.25 0.75]\n",
      "Step 2: [0.4375 0.5625]\n",
      "Step 3: [0.390625 0.609375]\n",
      "Step 4: [0.40234375 0.59765625]\n",
      "Step 5: [0.39941406 0.60058594]\n",
      "Step 6: [0.40014648 0.59985352]\n",
      "Step 7: [0.39996338 0.60003662]\n",
      "Step 8: [0.40000916 0.59999084]\n",
      "Step 9: [0.39999771 0.60000229]\n",
      "Step 10: [0.40000057 0.59999943]\n",
      "Step 11: [0.39999986 0.60000014]\n",
      "Step 12: [0.40000004 0.59999996]\n",
      "Step 13: [0.39999999 0.60000001]\n",
      "Step 14: [0.4 0.6]\n",
      "Step 15: [0.4 0.6]\n",
      "Step 16: [0.4 0.6]\n",
      "Step 17: [0.4 0.6]\n",
      "Step 18: [0.4 0.6]\n",
      "Step 19: [0.4 0.6]\n"
     ]
    }
   ],
   "source": [
    "state = np.array([1,0]) # Start in state 1\n",
    "for i in range(20):\n",
    "    print(f\"Step {i}: {state}\")\n",
    "    state = T@state"
   ]
  },
  {
   "cell_type": "markdown",
   "id": "2573c44f",
   "metadata": {},
   "source": [
    "The resulting vector settles at [0.4 0.6] starting at step 14 but the variance around these two numbers starts to stabilize starting at step 3."
   ]
  },
  {
   "cell_type": "markdown",
   "id": "05d45f2b",
   "metadata": {},
   "source": [
    "I've ran the code a few times and the result does not change."
   ]
  },
  {
   "cell_type": "markdown",
   "id": "921592e9",
   "metadata": {},
   "source": [
    "3. Weather data\n",
    "\n",
    "- Load the `cville_weather.csv` data. This includes data from Jan 4, 2024 to Feb 2, 2025. Are there any missing data issues?\n",
    "- Based on the precipitation variable, `PRCP`, make a new variable called `rain` that takes the value 1 if `PRCP`>0 and 0 otherwise.\n",
    "- Build a two-state Markov chain over the states 0 and 1 for the `rain` variable. \n",
    "- For your chain from c, how likely is it to rain if it was rainy yesterday? How likely is it to rain if it was clear yesterday?\n",
    "- Starting from a clear day, forecast the distribution. How quickly does it converge to a fixed result? What if you start from a rainy day?\n",
    "- Conditional on being rainy, plot a KDE of the `PRCP` variable.\n",
    "- Describe one way of making your model better for forecasting and simulation the weather.\n",
    "\n",
    "Congratulations, you now are a non-parametric meteorologist!"
   ]
  },
  {
   "cell_type": "code",
   "execution_count": 1,
   "id": "babe712a",
   "metadata": {},
   "outputs": [],
   "source": [
    "import pandas as pd"
   ]
  },
  {
   "cell_type": "code",
   "execution_count": 3,
   "id": "378e6fba",
   "metadata": {},
   "outputs": [
    {
     "data": {
      "text/html": [
       "<div>\n",
       "<style scoped>\n",
       "    .dataframe tbody tr th:only-of-type {\n",
       "        vertical-align: middle;\n",
       "    }\n",
       "\n",
       "    .dataframe tbody tr th {\n",
       "        vertical-align: top;\n",
       "    }\n",
       "\n",
       "    .dataframe thead th {\n",
       "        text-align: right;\n",
       "    }\n",
       "</style>\n",
       "<table border=\"1\" class=\"dataframe\">\n",
       "  <thead>\n",
       "    <tr style=\"text-align: right;\">\n",
       "      <th></th>\n",
       "      <th>STATION</th>\n",
       "      <th>NAME</th>\n",
       "      <th>DATE</th>\n",
       "      <th>DAPR</th>\n",
       "      <th>DAPR_ATTRIBUTES</th>\n",
       "      <th>MDPR</th>\n",
       "      <th>MDPR_ATTRIBUTES</th>\n",
       "      <th>PRCP</th>\n",
       "      <th>PRCP_ATTRIBUTES</th>\n",
       "      <th>SNOW</th>\n",
       "      <th>SNOW_ATTRIBUTES</th>\n",
       "      <th>SNWD</th>\n",
       "      <th>SNWD_ATTRIBUTES</th>\n",
       "    </tr>\n",
       "  </thead>\n",
       "  <tbody>\n",
       "    <tr>\n",
       "      <th>0</th>\n",
       "      <td>US1VACRC002</td>\n",
       "      <td>CHARLOTTESVILLE 0.5 NNE, VA US</td>\n",
       "      <td>2024-01-04</td>\n",
       "      <td>NaN</td>\n",
       "      <td>NaN</td>\n",
       "      <td>NaN</td>\n",
       "      <td>NaN</td>\n",
       "      <td>0.03</td>\n",
       "      <td>,,N</td>\n",
       "      <td>NaN</td>\n",
       "      <td>NaN</td>\n",
       "      <td>NaN</td>\n",
       "      <td>NaN</td>\n",
       "    </tr>\n",
       "    <tr>\n",
       "      <th>1</th>\n",
       "      <td>US1VACRC002</td>\n",
       "      <td>CHARLOTTESVILLE 0.5 NNE, VA US</td>\n",
       "      <td>2024-01-07</td>\n",
       "      <td>NaN</td>\n",
       "      <td>NaN</td>\n",
       "      <td>NaN</td>\n",
       "      <td>NaN</td>\n",
       "      <td>1.08</td>\n",
       "      <td>,,N</td>\n",
       "      <td>NaN</td>\n",
       "      <td>NaN</td>\n",
       "      <td>NaN</td>\n",
       "      <td>NaN</td>\n",
       "    </tr>\n",
       "    <tr>\n",
       "      <th>2</th>\n",
       "      <td>US1VACRC002</td>\n",
       "      <td>CHARLOTTESVILLE 0.5 NNE, VA US</td>\n",
       "      <td>2024-01-09</td>\n",
       "      <td>NaN</td>\n",
       "      <td>NaN</td>\n",
       "      <td>NaN</td>\n",
       "      <td>NaN</td>\n",
       "      <td>0.24</td>\n",
       "      <td>,,N</td>\n",
       "      <td>NaN</td>\n",
       "      <td>NaN</td>\n",
       "      <td>NaN</td>\n",
       "      <td>NaN</td>\n",
       "    </tr>\n",
       "    <tr>\n",
       "      <th>3</th>\n",
       "      <td>US1VACRC002</td>\n",
       "      <td>CHARLOTTESVILLE 0.5 NNE, VA US</td>\n",
       "      <td>2024-01-10</td>\n",
       "      <td>NaN</td>\n",
       "      <td>NaN</td>\n",
       "      <td>NaN</td>\n",
       "      <td>NaN</td>\n",
       "      <td>3.00</td>\n",
       "      <td>,,N</td>\n",
       "      <td>NaN</td>\n",
       "      <td>NaN</td>\n",
       "      <td>NaN</td>\n",
       "      <td>NaN</td>\n",
       "    </tr>\n",
       "    <tr>\n",
       "      <th>4</th>\n",
       "      <td>US1VACRC002</td>\n",
       "      <td>CHARLOTTESVILLE 0.5 NNE, VA US</td>\n",
       "      <td>2024-01-24</td>\n",
       "      <td>NaN</td>\n",
       "      <td>NaN</td>\n",
       "      <td>NaN</td>\n",
       "      <td>NaN</td>\n",
       "      <td>0.00</td>\n",
       "      <td>,,N</td>\n",
       "      <td>0.0</td>\n",
       "      <td>,,N</td>\n",
       "      <td>NaN</td>\n",
       "      <td>NaN</td>\n",
       "    </tr>\n",
       "  </tbody>\n",
       "</table>\n",
       "</div>"
      ],
      "text/plain": [
       "       STATION                            NAME        DATE  DAPR  \\\n",
       "0  US1VACRC002  CHARLOTTESVILLE 0.5 NNE, VA US  2024-01-04   NaN   \n",
       "1  US1VACRC002  CHARLOTTESVILLE 0.5 NNE, VA US  2024-01-07   NaN   \n",
       "2  US1VACRC002  CHARLOTTESVILLE 0.5 NNE, VA US  2024-01-09   NaN   \n",
       "3  US1VACRC002  CHARLOTTESVILLE 0.5 NNE, VA US  2024-01-10   NaN   \n",
       "4  US1VACRC002  CHARLOTTESVILLE 0.5 NNE, VA US  2024-01-24   NaN   \n",
       "\n",
       "  DAPR_ATTRIBUTES  MDPR MDPR_ATTRIBUTES  PRCP PRCP_ATTRIBUTES  SNOW  \\\n",
       "0             NaN   NaN             NaN  0.03             ,,N   NaN   \n",
       "1             NaN   NaN             NaN  1.08             ,,N   NaN   \n",
       "2             NaN   NaN             NaN  0.24             ,,N   NaN   \n",
       "3             NaN   NaN             NaN  3.00             ,,N   NaN   \n",
       "4             NaN   NaN             NaN  0.00             ,,N   0.0   \n",
       "\n",
       "  SNOW_ATTRIBUTES  SNWD SNWD_ATTRIBUTES  \n",
       "0             NaN   NaN             NaN  \n",
       "1             NaN   NaN             NaN  \n",
       "2             NaN   NaN             NaN  \n",
       "3             NaN   NaN             NaN  \n",
       "4             ,,N   NaN             NaN  "
      ]
     },
     "execution_count": 3,
     "metadata": {},
     "output_type": "execute_result"
    }
   ],
   "source": [
    "weather = pd.read_csv(\"cville_weather.csv\")\n",
    "weather.head()"
   ]
  },
  {
   "cell_type": "code",
   "execution_count": 4,
   "id": "aa3e86fc",
   "metadata": {},
   "outputs": [
    {
     "name": "stdout",
     "output_type": "stream",
     "text": [
      "<class 'pandas.core.frame.DataFrame'>\n",
      "RangeIndex: 411 entries, 0 to 410\n",
      "Data columns (total 13 columns):\n",
      " #   Column           Non-Null Count  Dtype  \n",
      "---  ------           --------------  -----  \n",
      " 0   STATION          411 non-null    object \n",
      " 1   NAME             411 non-null    object \n",
      " 2   DATE             411 non-null    object \n",
      " 3   DAPR             12 non-null     float64\n",
      " 4   DAPR_ATTRIBUTES  12 non-null     object \n",
      " 5   MDPR             12 non-null     float64\n",
      " 6   MDPR_ATTRIBUTES  12 non-null     object \n",
      " 7   PRCP             399 non-null    float64\n",
      " 8   PRCP_ATTRIBUTES  399 non-null    object \n",
      " 9   SNOW             223 non-null    float64\n",
      " 10  SNOW_ATTRIBUTES  223 non-null    object \n",
      " 11  SNWD             1 non-null      float64\n",
      " 12  SNWD_ATTRIBUTES  1 non-null      object \n",
      "dtypes: float64(5), object(8)\n",
      "memory usage: 41.9+ KB\n"
     ]
    },
    {
     "data": {
      "text/plain": [
       "Index(['STATION', 'NAME', 'DATE', 'DAPR', 'DAPR_ATTRIBUTES', 'MDPR',\n",
       "       'MDPR_ATTRIBUTES', 'PRCP', 'PRCP_ATTRIBUTES', 'SNOW', 'SNOW_ATTRIBUTES',\n",
       "       'SNWD', 'SNWD_ATTRIBUTES'],\n",
       "      dtype='object')"
      ]
     },
     "execution_count": 4,
     "metadata": {},
     "output_type": "execute_result"
    }
   ],
   "source": [
    "weather.info()\n",
    "weather.columns"
   ]
  },
  {
   "cell_type": "code",
   "execution_count": 9,
   "id": "f11afd62",
   "metadata": {},
   "outputs": [
    {
     "data": {
      "text/plain": [
       "rain\n",
       "0    386\n",
       "1     25\n",
       "Name: count, dtype: int64"
      ]
     },
     "execution_count": 9,
     "metadata": {},
     "output_type": "execute_result"
    }
   ],
   "source": [
    "weather[\"rain\"] = weather[\"PRCP\"].apply( lambda x: 1 if x>1 else 0)\n",
    "weather[\"rain\"].value_counts()"
   ]
  },
  {
   "cell_type": "markdown",
   "id": "867382da",
   "metadata": {},
   "source": [
    "2 state markov chain:\n",
    "0=norain\n",
    "1=rain"
   ]
  },
  {
   "cell_type": "markdown",
   "id": "281342bd",
   "metadata": {},
   "source": [
    "#### NOTE: Super high value is for a taxi cab going from liberty island (HINT HINT ISLAND??) to a different neighborhood."
   ]
  },
  {
   "cell_type": "markdown",
   "id": "9a9ac1f4",
   "metadata": {},
   "source": [
    "### Why are taxicabs order 1 and not 2??"
   ]
  },
  {
   "cell_type": "code",
   "execution_count": 56,
   "id": "0d9779ec",
   "metadata": {},
   "outputs": [],
   "source": [
    "#Creating markov chain object:\n",
    "taxi_markov_chain = MarkovChain(transition_matrix=transition_prob_matrix, state_names=all_neighborhoods)"
   ]
  },
  {
   "cell_type": "code",
   "execution_count": 55,
   "id": "38033ffe",
   "metadata": {},
   "outputs": [
    {
     "name": "stdout",
     "output_type": "stream",
     "text": [
      "Hell's Kitchen\n"
     ]
    }
   ],
   "source": [
    "print(list(all_neighborhoods)[14])"
   ]
  },
  {
   "cell_type": "code",
   "execution_count": 57,
   "id": "e87e56ab",
   "metadata": {},
   "outputs": [],
   "source": [
    "##Forecasting states:\n",
    "#Initial point: Hells kitchen\n",
    "#Steps: 2, 3, 5, and 10 \n",
    "two_steps = taxi_markov_chain.forecast(2, 14)\n",
    "three_steps = taxi_markov_chain.forecast(3, 14)\n",
    "five_steps = taxi_markov_chain.forecast(5, 14)\n",
    "ten_steps = taxi_markov_chain.forecast(10,14)\n"
   ]
  },
  {
   "cell_type": "code",
   "execution_count": 58,
   "id": "ed5f311b",
   "metadata": {},
   "outputs": [],
   "source": [
    "import plotly.express as px"
   ]
  },
  {
   "cell_type": "code",
   "execution_count": 59,
   "id": "0550bdee",
   "metadata": {},
   "outputs": [
    {
     "data": {
      "application/vnd.plotly.v1+json": {
       "config": {
        "plotlyServerURL": "https://plot.ly"
       },
       "data": [
        {
         "name": "2 Steps",
         "type": "bar",
         "x": [
          "Battery Park City",
          "Central Park",
          "Chelsea",
          "Chinatown",
          "Civic Center",
          "East Harlem",
          "East Village",
          "Ellis Island",
          "Financial District",
          "Flatiron District",
          "Governors Island",
          "Gramercy",
          "Greenwich Village",
          "Harlem",
          "Hell's Kitchen",
          "Inwood",
          "Kips Bay",
          "Liberty Island",
          "Little Italy",
          "Lower East Side",
          "Marble Hill",
          "Midtown",
          "Morningside Heights",
          "Murray Hill",
          "NoHo",
          "Nolita",
          "Outside Manhattan",
          "Randall's Island",
          "Roosevelt Island",
          "SoHo",
          "Stuyvesant Town",
          "Theater District",
          "Tribeca",
          "Two Bridges",
          "Upper East Side",
          "Upper West Side",
          "Washington Heights",
          "West Village"
         ],
         "xaxis": "x",
         "y": {
          "bdata": "DOqXJGCUpz8J2MOCxWmqPyzupon8N7E/pK9Irvgfoj8R5OPg3yeiPzoiwYZDgKM/3gjRD86eoT8cKdMJixehP7nBfGRS3qM/McLaDYnEqD/BbUtBraOaP73wgjoLD6M/enFfkmvfpD9xhvlmxm6tP/UngF40g74//jaUoeUssz/r9R3noo6jP5MI3rFRWpg/2oQ78+guoz/lQ43L4POgP+vflO525bE/7S8EKxkUrD9bN9TCu/+rP8Kr9d5n6aU/7jWjtJHUoT/fyp6TpqKhPzWTHVsxo6Q/5G0LybuOoj8jOBSDrIKmP5M8lNCTJ6Q/DupBd52XoT/es3vBj3m1P7gAdrtRaaQ/8OcdLuRxoT/df3IQAHujP8O9DK0bMrE/duXTdHDHsT8jnkvK+kSqPw==",
          "dtype": "f8"
         },
         "yaxis": "y"
        },
        {
         "name": "3 Steps",
         "type": "bar",
         "x": [
          "Battery Park City",
          "Central Park",
          "Chelsea",
          "Chinatown",
          "Civic Center",
          "East Harlem",
          "East Village",
          "Ellis Island",
          "Financial District",
          "Flatiron District",
          "Governors Island",
          "Gramercy",
          "Greenwich Village",
          "Harlem",
          "Hell's Kitchen",
          "Inwood",
          "Kips Bay",
          "Liberty Island",
          "Little Italy",
          "Lower East Side",
          "Marble Hill",
          "Midtown",
          "Morningside Heights",
          "Murray Hill",
          "NoHo",
          "Nolita",
          "Outside Manhattan",
          "Randall's Island",
          "Roosevelt Island",
          "SoHo",
          "Stuyvesant Town",
          "Theater District",
          "Tribeca",
          "Two Bridges",
          "Upper East Side",
          "Upper West Side",
          "Washington Heights",
          "West Village"
         ],
         "xaxis": "x2",
         "y": {
          "bdata": "nU+GDG9uqT9kzuyb6MarP5U/58lGzK4/E0eveAJrpj9TyD9pUrWmP98fH7hzFqg/9KKCBE9Upj9JLIqjidymP0iuOBg6fKc/+KD/dFrrqj/KvdAoa8ykP26ePJw8iqc/NyhhRSabqD8CsNBxAkWtP07JfFkmQLM/oCr+kMayrz8V43f0YfCnP3pxX5Jr36Q/JJMypPQApz987rUKI9alP1a+Q7wfha4/q0FJ+6cYrD80Ya86evqtP9KUjqacWqk/GxotLB2bpj9WfL0s+E+mPwhXQtbc3qc/yPGALUswpz/6cZyXuEKpP+tIw4Th66c/DjjPunSFpj/6EL2EIPGwPzjNPu6z6Kc/Reo1A4Qrpj/97z4PeDGoPwbqAbei068/EwEBUwZ3rz/15M7d3iirPw==",
          "dtype": "f8"
         },
         "yaxis": "y2"
        },
        {
         "name": "5 Steps",
         "type": "bar",
         "x": [
          "Battery Park City",
          "Central Park",
          "Chelsea",
          "Chinatown",
          "Civic Center",
          "East Harlem",
          "East Village",
          "Ellis Island",
          "Financial District",
          "Flatiron District",
          "Governors Island",
          "Gramercy",
          "Greenwich Village",
          "Harlem",
          "Hell's Kitchen",
          "Inwood",
          "Kips Bay",
          "Liberty Island",
          "Little Italy",
          "Lower East Side",
          "Marble Hill",
          "Midtown",
          "Morningside Heights",
          "Murray Hill",
          "NoHo",
          "Nolita",
          "Outside Manhattan",
          "Randall's Island",
          "Roosevelt Island",
          "SoHo",
          "Stuyvesant Town",
          "Theater District",
          "Tribeca",
          "Two Bridges",
          "Upper East Side",
          "Upper West Side",
          "Washington Heights",
          "West Village"
         ],
         "xaxis": "x3",
         "y": {
          "bdata": "Zd7DGZ2yqj87LsdjU8mrPzjTqVk156s/l1n1U6D4qT97Sl4A1heqP2pek/aR/Ko/H2g4JGYQqj/X5Nd4kDOqP/wnA0N9Qao/nzlRuRdLqz+IX5vKnMSpP7SKOOuieao/j+Ux37Czqj97kcYmIROsP10hDu5W+Kw//ZByeb0prD/4pZbtiaKqP4PlckjGFqo/6xnBq8kWqj/BnRTxONqpP6KCAnDb5qs/BsEEL+mOqz9f08s6upasP8xcG62e/6o/9/NPo24oqj/ajUU3Av+pP/NKyBXuW6o/H57AYm6Lqj+QI7dSCdqqPwMlp2Ctb6o/EgE9Fy8uqj+a4bvK/GmsP2hVEcLcXqo/wUCwFxz3qT/epyoKe/yqPz8Jrh9Ssqw/srwpJ7BRrD/+sMQ3ZC+rPw==",
          "dtype": "f8"
         },
         "yaxis": "y3"
        },
        {
         "name": "10 Steps",
         "type": "bar",
         "x": [
          "Battery Park City",
          "Central Park",
          "Chelsea",
          "Chinatown",
          "Civic Center",
          "East Harlem",
          "East Village",
          "Ellis Island",
          "Financial District",
          "Flatiron District",
          "Governors Island",
          "Gramercy",
          "Greenwich Village",
          "Harlem",
          "Hell's Kitchen",
          "Inwood",
          "Kips Bay",
          "Liberty Island",
          "Little Italy",
          "Lower East Side",
          "Marble Hill",
          "Midtown",
          "Morningside Heights",
          "Murray Hill",
          "NoHo",
          "Nolita",
          "Outside Manhattan",
          "Randall's Island",
          "Roosevelt Island",
          "SoHo",
          "Stuyvesant Town",
          "Theater District",
          "Tribeca",
          "Two Bridges",
          "Upper East Side",
          "Upper West Side",
          "Washington Heights",
          "West Village"
         ],
         "xaxis": "x4",
         "y": {
          "bdata": "enpuadFAqz95cQlSj1mrP1Zg+tS+S6s/pcOPeIk8qz9iywuqfj2rPwpzPmBHVas/vctsVhg/qz+gegwGXECrP9zE6f0mP6s/VecXaWNJqz/HQ+ExHDmrPxGRKMWXQ6s/QllAiyZDqz8Z6BT2zFmrP3dnpQxIVas/l85F7/hUqz88S7cAk0arPxbrt3etPKs/KLqIIvg8qz+/4bLPFzyrPxJFIGGXUqs/w+sigjRQqz+j3KV7yF+rPxy1oL5OSqs/pKTO+wM/qz/7CekQTjyrP+Gpa9J8Qqs/YsyNH9ZMqz88vTebbUmrP1pyXPtXP6s/25RsI5xBqz+6+VM0zFKrP7RaqOBWPqs/nXn2/Ho9qz8AcpC1wFOrP3F5SIGlXqs/6GEFXKFYqz+VeQ1JrUSrPw==",
          "dtype": "f8"
         },
         "yaxis": "y4"
        }
       ],
       "layout": {
        "annotations": [
         {
          "font": {
           "size": 16
          },
          "showarrow": false,
          "text": "2 Steps",
          "x": 0.5,
          "xanchor": "center",
          "xref": "paper",
          "y": 1,
          "yanchor": "bottom",
          "yref": "paper"
         },
         {
          "font": {
           "size": 16
          },
          "showarrow": false,
          "text": "3 Steps",
          "x": 0.5,
          "xanchor": "center",
          "xref": "paper",
          "y": 0.7375,
          "yanchor": "bottom",
          "yref": "paper"
         },
         {
          "font": {
           "size": 16
          },
          "showarrow": false,
          "text": "5 Steps",
          "x": 0.5,
          "xanchor": "center",
          "xref": "paper",
          "y": 0.475,
          "yanchor": "bottom",
          "yref": "paper"
         },
         {
          "font": {
           "size": 16
          },
          "showarrow": false,
          "text": "10 Steps",
          "x": 0.5,
          "xanchor": "center",
          "xref": "paper",
          "y": 0.2125,
          "yanchor": "bottom",
          "yref": "paper"
         }
        ],
        "height": 800,
        "showlegend": false,
        "template": {
         "data": {
          "bar": [
           {
            "error_x": {
             "color": "#2a3f5f"
            },
            "error_y": {
             "color": "#2a3f5f"
            },
            "marker": {
             "line": {
              "color": "#E5ECF6",
              "width": 0.5
             },
             "pattern": {
              "fillmode": "overlay",
              "size": 10,
              "solidity": 0.2
             }
            },
            "type": "bar"
           }
          ],
          "barpolar": [
           {
            "marker": {
             "line": {
              "color": "#E5ECF6",
              "width": 0.5
             },
             "pattern": {
              "fillmode": "overlay",
              "size": 10,
              "solidity": 0.2
             }
            },
            "type": "barpolar"
           }
          ],
          "carpet": [
           {
            "aaxis": {
             "endlinecolor": "#2a3f5f",
             "gridcolor": "white",
             "linecolor": "white",
             "minorgridcolor": "white",
             "startlinecolor": "#2a3f5f"
            },
            "baxis": {
             "endlinecolor": "#2a3f5f",
             "gridcolor": "white",
             "linecolor": "white",
             "minorgridcolor": "white",
             "startlinecolor": "#2a3f5f"
            },
            "type": "carpet"
           }
          ],
          "choropleth": [
           {
            "colorbar": {
             "outlinewidth": 0,
             "ticks": ""
            },
            "type": "choropleth"
           }
          ],
          "contour": [
           {
            "colorbar": {
             "outlinewidth": 0,
             "ticks": ""
            },
            "colorscale": [
             [
              0,
              "#0d0887"
             ],
             [
              0.1111111111111111,
              "#46039f"
             ],
             [
              0.2222222222222222,
              "#7201a8"
             ],
             [
              0.3333333333333333,
              "#9c179e"
             ],
             [
              0.4444444444444444,
              "#bd3786"
             ],
             [
              0.5555555555555556,
              "#d8576b"
             ],
             [
              0.6666666666666666,
              "#ed7953"
             ],
             [
              0.7777777777777778,
              "#fb9f3a"
             ],
             [
              0.8888888888888888,
              "#fdca26"
             ],
             [
              1,
              "#f0f921"
             ]
            ],
            "type": "contour"
           }
          ],
          "contourcarpet": [
           {
            "colorbar": {
             "outlinewidth": 0,
             "ticks": ""
            },
            "type": "contourcarpet"
           }
          ],
          "heatmap": [
           {
            "colorbar": {
             "outlinewidth": 0,
             "ticks": ""
            },
            "colorscale": [
             [
              0,
              "#0d0887"
             ],
             [
              0.1111111111111111,
              "#46039f"
             ],
             [
              0.2222222222222222,
              "#7201a8"
             ],
             [
              0.3333333333333333,
              "#9c179e"
             ],
             [
              0.4444444444444444,
              "#bd3786"
             ],
             [
              0.5555555555555556,
              "#d8576b"
             ],
             [
              0.6666666666666666,
              "#ed7953"
             ],
             [
              0.7777777777777778,
              "#fb9f3a"
             ],
             [
              0.8888888888888888,
              "#fdca26"
             ],
             [
              1,
              "#f0f921"
             ]
            ],
            "type": "heatmap"
           }
          ],
          "histogram": [
           {
            "marker": {
             "pattern": {
              "fillmode": "overlay",
              "size": 10,
              "solidity": 0.2
             }
            },
            "type": "histogram"
           }
          ],
          "histogram2d": [
           {
            "colorbar": {
             "outlinewidth": 0,
             "ticks": ""
            },
            "colorscale": [
             [
              0,
              "#0d0887"
             ],
             [
              0.1111111111111111,
              "#46039f"
             ],
             [
              0.2222222222222222,
              "#7201a8"
             ],
             [
              0.3333333333333333,
              "#9c179e"
             ],
             [
              0.4444444444444444,
              "#bd3786"
             ],
             [
              0.5555555555555556,
              "#d8576b"
             ],
             [
              0.6666666666666666,
              "#ed7953"
             ],
             [
              0.7777777777777778,
              "#fb9f3a"
             ],
             [
              0.8888888888888888,
              "#fdca26"
             ],
             [
              1,
              "#f0f921"
             ]
            ],
            "type": "histogram2d"
           }
          ],
          "histogram2dcontour": [
           {
            "colorbar": {
             "outlinewidth": 0,
             "ticks": ""
            },
            "colorscale": [
             [
              0,
              "#0d0887"
             ],
             [
              0.1111111111111111,
              "#46039f"
             ],
             [
              0.2222222222222222,
              "#7201a8"
             ],
             [
              0.3333333333333333,
              "#9c179e"
             ],
             [
              0.4444444444444444,
              "#bd3786"
             ],
             [
              0.5555555555555556,
              "#d8576b"
             ],
             [
              0.6666666666666666,
              "#ed7953"
             ],
             [
              0.7777777777777778,
              "#fb9f3a"
             ],
             [
              0.8888888888888888,
              "#fdca26"
             ],
             [
              1,
              "#f0f921"
             ]
            ],
            "type": "histogram2dcontour"
           }
          ],
          "mesh3d": [
           {
            "colorbar": {
             "outlinewidth": 0,
             "ticks": ""
            },
            "type": "mesh3d"
           }
          ],
          "parcoords": [
           {
            "line": {
             "colorbar": {
              "outlinewidth": 0,
              "ticks": ""
             }
            },
            "type": "parcoords"
           }
          ],
          "pie": [
           {
            "automargin": true,
            "type": "pie"
           }
          ],
          "scatter": [
           {
            "fillpattern": {
             "fillmode": "overlay",
             "size": 10,
             "solidity": 0.2
            },
            "type": "scatter"
           }
          ],
          "scatter3d": [
           {
            "line": {
             "colorbar": {
              "outlinewidth": 0,
              "ticks": ""
             }
            },
            "marker": {
             "colorbar": {
              "outlinewidth": 0,
              "ticks": ""
             }
            },
            "type": "scatter3d"
           }
          ],
          "scattercarpet": [
           {
            "marker": {
             "colorbar": {
              "outlinewidth": 0,
              "ticks": ""
             }
            },
            "type": "scattercarpet"
           }
          ],
          "scattergeo": [
           {
            "marker": {
             "colorbar": {
              "outlinewidth": 0,
              "ticks": ""
             }
            },
            "type": "scattergeo"
           }
          ],
          "scattergl": [
           {
            "marker": {
             "colorbar": {
              "outlinewidth": 0,
              "ticks": ""
             }
            },
            "type": "scattergl"
           }
          ],
          "scattermap": [
           {
            "marker": {
             "colorbar": {
              "outlinewidth": 0,
              "ticks": ""
             }
            },
            "type": "scattermap"
           }
          ],
          "scattermapbox": [
           {
            "marker": {
             "colorbar": {
              "outlinewidth": 0,
              "ticks": ""
             }
            },
            "type": "scattermapbox"
           }
          ],
          "scatterpolar": [
           {
            "marker": {
             "colorbar": {
              "outlinewidth": 0,
              "ticks": ""
             }
            },
            "type": "scatterpolar"
           }
          ],
          "scatterpolargl": [
           {
            "marker": {
             "colorbar": {
              "outlinewidth": 0,
              "ticks": ""
             }
            },
            "type": "scatterpolargl"
           }
          ],
          "scatterternary": [
           {
            "marker": {
             "colorbar": {
              "outlinewidth": 0,
              "ticks": ""
             }
            },
            "type": "scatterternary"
           }
          ],
          "surface": [
           {
            "colorbar": {
             "outlinewidth": 0,
             "ticks": ""
            },
            "colorscale": [
             [
              0,
              "#0d0887"
             ],
             [
              0.1111111111111111,
              "#46039f"
             ],
             [
              0.2222222222222222,
              "#7201a8"
             ],
             [
              0.3333333333333333,
              "#9c179e"
             ],
             [
              0.4444444444444444,
              "#bd3786"
             ],
             [
              0.5555555555555556,
              "#d8576b"
             ],
             [
              0.6666666666666666,
              "#ed7953"
             ],
             [
              0.7777777777777778,
              "#fb9f3a"
             ],
             [
              0.8888888888888888,
              "#fdca26"
             ],
             [
              1,
              "#f0f921"
             ]
            ],
            "type": "surface"
           }
          ],
          "table": [
           {
            "cells": {
             "fill": {
              "color": "#EBF0F8"
             },
             "line": {
              "color": "white"
             }
            },
            "header": {
             "fill": {
              "color": "#C8D4E3"
             },
             "line": {
              "color": "white"
             }
            },
            "type": "table"
           }
          ]
         },
         "layout": {
          "annotationdefaults": {
           "arrowcolor": "#2a3f5f",
           "arrowhead": 0,
           "arrowwidth": 1
          },
          "autotypenumbers": "strict",
          "coloraxis": {
           "colorbar": {
            "outlinewidth": 0,
            "ticks": ""
           }
          },
          "colorscale": {
           "diverging": [
            [
             0,
             "#8e0152"
            ],
            [
             0.1,
             "#c51b7d"
            ],
            [
             0.2,
             "#de77ae"
            ],
            [
             0.3,
             "#f1b6da"
            ],
            [
             0.4,
             "#fde0ef"
            ],
            [
             0.5,
             "#f7f7f7"
            ],
            [
             0.6,
             "#e6f5d0"
            ],
            [
             0.7,
             "#b8e186"
            ],
            [
             0.8,
             "#7fbc41"
            ],
            [
             0.9,
             "#4d9221"
            ],
            [
             1,
             "#276419"
            ]
           ],
           "sequential": [
            [
             0,
             "#0d0887"
            ],
            [
             0.1111111111111111,
             "#46039f"
            ],
            [
             0.2222222222222222,
             "#7201a8"
            ],
            [
             0.3333333333333333,
             "#9c179e"
            ],
            [
             0.4444444444444444,
             "#bd3786"
            ],
            [
             0.5555555555555556,
             "#d8576b"
            ],
            [
             0.6666666666666666,
             "#ed7953"
            ],
            [
             0.7777777777777778,
             "#fb9f3a"
            ],
            [
             0.8888888888888888,
             "#fdca26"
            ],
            [
             1,
             "#f0f921"
            ]
           ],
           "sequentialminus": [
            [
             0,
             "#0d0887"
            ],
            [
             0.1111111111111111,
             "#46039f"
            ],
            [
             0.2222222222222222,
             "#7201a8"
            ],
            [
             0.3333333333333333,
             "#9c179e"
            ],
            [
             0.4444444444444444,
             "#bd3786"
            ],
            [
             0.5555555555555556,
             "#d8576b"
            ],
            [
             0.6666666666666666,
             "#ed7953"
            ],
            [
             0.7777777777777778,
             "#fb9f3a"
            ],
            [
             0.8888888888888888,
             "#fdca26"
            ],
            [
             1,
             "#f0f921"
            ]
           ]
          },
          "colorway": [
           "#636efa",
           "#EF553B",
           "#00cc96",
           "#ab63fa",
           "#FFA15A",
           "#19d3f3",
           "#FF6692",
           "#B6E880",
           "#FF97FF",
           "#FECB52"
          ],
          "font": {
           "color": "#2a3f5f"
          },
          "geo": {
           "bgcolor": "white",
           "lakecolor": "white",
           "landcolor": "#E5ECF6",
           "showlakes": true,
           "showland": true,
           "subunitcolor": "white"
          },
          "hoverlabel": {
           "align": "left"
          },
          "hovermode": "closest",
          "mapbox": {
           "style": "light"
          },
          "paper_bgcolor": "white",
          "plot_bgcolor": "#E5ECF6",
          "polar": {
           "angularaxis": {
            "gridcolor": "white",
            "linecolor": "white",
            "ticks": ""
           },
           "bgcolor": "#E5ECF6",
           "radialaxis": {
            "gridcolor": "white",
            "linecolor": "white",
            "ticks": ""
           }
          },
          "scene": {
           "xaxis": {
            "backgroundcolor": "#E5ECF6",
            "gridcolor": "white",
            "gridwidth": 2,
            "linecolor": "white",
            "showbackground": true,
            "ticks": "",
            "zerolinecolor": "white"
           },
           "yaxis": {
            "backgroundcolor": "#E5ECF6",
            "gridcolor": "white",
            "gridwidth": 2,
            "linecolor": "white",
            "showbackground": true,
            "ticks": "",
            "zerolinecolor": "white"
           },
           "zaxis": {
            "backgroundcolor": "#E5ECF6",
            "gridcolor": "white",
            "gridwidth": 2,
            "linecolor": "white",
            "showbackground": true,
            "ticks": "",
            "zerolinecolor": "white"
           }
          },
          "shapedefaults": {
           "line": {
            "color": "#2a3f5f"
           }
          },
          "ternary": {
           "aaxis": {
            "gridcolor": "white",
            "linecolor": "white",
            "ticks": ""
           },
           "baxis": {
            "gridcolor": "white",
            "linecolor": "white",
            "ticks": ""
           },
           "bgcolor": "#E5ECF6",
           "caxis": {
            "gridcolor": "white",
            "linecolor": "white",
            "ticks": ""
           }
          },
          "title": {
           "x": 0.05
          },
          "xaxis": {
           "automargin": true,
           "gridcolor": "white",
           "linecolor": "white",
           "ticks": "",
           "title": {
            "standoff": 15
           },
           "zerolinecolor": "white",
           "zerolinewidth": 2
          },
          "yaxis": {
           "automargin": true,
           "gridcolor": "white",
           "linecolor": "white",
           "ticks": "",
           "title": {
            "standoff": 15
           },
           "zerolinecolor": "white",
           "zerolinewidth": 2
          }
         }
        },
        "xaxis": {
         "anchor": "y",
         "domain": [
          0,
          1
         ],
         "matches": "x4",
         "showticklabels": false
        },
        "xaxis2": {
         "anchor": "y2",
         "domain": [
          0,
          1
         ],
         "matches": "x4",
         "showticklabels": false
        },
        "xaxis3": {
         "anchor": "y3",
         "domain": [
          0,
          1
         ],
         "matches": "x4",
         "showticklabels": false
        },
        "xaxis4": {
         "anchor": "y4",
         "domain": [
          0,
          1
         ],
         "title": {
          "text": "Neighborhood"
         }
        },
        "yaxis": {
         "anchor": "x",
         "domain": [
          0.7875,
          1
         ],
         "title": {
          "text": "Probability"
         }
        },
        "yaxis2": {
         "anchor": "x2",
         "domain": [
          0.525,
          0.7375
         ],
         "title": {
          "text": "Probability"
         }
        },
        "yaxis3": {
         "anchor": "x3",
         "domain": [
          0.2625,
          0.475
         ],
         "title": {
          "text": "Probability"
         }
        },
        "yaxis4": {
         "anchor": "x4",
         "domain": [
          0,
          0.2125
         ],
         "title": {
          "text": "Probability"
         }
        }
       }
      }
     },
     "metadata": {},
     "output_type": "display_data"
    }
   ],
   "source": [
    "from plotly.subplots import make_subplots\n",
    "import plotly.graph_objects as go\n",
    "\n",
    "# Create subplots with shared x-axis\n",
    "fig = make_subplots(\n",
    "    rows=4, cols=1,\n",
    "    shared_xaxes=True,\n",
    "    shared_yaxes=True,\n",
    "    subplot_titles=(\"2 Steps\", \"3 Steps\", \"5 Steps\", \"10 Steps\"),\n",
    "    vertical_spacing=0.05\n",
    ")\n",
    "\n",
    "# Add each bar chart as a subplot\n",
    "fig.add_trace(\n",
    "    go.Bar(x=transition_prob_matrix.columns.values, y=two_steps, name=\"2 Steps\"),\n",
    "    row=1, col=1\n",
    ")\n",
    "\n",
    "fig.add_trace(\n",
    "    go.Bar(x=transition_prob_matrix.columns.values, y=three_steps, name=\"3 Steps\"),\n",
    "    row=2, col=1\n",
    ")\n",
    "\n",
    "fig.add_trace(\n",
    "    go.Bar(x=transition_prob_matrix.columns.values, y=five_steps, name=\"5 Steps\"),\n",
    "    row=3, col=1\n",
    ")\n",
    "\n",
    "fig.add_trace(\n",
    "    go.Bar(x=transition_prob_matrix.columns.values, y=ten_steps, name=\"10 Steps\"),\n",
    "    row=4, col=1\n",
    ")\n",
    "\n",
    "# Update layout\n",
    "fig.update_xaxes(title_text=\"Neighborhood\", row=4, col=1)\n",
    "fig.update_yaxes(title_text=\"Probability\")\n",
    "fig.update_layout(height=800, showlegend=False)\n",
    "\n",
    "fig.show()"
   ]
  }
 ],
 "metadata": {
  "kernelspec": {
   "display_name": "understanding_uncertainty",
   "language": "python",
   "name": "python3"
  },
  "language_info": {
   "codemirror_mode": {
    "name": "ipython",
    "version": 3
   },
   "file_extension": ".py",
   "mimetype": "text/x-python",
   "name": "python",
   "nbconvert_exporter": "python",
   "pygments_lexer": "ipython3",
   "version": "3.13.5"
  }
 },
 "nbformat": 4,
 "nbformat_minor": 5
}

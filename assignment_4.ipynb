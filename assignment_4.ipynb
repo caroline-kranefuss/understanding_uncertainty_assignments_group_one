{
 "cells": [
  {
   "cell_type": "markdown",
   "id": "ff443e6e",
   "metadata": {},
   "source": [
    "# Assignment 4\n",
    "### Do three of four."
   ]
  },
  {
   "cell_type": "markdown",
   "id": "47949236",
   "metadata": {},
   "source": [
    "### Exercise 1: Contingent Comparisons\n",
    "- Load the Minnesota use of force data.\n",
    "- Bootstrap the proportion of missing values for `subject_injury` for each race, and plot the results with grouped KDE and ECDF plots\n",
    "- Describe what you see. When we consider second order uncertainty, how similar or different are the sampling distributions of these proportions? "
   ]
  },
  {
   "cell_type": "code",
   "source": [
    "import pandas as pd\n",
    "import numpy as np\n",
    "import seaborn as sns\n",
   ]
  },
  {
   "cell_type": "code",
   ]
  },
  {
   "cell_type": "code",
      "text/plain": [
       "<Figure size 640x480 with 1 Axes>"
      ]
     },
     "metadata": {},
     "output_type": "display_data"
    }
   ],
   "source": [
   ]
  },
  {
   "cell_type": "code",
     "metadata": {},
     "output_type": "execute_result"
    },
    {
     "data": {
      "text/plain": [
       "<Figure size 640x480 with 1 Axes>"
      ]
     },
     "metadata": {},
     "output_type": "display_data"
    }
   ],
  },
  {
   "cell_type": "markdown",
   "id": "18fdd9ba",
   "metadata": {},
   "source": [
    "### Exercise 2: Invitation to Inference\n",
    "- Run the simulation code line by line and comment what each line is doing, or write your own code to do the resampling\n",
    "- Open the NHANES or Ames prices or College Completion data. Pick a variable and a statistic to compute (e.g. mean, median, variance, IQR)\n",
    "- Use the `simulate` function from class to get a sample of estimates for your statistic and your data\n",
    "- Create a new function, `interval(L,H,estimates)`, that computes the $L$-th and $H$-th quantiles for your estimates, $H>L$\n",
    "- If $L=.05$ and $H=.95$, this is a **90-percent confidence interval**: \"For our statistic, this interval captures the true value of the population parameter 90 percent of the time. (We are 90% **confident** that it includes the true value of the parameter, but the probability that the true parameter lies in this interval is 0 or 1.)\"\n",
    "- We will spend much more time on this later in class, but for people who have done hypothesis testing before, you now know how to do it directly from the data: No central limit theorem required."
   ]
  },
  {
   "cell_type": "code",
   "execution_count": null,
   "metadata": {},
   "outputs": [],
   "source": [
    "## Our statistic to bootstrap:\n",
    "def stat(x):\n",
    "    stat = np.mean(x) # Take the mean of all the x values\n",
    "    return stat # Return it \n",
    "\n",
    "def simulate(var, df, fcn, S=1000, plot=True):\n",
    "    ''' Bootstrap simulation code. '''    \n",
    "    x = df[var] # choose the column you want to analyze\n",
    "\n",
    "    estimates = [] # Make an empty array\n",
    "    for s in range(S):\n",
    "        # Draw a new sample, of same size as original, with replacement:\n",
    "        x_s = x.sample(frac=1.0,replace=True)\n",
    "        # Compute statistic (often the mean):\n",
=======
    "    return stat # Return it\n",
    "    \n",
    "def simulate(var, df, fcn, S=1000, plot=True):\n",
    "    ''' Bootstrap simulation code. '''    \n",
    "    x = df[var] # Choose the column you want to analyze\n",
    "\n",
    "    estimates = [] # Make an empty list\n",
    "    for s in range(S):\n",
    "        # Draw a new sample of same size as original, with replacement:\n",
    "        x_s = x.sample(frac=1.0,replace=True)\n",
    "        # Compute statistic(often the mean):\n",
    "        stat_s = fcn(x_s)\n",
    "        # Append estimate:\n",
    "        estimates.append(stat_s)\n",
    "    estimates = np.array(estimates) # Convert estimates list to numpy array\n",
    "\n",
    "    ## or in one line, \n",
   ]
  },
  {
   "cell_type": "markdown",
   "id": "8bab3ea0",
   "metadata": {},
   "source": [
    "### Exercise 3: Intro to A/B Testing\n",
    "- Go here, and read about this study: https://www.clinicaltrials.gov/study/NCT01985360\n",
    "- Read the Study Overview and explain what the goal of the trial is \n",
    "- Read the Study Plan and explain how it was designed and why -- there's lots of medical jargon, but the main point is how patients were assigned to interventions. \n",
    "- Read the Results Posted: Go to **Outcome Measures**. Explain how table 1 (\"Incidence of Death from Any Cause or Myocardial Infarction\") is a contingency table. These are the data for this exercise.\n",
    "- What is the difference in surival rates between the invasive strategy and the conservative strategy?\n",
    "- Bootstrap the survival rates for the two groups, and plot them as KDEs and ECDFs against one another\n",
    "- Bootstrap the difference in surival rates, and plot it as a KDE and ECDF\n",
    "- Is this an effective health intervention? Explain your answer clearly\n",
    "\n",
    "This would be what CS people call **A/B testing** and everyone else called a **randomized controlled trial**: Using randomized assignment to detect the difference in outcomes between two groups. (We've just done a non-parametric version of a two-sample t-test.)"
   ]
  },
  {
   "cell_type": "markdown",
   "id": "3a02871b",
   "metadata": {},
   "source": [
    "This study is examining different treatments of a type of heart disease or kidney disease. There are more invasive treatments and more conservative treatments, and they want to explore whether an invasive, catheter-based treatment helps with mortality rates after 2.2 years.\n",
    "\n",
    "There is a primary aim and two secondary aims. The primary aim is to find whether a OMT plus cardiac catheterization plus optimal revascularization will improve outcomes for SIHD (stable ischemic (not caused by disease) heart disease)/ischemic/kidney disease patients. One secondary aim is to compare death/hospitalization/heart attack/cardiac arrest go down because of this experimental procedure. Another is to compare quality of life.\n",
    "\n",
    "Patients were assigned to either an invasive or conservative strategy, the latter of which is only for patients with optimal medical therapy failure (i.e, when the symptoms or disease get worse/can't be controlled). Invasive includes three possible procedures - catheterization, a bypass, or a percutaneous coronary intervention (i.e, insertion of stent). Drugs and lifestyle changes can be used in either invasive or conservative strategy. \n",
    "\n",
    "This is a contingency table because it compares two categorical varaibles (dead or alive, type of strategy) and shows the proportion of the number of participants undergoing that strategy vs the number of participants who are dead as compared to the number of participants analyzed (i.e., the percent of subjects who fall into 2 categories).\n",
    "\n",
    "The invasive strategy survival rate is 68.3%, the conservative strategy survival rate is 66.8%. "
   ]
  },
  {
   "cell_type": "code",
   "execution_count": null,
   "id": "c556fccc",
   "metadata": {},
   "outputs": [],
   "source": [
    "# Initialize variables\n",
    "\n",
    "invasive_particp = 388\n",
    "invasive_dead = 123\n",
    "invasive_alive = invasive_particp - invasive_dead\n",
    "\n",
    "conservative_particp = 389\n",
    "conservative_dead = 129\n",
    "conservative_alive = conservative_particp - conservative_dead\n",
    "\n",
    "total_particp = invasive_particp + conservative_particp\n",
    "total_dead = invasive_dead + conservative_dead\n",
    "total_alive = invasive_alive + conservative_alive\n",
    "\n",
    "# Make a 389x1 array to represent invasive participants\n",
    "invasive_arr = [None for i in range(0, invasive_particp + 1)] # Add one so that evnentual dfs are same size\n",
    "for i in range(0,invasive_dead):\n",
    "    invasive_arr[i] = 1 #Dead\n",
    "for i in range(invasive_dead, len(invasive_arr)-1): # Leave that extra one as None\n",
    "    invasive_arr[i] = 0 #Alive\n",
    "\n",
    "# Make a 389x1 array for conservative participants\n",
    "conservative_arr = [None for i in range(0, conservative_particp)]\n",
    "for i in range(0,conservative_dead):\n",
    "    conservative_arr[i] = 1 #Dead\n",
    "for i in range(conservative_dead, len(conservative_arr)):\n",
    "    conservative_arr[i] = 0 #Alive"
   ]
  },
  {
   "cell_type": "code",
   "execution_count": null,
   "id": "e74a6a33",
   "metadata": {},
   "outputs": [
    {
     "data": {
      "text/html": [
       "<div>\n",
       "<style scoped>\n",
       "    .dataframe tbody tr th:only-of-type {\n",
       "        vertical-align: middle;\n",
       "    }\n",
       "\n",
       "    .dataframe tbody tr th {\n",
       "        vertical-align: top;\n",
       "    }\n",
       "\n",
       "    .dataframe thead th {\n",
       "        text-align: right;\n",
       "    }\n",
       "</style>\n",
       "<table border=\"1\" class=\"dataframe\">\n",
       "  <thead>\n",
       "    <tr style=\"text-align: right;\">\n",
       "      <th></th>\n",
       "      <th>Invasive</th>\n",
       "    </tr>\n",
       "  </thead>\n",
       "  <tbody>\n",
       "    <tr>\n",
       "      <th>0</th>\n",
       "      <td>1.0</td>\n",
       "    </tr>\n",
       "    <tr>\n",
       "      <th>1</th>\n",
       "      <td>1.0</td>\n",
       "    </tr>\n",
       "    <tr>\n",
       "      <th>2</th>\n",
       "      <td>1.0</td>\n",
       "    </tr>\n",
       "    <tr>\n",
       "      <th>3</th>\n",
       "      <td>1.0</td>\n",
       "    </tr>\n",
       "    <tr>\n",
       "      <th>4</th>\n",
       "      <td>1.0</td>\n",
       "    </tr>\n",
       "    <tr>\n",
       "      <th>...</th>\n",
       "      <td>...</td>\n",
       "    </tr>\n",
       "    <tr>\n",
       "      <th>384</th>\n",
       "      <td>0.0</td>\n",
       "    </tr>\n",
       "    <tr>\n",
       "      <th>385</th>\n",
       "      <td>0.0</td>\n",
       "    </tr>\n",
       "    <tr>\n",
       "      <th>386</th>\n",
       "      <td>0.0</td>\n",
       "    </tr>\n",
       "    <tr>\n",
       "      <th>387</th>\n",
       "      <td>0.0</td>\n",
       "    </tr>\n",
       "    <tr>\n",
       "      <th>388</th>\n",
       "      <td>NaN</td>\n",
       "    </tr>\n",
       "  </tbody>\n",
       "</table>\n",
       "<p>389 rows × 1 columns</p>\n",
       "</div>"
      ],
      "text/plain": [
       "     Invasive\n",
       "0         1.0\n",
       "1         1.0\n",
       "2         1.0\n",
       "3         1.0\n",
       "4         1.0\n",
       "..        ...\n",
       "384       0.0\n",
       "385       0.0\n",
       "386       0.0\n",
       "387       0.0\n",
       "388       NaN\n",
       "\n",
       "[389 rows x 1 columns]"
      ]
     },
     "execution_count": 172,
     "metadata": {},
     "output_type": "execute_result"
    }
   ],
   "source": [
    "# Make dfs\n",
    "\n",
    "invasive_data = {'Invasive': invasive_arr}\n",
    "conservative_data = {'Conservative': conservative_arr}\n",
    "\n",
    "invasive_df = pd.DataFrame(invasive_data)\n",
    "conservative_df = pd.DataFrame(conservative_data)\n",
    "\n",
    "invasive_df"
   ]
  },
  {
   "cell_type": "code",
   "execution_count": null,
   "id": "3ccce3ed",
   "metadata": {},
   "outputs": [
    {
     "data": {
      "text/html": [
       "<div>\n",
       "<style scoped>\n",
       "    .dataframe tbody tr th:only-of-type {\n",
       "        vertical-align: middle;\n",
       "    }\n",
       "\n",
       "    .dataframe tbody tr th {\n",
       "        vertical-align: top;\n",
       "    }\n",
       "\n",
       "    .dataframe thead th {\n",
       "        text-align: right;\n",
       "    }\n",
       "</style>\n",
       "<table border=\"1\" class=\"dataframe\">\n",
       "  <thead>\n",
       "    <tr style=\"text-align: right;\">\n",
       "      <th></th>\n",
       "      <th>Invasive</th>\n",
       "      <th>Conservative</th>\n",
       "      <th>Difference</th>\n",
       "    </tr>\n",
       "  </thead>\n",
       "  <tbody>\n",
       "    <tr>\n",
       "      <th>0</th>\n",
       "      <td>0.291237</td>\n",
       "      <td>0.321337</td>\n",
       "      <td>0.030100</td>\n",
       "    </tr>\n",
       "    <tr>\n",
       "      <th>1</th>\n",
       "      <td>0.306701</td>\n",
       "      <td>0.365039</td>\n",
       "      <td>0.058338</td>\n",
       "    </tr>\n",
       "    <tr>\n",
       "      <th>2</th>\n",
       "      <td>0.358247</td>\n",
       "      <td>0.334190</td>\n",
       "      <td>-0.024057</td>\n",
       "    </tr>\n",
       "    <tr>\n",
       "      <th>3</th>\n",
       "      <td>0.298701</td>\n",
       "      <td>0.341902</td>\n",
       "      <td>0.043201</td>\n",
       "    </tr>\n",
       "    <tr>\n",
       "      <th>4</th>\n",
       "      <td>0.332474</td>\n",
       "      <td>0.313625</td>\n",
       "      <td>-0.018850</td>\n",
       "    </tr>\n",
       "    <tr>\n",
       "      <th>...</th>\n",
       "      <td>...</td>\n",
       "      <td>...</td>\n",
       "      <td>...</td>\n",
       "    </tr>\n",
       "    <tr>\n",
       "      <th>1995</th>\n",
       "      <td>0.330749</td>\n",
       "      <td>0.334190</td>\n",
       "      <td>0.003441</td>\n",
       "    </tr>\n",
       "    <tr>\n",
       "      <th>1996</th>\n",
       "      <td>0.286082</td>\n",
       "      <td>0.300771</td>\n",
       "      <td>0.014689</td>\n",
       "    </tr>\n",
       "    <tr>\n",
       "      <th>1997</th>\n",
       "      <td>0.301546</td>\n",
       "      <td>0.318766</td>\n",
       "      <td>0.017220</td>\n",
       "    </tr>\n",
       "    <tr>\n",
       "      <th>1998</th>\n",
       "      <td>0.332474</td>\n",
       "      <td>0.336761</td>\n",
       "      <td>0.004287</td>\n",
       "    </tr>\n",
       "    <tr>\n",
       "      <th>1999</th>\n",
       "      <td>0.321337</td>\n",
       "      <td>0.326478</td>\n",
       "      <td>0.005141</td>\n",
       "    </tr>\n",
       "  </tbody>\n",
       "</table>\n",
       "<p>2000 rows × 3 columns</p>\n",
       "</div>"
      ],
      "text/plain": [
       "      Invasive  Conservative  Difference\n",
       "0     0.291237      0.321337    0.030100\n",
       "1     0.306701      0.365039    0.058338\n",
       "2     0.358247      0.334190   -0.024057\n",
       "3     0.298701      0.341902    0.043201\n",
       "4     0.332474      0.313625   -0.018850\n",
       "...        ...           ...         ...\n",
       "1995  0.330749      0.334190    0.003441\n",
       "1996  0.286082      0.300771    0.014689\n",
       "1997  0.301546      0.318766    0.017220\n",
       "1998  0.332474      0.336761    0.004287\n",
       "1999  0.321337      0.326478    0.005141\n",
       "\n",
       "[2000 rows x 3 columns]"
      ]
     },
     "execution_count": 195,
     "metadata": {},
     "output_type": "execute_result"
    }
   ],
   "source": [
    "# Bootstrap (drawing new samples with replacement) the mean for each df\n",
    "\n",
    "import numpy as np\n",
    "\n",
    "def bootstrap(x):\n",
    "    estimates = [np.mean(x.sample(frac=1.0,replace=True)) for s in range(2000)]\n",
    "    return estimates\n",
    "\n",
    "# Bootstrap for invasive_dead\n",
    "bootstrap_invasive = bootstrap(invasive_df)\n",
    "bootstrap_conservative = bootstrap(conservative_df)\n",
    "bootstrap_diff = [bootstrap_conservative[i] - bootstrap_invasive[i] for i in range(0,len(bootstrap_conservative))]\n",
    "\n",
    "bootstrap_invasive_data = {'Invasive': bootstrap_invasive}\n",
    "bootstrap_conservative_data = {'Conservative': bootstrap_conservative}\n",
    "bootstrap_diff = {'Difference': bootstrap_diff}\n",
    "\n",
    "bootstrap_invasive_df = pd.DataFrame(bootstrap_invasive_data)\n",
    "bootstrap_conservative_df = pd.DataFrame(bootstrap_conservative_data)\n",
    "bootstrap_diff_df = pd.DataFrame(bootstrap_diff)\n",
    "\n",
    "heart_bootstrap_df = pd.concat([bootstrap_invasive_df, bootstrap_conservative_df, bootstrap_diff_df], axis=1)\n",
    "heart_bootstrap_df\n"
   ]
  },
  {
   "cell_type": "code",
   "execution_count": null,
   "id": "5fa098d9",
   "metadata": {},
   "outputs": [
    {
     "data": {
      "text/plain": [
       "<Axes: ylabel='Density'>"
      ]
     },
     "execution_count": 196,
     "metadata": {},
     "output_type": "execute_result"
    },
    {
     "data": {
      "image/png": "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",
      "text/plain": [
       "<Figure size 640x480 with 1 Axes>"
      ]
     },
     "metadata": {},
     "output_type": "display_data"
    }
   ],
   "source": [
    "# Plot KDE and ECDF\n",
    "\n",
    "import seaborn as sns\n",
    "\n",
    "sns.kdeplot(heart_bootstrap_df)"
   ]
  },
  {
   "cell_type": "code",
   "execution_count": null,
   "id": "3bf0b1f3",
   "metadata": {},
   "outputs": [
    {
     "data": {
      "text/plain": [
       "<Axes: ylabel='Proportion'>"
      ]
     },
     "execution_count": 197,
     "metadata": {},
     "output_type": "execute_result"
    },
    {
     "data": {
      "image/png": "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",
      "text/plain": [
       "<Figure size 640x480 with 1 Axes>"
      ]
     },
     "metadata": {},
     "output_type": "display_data"
    }
   ],
   "source": [
    "sns.ecdfplot(heart_bootstrap_df)"
   ]
  },
  {
   "cell_type": "markdown",
   "id": "4a65020b",
   "metadata": {},
   "source": [
    "The difference is zero enough of the time to not be significant. I.e., a mean of 0 is within a 90% confidence interval (seen by looking at the ECDF graph), so we fail to reject the null."
   ]
  },
  {
   "cell_type": "markdown",
   "id": "fbc5b568",
   "metadata": {},
   "source": [
    "### Exercise 4: Prediction Uncertainty\n",
    "- Pick a dataset and two continuous variables.\n",
    "- Recall the LCLS estimator:\n",
    "$$\n",
    "\\hat{y}(z) =  \\frac{ \\frac{1}{N} \\sum_{i=1}^N y_i \\times \\frac{1}{h}k\\left( \\frac{z - x_i}{h} \\right)}{ \\frac{1}{N} \\sum_{i=1}^N \\frac{1}{h} k\\left( \\frac{z - x_i}{h} \\right)}\n",
    "$$\n",
    "with the Epanechnikov kernel and the standard plug-in bandwidth for $h$\n",
    "- Compute and plot this line for 30 bootstrap samples. Notice where there is a lot of variation in the predictions, versus little variation in the predictions.\n",
    "- Now, for any $z$, we can bootstrap a distribution of predictions using the above formula. Do this at the 25th percentile, median, and 75th percentile of $X$, and make KDE plots of your results.\n",
    "- Now, pick a grid for $z$: Obvious choices are all of the unique values in the data, or an equally spaced grid from the minimum value to the maximum value. For each $z$, bootstrap a sample of predictions and compute the .05 and .95 quantiles. Plot these error curves along with your LCLS estimate. Where are your predictions \"tight\"/reliable? Where are they highly variable/unreliable?"
   ]
  }
 ],
 "metadata": {
  "kernelspec": {
   "language": "python",
   "name": "python3"
  },
  "language_info": {
   "codemirror_mode": {
    "name": "ipython",
    "version": 3
   },
   "file_extension": ".py",
   "mimetype": "text/x-python",
   "name": "python",
   "nbconvert_exporter": "python",
   "pygments_lexer": "ipython3",
   "version": "3.13.5"
  }
 },
 "nbformat": 4,
 "nbformat_minor": 5
}

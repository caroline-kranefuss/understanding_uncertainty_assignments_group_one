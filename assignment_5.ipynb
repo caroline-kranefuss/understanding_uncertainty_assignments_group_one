{
 "cells": [
  {
   "cell_type": "markdown",
   "id": "dd21efe9",
   "metadata": {},
   "source": [
    "# Assignment 5\n",
    "### Do all four questions."
   ]
  },
  {
   "cell_type": "markdown",
   "id": "1ee9b4e8",
   "metadata": {},
   "source": [
    "**1.** Let's review some basic matrix multiplication. When you have an $M \\times N$ matrix $A$ with $M$ rows and $N$ columns, \n",
    "$$\n",
    "A= \\left[ \\begin{array}{cccc} a_{11} & a_{12} & ... & a_{1N} \\\\\n",
    "a_{21} & a_{22} & ... & a_{2N} \\\\\n",
    "\\vdots & \\vdots & ... & \\vdots \\\\\n",
    "a_{M1} & a_{M2} & ... & a_{MN} \n",
    "\\end{array} \\right],\n",
    "$$\n",
    "and you right-multiply it by a vector\n",
    "$$\n",
    "x = \\left[ \\begin{array}{c} x_1 \\\\ x_2 \\\\ \\vdots \\\\ x_N \n",
    "\\end{array} \\right],\n",
    "$$\n",
    "you get\n",
    "$$\n",
    "Ax = \\left[ \\begin{array}{c} \\sum_{i=1}^N a_{1i} x_i \\\\ \\sum_{i=1}^N a_{2i} x_i \\\\ \\vdots \\\\ \\sum_{i=1}^N a_{Mi} x_i \n",
    "\\end{array} \\right].\n",
    "$$\n",
    "This is just \"matrix row times column vector\" element-by-element, stacking the results into a new vector.\n",
    "\n",
    "For this to make sense, $N$ must be the same for the matrix and the vector, but $M$ can be different from $N$. \n",
    "\n",
    "Let's play with some NumPy to see this. First we'll define a matrix $A$:"
   ]
  },
  {
   "cell_type": "code",
   "execution_count": 2,
   "id": "33df3579",
   "metadata": {},
   "outputs": [
    {
     "data": {
      "text/plain": [
       "array([[1, 2, 3],\n",
       "       [4, 5, 6],\n",
       "       [7, 8, 9]])"
      ]
     },
     "execution_count": 2,
     "metadata": {},
     "output_type": "execute_result"
    }
   ],
   "source": [
    "import numpy as np\n",
    "\n",
    "A = np.array([ [1,2,3],\n",
    "              [4,5,6],\n",
    "              [7,8,9]])\n",
    "A"
   ]
  },
  {
   "cell_type": "markdown",
   "id": "94b1b3ac",
   "metadata": {},
   "source": [
    "a. Multiply $A$ times each of the following vectors using the @ operator. Explain which part of the $A$ matrix gets selected and explain why, using the definition of matrix multiplication. "
   ]
  },
  {
   "cell_type": "code",
   "execution_count": 3,
   "id": "5b6148d2",
   "metadata": {},
   "outputs": [],
   "source": [
    "e_1 = np.array([1,0,0])\n",
    "e_2 = np.array([0,1,0])\n",
    "e_3 = np.array([0,0,1])"
   ]
  },
  {
   "cell_type": "code",
   "execution_count": 4,
   "id": "150d025a",
   "metadata": {},
   "outputs": [
    {
     "data": {
      "text/plain": [
       "array([1, 4, 7])"
      ]
     },
     "execution_count": 4,
     "metadata": {},
     "output_type": "execute_result"
    }
   ],
   "source": [
    "A@e_1 \n",
    "# Selects the the first column of A (1,4,7) \n",
    "# This is because the row vector is multiplied by each row, summing the multiplicative results of each element in the row times each corresponding element in the column vector.\n",
    "# Since the second two elements in the column vector are 0, the second two elements in each row multiply to zero, leaving only the items in the first column in the summation."
   ]
  },
  {
   "cell_type": "code",
   "execution_count": 5,
   "id": "a8c985fc",
   "metadata": {},
   "outputs": [
    {
     "data": {
      "text/plain": [
       "array([2, 5, 8])"
      ]
     },
     "execution_count": 5,
     "metadata": {},
     "output_type": "execute_result"
    }
   ],
   "source": [
    "A@e_2\n",
    "# Selects the second column of A (2,5,8) for the same reasons."
   ]
  },
  {
   "cell_type": "code",
   "execution_count": 6,
   "id": "015065b3",
   "metadata": {},
   "outputs": [
    {
     "data": {
      "text/plain": [
       "array([3, 6, 9])"
      ]
     },
     "execution_count": 6,
     "metadata": {},
     "output_type": "execute_result"
    }
   ],
   "source": [
    "A@e_3\n",
    "# Selects the third column of A (2,5,8) for the same reasons."
   ]
  },
  {
   "cell_type": "markdown",
   "id": "72a4704e",
   "metadata": {},
   "source": [
    "b. Now multiply $A$ times $u = (1,1,1)$. Explain the logic of the result with the definition of matrix multiplication."
   ]
  },
  {
   "cell_type": "code",
   "execution_count": 7,
   "id": "5bf73f9b",
   "metadata": {},
   "outputs": [],
   "source": [
    "u = np.ones(3)"
   ]
  },
  {
   "cell_type": "code",
   "execution_count": 8,
   "id": "0f27c8fb",
   "metadata": {},
   "outputs": [
    {
     "data": {
      "text/plain": [
       "array([ 6., 15., 24.])"
      ]
     },
     "execution_count": 8,
     "metadata": {},
     "output_type": "execute_result"
    }
   ],
   "source": [
    "A@u\n",
    "# This result is just addition across rows.\n",
    "# In matrix multiplication, each element of the column vector is multiplied by the element in x that has the same column # as the first vector has for its row #.\n",
    "# Then each of these results are added across the row.\n",
    "# Since all elements of u are 1, it is just the elements in each row of A added together."
   ]
  },
  {
   "cell_type": "markdown",
   "id": "dde75eab",
   "metadata": {},
   "source": [
    "c. Whenever a matrix has 1's on the diagonal and zeros everywhere else, we call it an **identity matrix**. What happens when you multiple $A$ times $x$ below? What happens when you multiple an identity matrix times any vector? Explain your result with the definition of matrix multiplication."
   ]
  },
  {
   "cell_type": "code",
   "execution_count": 9,
   "id": "b0d349c4",
   "metadata": {},
   "outputs": [],
   "source": [
    "A = np.array([ [1,0,0],\n",
    "              [0,1,0],\n",
    "              [0,0,1]])\n",
    "x = np.array([-2,4,11])\n"
   ]
  },
  {
   "cell_type": "code",
   "execution_count": 10,
   "id": "e1b34de7",
   "metadata": {},
   "outputs": [
    {
     "data": {
      "text/plain": [
       "array([-2,  4, 11])"
      ]
     },
     "execution_count": 10,
     "metadata": {},
     "output_type": "execute_result"
    }
   ],
   "source": [
    "A@x\n",
    "# It results in vector x itself. \n",
    "# This is because the identity matrix, when multiplied by x, only selects the first element from the first row of x, the second element from the second row of x, etc.\n",
    "# Nothing leads to adding across rows because every element in the identiyy matrix except one is zero.\n"
   ]
  },
  {
   "cell_type": "markdown",
   "id": "57141925",
   "metadata": {},
   "source": [
    "d. What if every row and column sum to 1, but the 1's are no longer on the diagonal? Multiple $A$ times $X$ below and explain the result. Create another matrix whose rows and columns sum to 1, but is not an identity matrix, and show how it permutes the values of $x$. "
   ]
  },
  {
   "cell_type": "code",
   "execution_count": 11,
   "id": "83a9ed11",
   "metadata": {},
   "outputs": [],
   "source": [
    "A = np.array([ [0,0,1],\n",
    "              [1,0,0],\n",
    "              [0,1,0]])\n",
    "x = np.array([-2,4,11])\n"
   ]
  },
  {
   "cell_type": "code",
   "execution_count": 12,
   "id": "b7b230f1",
   "metadata": {},
   "outputs": [
    {
     "data": {
      "text/plain": [
       "array([11, -2,  4])"
      ]
     },
     "execution_count": 12,
     "metadata": {},
     "output_type": "execute_result"
    }
   ],
   "source": [
    "A@x\n",
    "# This takes the elements in array x and shuffles them around, since only the 11 is \"saved\" (not multiplied by 0) by the first row of A, etc."
   ]
  },
  {
   "cell_type": "code",
   "execution_count": 13,
   "id": "e9fdfe9e",
   "metadata": {},
   "outputs": [
    {
     "data": {
      "text/plain": [
       "array([ 4, 11, -2])"
      ]
     },
     "execution_count": 13,
     "metadata": {},
     "output_type": "execute_result"
    }
   ],
   "source": [
    "B = np.array([ [0,1,0],\n",
    "              [0,0,1],\n",
    "              [1,0,0]])\n",
    "B@x"
   ]
  },
  {
   "cell_type": "markdown",
   "id": "611c26c3",
   "metadata": {},
   "source": [
    "e. The next matrix $A$ could be a Markov transition matrix: Its columns sum to 1, and each entry $a_{ij}$ can be interpreted as the proportion of observations who moved from state $j$ to state $i$. Multiply $A$ by each of the vectors $e_1$, $e_2$, and $e_3$, and explain your results."
   ]
  },
  {
   "cell_type": "code",
   "execution_count": 14,
   "id": "aff4fb97",
   "metadata": {},
   "outputs": [
    {
     "name": "stdout",
     "output_type": "stream",
     "text": [
      "[[0.50052958 0.24049286 0.18358131]\n",
      " [0.02574731 0.39251588 0.37907577]\n",
      " [0.47372311 0.36699127 0.43734292]]\n"
     ]
    }
   ],
   "source": [
    "rng = np.random.default_rng(100)\n",
    "A = rng.random((3,3)) # Generate a random 3X3 matrix\n",
    "sums = np.sum(A,axis=0) # Column sums\n",
    "A = A/sums # Normalize the columns so they sum to 1\n",
    "print(A)"
   ]
  },
  {
   "cell_type": "code",
   "execution_count": 15,
   "id": "d0ded83d",
   "metadata": {},
   "outputs": [
    {
     "data": {
      "text/plain": [
       "array([0.50052958, 0.02574731, 0.47372311])"
      ]
     },
     "execution_count": 15,
     "metadata": {},
     "output_type": "execute_result"
    }
   ],
   "source": [
    "A@e_1\n",
    "# This is the first column - all the proportions of observations who moved from state 0 (j, column #) to another state (i, row #)."
   ]
  },
  {
   "cell_type": "code",
   "execution_count": 16,
   "id": "ba929794",
   "metadata": {},
   "outputs": [
    {
     "data": {
      "text/plain": [
       "array([0.24049286, 0.39251588, 0.36699127])"
      ]
     },
     "execution_count": 16,
     "metadata": {},
     "output_type": "execute_result"
    }
   ],
   "source": [
    "A@e_2\n",
    "# This is the second column - all the proportions of observations who moved from state 1 (j, column #) to another state (i, row #)."
   ]
  },
  {
   "cell_type": "code",
   "execution_count": 17,
   "id": "b9a7a629",
   "metadata": {},
   "outputs": [
    {
     "data": {
      "text/plain": [
       "array([0.18358131, 0.37907577, 0.43734292])"
      ]
     },
     "execution_count": 17,
     "metadata": {},
     "output_type": "execute_result"
    }
   ],
   "source": [
    "A@e_3\n",
    "# This is the third column - all the proportions of observations who moved from state 2 (j, column #) to another state (i, row #)."
   ]
  },
  {
   "cell_type": "markdown",
   "id": "0647bfa7",
   "metadata": {},
   "source": [
    "f. For each of the vectors $e_1, e_2, e_3$, multiple $A$ times that vector 5 times. What answer do you get for each starting vector? Describe the behavior you observe."
   ]
  },
  {
   "cell_type": "code",
   "execution_count": 18,
   "id": "d7200b49",
   "metadata": {},
   "outputs": [],
   "source": [
    "# Not sure.... getting errors, aren't the dimensions no longer compatible at a certain point?"
   ]
  },
  {
   "cell_type": "markdown",
   "id": "fa2c9a93",
   "metadata": {},
   "source": [
    "*2.* Let's consider a simple Markov transition matrix over two states:\n",
    "$$\n",
    "T = \\left[ \\begin{array}{cc} p_{1\\leftarrow 1} &  p_{1\\leftarrow 2} \\\\\n",
    "p_{2 \\leftarrow 1} & p_{2 \\leftarrow 2} \\end{array}\\right] \n",
    "$$\n",
    "The arrows help visualize the transition a bit: This is the same index notation as usual, $p_{ij}$, but writing it $p_{i \\leftarrow j}$ emphasizes that it's the proportion of times that state $j$ transitions to state $i$. Below, $T$ is given by\n",
    "$$\n",
    "T = \\left[ \\begin{array}{cc} .25 & .5 \\\\\n",
    ".75 & .5 \\end{array}\\right].\n",
    "$$\n",
    "\n",
    "- Start in state 1, at the initial condition $[1,0]$. Multiply that vector by $T$. Write out the result in terms of the formula and compute the result in a code chunk below. What is this object you're looking at, in terms of proportions and transitions?\n",
    "- Multiple by $T$ again. What do you get? This isn't a column of $T$. Explain in words what it is. (Hint: A forecast of what in what period?)\n",
    "- Keep multiplying the current vector of outcomes by $T$. When does it start to settle down without changing further?\n",
    "- Do the above analysis again, starting from the initial condition $[0,1]$. Do you get a different result?\n",
    "- The take-away is that, in the long run, these chains settle down into the long-run proportions, and the sensitivity on initial conditions vanishes. \n"
   ]
  },
  {
   "cell_type": "code",
   "execution_count": 19,
   "id": "4b6a775f",
   "metadata": {},
   "outputs": [],
   "source": [
    "T = np.array([[ 1/4, 1/2],\n",
    "                 [ 3/4, 1/2 ]])"
   ]
  },
  {
   "cell_type": "code",
   "execution_count": 20,
   "id": "4c3c0f58",
   "metadata": {},
   "outputs": [
    {
     "data": {
      "text/plain": [
       "array([0.25, 0.75])"
      ]
     },
     "execution_count": 20,
     "metadata": {},
     "output_type": "execute_result"
    }
   ],
   "source": [
    "s1 = [1,0]\n",
    "T@s1 # Is this right? Should it be s1@T?\n",
    "# The result is [(1*0.25 + 0*0.5), (1*0.75 + 0*0.5)].\n",
    "# This means that 25% of the time, the transition from state 1 to state 1 will occur (ie no state change) and 75% of the time, the transition from state 1 to state 2 will occur."
   ]
  },
  {
   "cell_type": "code",
   "execution_count": 21,
   "id": "70dc12fe",
   "metadata": {},
   "outputs": [
    {
     "data": {
      "text/plain": [
       "array([0.625, 0.5  ])"
      ]
     },
     "execution_count": 21,
     "metadata": {},
     "output_type": "execute_result"
    }
   ],
   "source": [
    "(T@s1)@T\n",
    "# This means that the probability that a state that went from 1 to 1 will stay at 1 is 62.5% and the probability that a state that went from 1 to 2 will stay at state 2 is 50%.\n",
    "# The rest of the possibilities are implied by this."
   ]
  },
  {
   "cell_type": "code",
   "execution_count": 22,
   "id": "be24ce6d",
   "metadata": {},
   "outputs": [
    {
     "data": {
      "text/plain": [
       "array([0.55001831, 0.54998779])"
      ]
     },
     "execution_count": 22,
     "metadata": {},
     "output_type": "execute_result"
    }
   ],
   "source": [
    "((T@s1)@T)@T # array([0.53125, 0.5625 ])\n",
    "(((T@s1)@T)@T)@T # array([0.5546875, 0.546875 ])\n",
    "((((T@s1)@T)@T)@T)@T # array([0.54882812, 0.55078125])\n",
    "(((((T@s1)@T)@T)@T)@T)@T # array([0.55029297, 0.54980469])\n",
    "((((((T@s1)@T)@T)@T)@T)@T)@T # array([0.54992676, 0.55004883])\n",
    "(((((((T@s1)@T)@T)@T)@T)@T)@T)@T # array([0.55001831, 0.54998779])\n",
    "\n",
    "# Starts to settle out by the 4th multiplication."
   ]
  },
  {
   "cell_type": "code",
   "execution_count": 23,
   "id": "99da4126",
   "metadata": {},
   "outputs": [
    {
     "data": {
      "text/plain": [
       "array([0.5, 0.5])"
      ]
     },
     "execution_count": 23,
     "metadata": {},
     "output_type": "execute_result"
    }
   ],
   "source": [
    "s2 = [0,1]\n",
    "T@s2"
   ]
  },
  {
   "cell_type": "code",
   "execution_count": 24,
   "id": "2db8ce12",
   "metadata": {},
   "outputs": [
    {
     "data": {
      "text/plain": [
       "array([0.5, 0.5])"
      ]
     },
     "execution_count": 24,
     "metadata": {},
     "output_type": "execute_result"
    }
   ],
   "source": [
    "(T@s2)@T"
   ]
  },
  {
   "cell_type": "code",
   "execution_count": 25,
   "id": "ede5a289",
   "metadata": {},
   "outputs": [
    {
     "data": {
      "text/plain": [
       "array([0.5, 0.5])"
      ]
     },
     "execution_count": 25,
     "metadata": {},
     "output_type": "execute_result"
    }
   ],
   "source": [
    "((T@s2)@T)@T # array([0.5, 0.5])\n",
    "(((T@s2)@T)@T)@T # array([0.5, 0.5])\n",
    "((((T@s2)@T)@T)@T)@T # array([0.5, 0.5])\n",
    "(((((T@s2)@T)@T)@T)@T)@T # array([0.5, 0.5])\n",
    "\n",
    "# Settles out to about the same proportions as starting at s1"
   ]
  },
  {
   "cell_type": "markdown",
   "id": "921592e9",
   "metadata": {},
   "source": [
    "3. Weather data\n",
    "\n",
    "- Load the `cville_weather.csv` data. This includes data from Jan 4, 2024 to Feb 2, 2025. Are there any missing data issues?\n",
    "- Based on the precipitation variable, `PRCP`, make a new variable called `rain` that takes the value 1 if `PRCP`>0 and 0 otherwise.\n",
    "- Build a two-state Markov chain over the states 0 and 1 for the `rain` variable. \n",
    "- For your chain from c, how likely is it to rain if it was rainy yesterday? How likely is it to rain if it was clear yesterday?\n",
    "- Starting from a clear day, forecast the distribution. How quickly does it converge to a fixed result? What if you start from a rainy day?\n",
    "- Conditional on being rainy, plot a KDE of the `PRCP` variable.\n",
    "- Describe one way of making your model better for forecasting and simulation the weather.\n",
    "\n",
    "Congratulations, you now are a non-parametric meteorologist!"
   ]
  },
  {
   "cell_type": "code",
   "execution_count": 26,
   "id": "8e14757b",
   "metadata": {},
   "outputs": [
    {
     "name": "stdout",
     "output_type": "stream",
     "text": [
      "<class 'pandas.core.frame.DataFrame'>\n",
      "RangeIndex: 411 entries, 0 to 410\n",
      "Data columns (total 13 columns):\n",
      " #   Column           Non-Null Count  Dtype  \n",
      "---  ------           --------------  -----  \n",
      " 0   STATION          411 non-null    object \n",
      " 1   NAME             411 non-null    object \n",
      " 2   DATE             411 non-null    object \n",
      " 3   DAPR             12 non-null     float64\n",
      " 4   DAPR_ATTRIBUTES  12 non-null     object \n",
      " 5   MDPR             12 non-null     float64\n",
      " 6   MDPR_ATTRIBUTES  12 non-null     object \n",
      " 7   PRCP             399 non-null    float64\n",
      " 8   PRCP_ATTRIBUTES  399 non-null    object \n",
      " 9   SNOW             223 non-null    float64\n",
      " 10  SNOW_ATTRIBUTES  223 non-null    object \n",
      " 11  SNWD             1 non-null      float64\n",
      " 12  SNWD_ATTRIBUTES  1 non-null      object \n",
      "dtypes: float64(5), object(8)\n",
      "memory usage: 41.9+ KB\n"
     ]
    }
   ],
   "source": [
    "import pandas as pd\n",
    "\n",
    "weather = pd.read_csv(\"data/cville_weather.csv\")\n",
    "\n",
    "weather.info()\n",
    "# Most datatypes are objects; a few are floats. \n",
    "# SNWD and SNWD_ATTRIBUTES only have one non-null entry each. This is curious...\n",
    "# DAPR, DAPR_ATTRIBUTRES, MDPR, MDPR_ATTRIBUTES are missing the second-most data, with only 12 non null entries for each.\n",
    "# Other columns are also missing some data.\n"
   ]
  },
  {
   "cell_type": "code",
   "execution_count": 27,
   "id": "cb9818a3",
   "metadata": {},
   "outputs": [],
   "source": [
    "# Based on the precipitation variable, `PRCP`, make a new variable called `rain` that takes the value 1 if `PRCP`>0 and 0 otherwise.\n",
    "weather['rain'] = weather['PRCP'] > 0"
   ]
  },
  {
   "cell_type": "code",
   "execution_count": 28,
   "id": "9497606a",
   "metadata": {},
   "outputs": [
    {
     "data": {
      "text/html": [
       "<div>\n",
       "<style scoped>\n",
       "    .dataframe tbody tr th:only-of-type {\n",
       "        vertical-align: middle;\n",
       "    }\n",
       "\n",
       "    .dataframe tbody tr th {\n",
       "        vertical-align: top;\n",
       "    }\n",
       "\n",
       "    .dataframe thead th {\n",
       "        text-align: right;\n",
       "    }\n",
       "</style>\n",
       "<table border=\"1\" class=\"dataframe\">\n",
       "  <thead>\n",
       "    <tr style=\"text-align: right;\">\n",
       "      <th></th>\n",
       "      <th>DATE</th>\n",
       "      <th>rain</th>\n",
       "    </tr>\n",
       "  </thead>\n",
       "  <tbody>\n",
       "    <tr>\n",
       "      <th>0</th>\n",
       "      <td>2024-01-04</td>\n",
       "      <td>True</td>\n",
       "    </tr>\n",
       "    <tr>\n",
       "      <th>1</th>\n",
       "      <td>2024-01-07</td>\n",
       "      <td>True</td>\n",
       "    </tr>\n",
       "    <tr>\n",
       "      <th>2</th>\n",
       "      <td>2024-01-09</td>\n",
       "      <td>True</td>\n",
       "    </tr>\n",
       "    <tr>\n",
       "      <th>3</th>\n",
       "      <td>2024-01-10</td>\n",
       "      <td>True</td>\n",
       "    </tr>\n",
       "    <tr>\n",
       "      <th>4</th>\n",
       "      <td>2024-01-24</td>\n",
       "      <td>False</td>\n",
       "    </tr>\n",
       "    <tr>\n",
       "      <th>...</th>\n",
       "      <td>...</td>\n",
       "      <td>...</td>\n",
       "    </tr>\n",
       "    <tr>\n",
       "      <th>406</th>\n",
       "      <td>2025-01-27</td>\n",
       "      <td>False</td>\n",
       "    </tr>\n",
       "    <tr>\n",
       "      <th>407</th>\n",
       "      <td>2025-01-28</td>\n",
       "      <td>False</td>\n",
       "    </tr>\n",
       "    <tr>\n",
       "      <th>408</th>\n",
       "      <td>2025-01-29</td>\n",
       "      <td>False</td>\n",
       "    </tr>\n",
       "    <tr>\n",
       "      <th>409</th>\n",
       "      <td>2025-01-30</td>\n",
       "      <td>False</td>\n",
       "    </tr>\n",
       "    <tr>\n",
       "      <th>410</th>\n",
       "      <td>2025-02-01</td>\n",
       "      <td>False</td>\n",
       "    </tr>\n",
       "  </tbody>\n",
       "</table>\n",
       "<p>411 rows × 2 columns</p>\n",
       "</div>"
      ],
      "text/plain": [
       "           DATE   rain\n",
       "0    2024-01-04   True\n",
       "1    2024-01-07   True\n",
       "2    2024-01-09   True\n",
       "3    2024-01-10   True\n",
       "4    2024-01-24  False\n",
       "..          ...    ...\n",
       "406  2025-01-27  False\n",
       "407  2025-01-28  False\n",
       "408  2025-01-29  False\n",
       "409  2025-01-30  False\n",
       "410  2025-02-01  False\n",
       "\n",
       "[411 rows x 2 columns]"
      ]
     },
     "execution_count": 28,
     "metadata": {},
     "output_type": "execute_result"
    }
   ],
   "source": [
    "#Subsetting the dataframe so I dont have to read that essay\n",
    "markov_subset_df = weather[[\"DATE\", \"rain\"]]\n",
    "markov_subset_df"
   ]
  },
  {
   "cell_type": "code",
   "execution_count": 29,
   "id": "55bf77c9",
   "metadata": {},
   "outputs": [
    {
     "data": {
      "text/html": [
       "<div>\n",
       "<style scoped>\n",
       "    .dataframe tbody tr th:only-of-type {\n",
       "        vertical-align: middle;\n",
       "    }\n",
       "\n",
       "    .dataframe tbody tr th {\n",
       "        vertical-align: top;\n",
       "    }\n",
       "\n",
       "    .dataframe thead th {\n",
       "        text-align: right;\n",
       "    }\n",
       "</style>\n",
       "<table border=\"1\" class=\"dataframe\">\n",
       "  <thead>\n",
       "    <tr style=\"text-align: right;\">\n",
       "      <th>Next State</th>\n",
       "      <th>False</th>\n",
       "      <th>True</th>\n",
       "    </tr>\n",
       "    <tr>\n",
       "      <th>Current State</th>\n",
       "      <th></th>\n",
       "      <th></th>\n",
       "    </tr>\n",
       "  </thead>\n",
       "  <tbody>\n",
       "    <tr>\n",
       "      <th>False</th>\n",
       "      <td>0.762931</td>\n",
       "      <td>0.237069</td>\n",
       "    </tr>\n",
       "    <tr>\n",
       "      <th>True</th>\n",
       "      <td>0.308989</td>\n",
       "      <td>0.691011</td>\n",
       "    </tr>\n",
       "  </tbody>\n",
       "</table>\n",
       "</div>"
      ],
      "text/plain": [
       "Next State        False     True \n",
       "Current State                    \n",
       "False          0.762931  0.237069\n",
       "True           0.308989  0.691011"
      ]
     },
     "execution_count": 29,
     "metadata": {},
     "output_type": "execute_result"
    }
   ],
   "source": [
    "#Generating transition matrix:\n",
    "markov_subset_df = markov_subset_df.sort_values('DATE')\n",
    "markov_subset_df['next_state'] = markov_subset_df['rain'].shift(-1)\n",
    "df_transitions = markov_subset_df[:-1].copy()\n",
    "transition_counts = pd.crosstab(\n",
    "    df_transitions['rain'], \n",
    "    df_transitions['next_state'],\n",
    "    rownames=['Current State'],\n",
    "    colnames=['Next State']\n",
    ")\n",
    "rain_transition_matrix = transition_counts.div(transition_counts.sum(axis=1), axis=0)\n",
    "rain_transition_matrix"
   ]
  },
  {
   "cell_type": "markdown",
   "id": "50b91aec",
   "metadata": {},
   "source": [
    "If it rained yesterday, there is a 69.1% chance of it raining today. If it was clear yesterday, there is a 30.8% chance."
   ]
  },
  {
   "cell_type": "code",
   "execution_count": 30,
   "id": "ce54ecbd",
   "metadata": {},
   "outputs": [
    {
     "data": {
      "text/plain": [
       "(2, 2)"
      ]
     },
     "execution_count": 30,
     "metadata": {},
     "output_type": "execute_result"
    }
   ],
   "source": [
    "rain_transition_matrix.shape"
   ]
  },
  {
   "cell_type": "code",
   "execution_count": 31,
   "id": "cd2e99fe",
   "metadata": {},
   "outputs": [],
   "source": [
    "class MarkovChain:    \n",
    "    def __init__(self, transition_matrix, state_names=None):\n",
    "\n",
    "        self.transition_matrix = np.array(transition_matrix)\n",
    "        self.n_states = self.transition_matrix.shape[0]\n",
    "        self.states = state_names\n",
    "    \n",
    "    def simulate(self, n_steps, initial_state=0):\n",
    "        # Set initial state\n",
    "        current_state = initial_state\n",
    "        # Start chain\n",
    "        path = [current_state]\n",
    "        #simulate random chain\n",
    "        for step in range(n_steps):\n",
    "            probabilities = self.transition_matrix[current_state]\n",
    "            # Normalize to ensure sum = 1.0\n",
    "            probabilities = probabilities / probabilities.sum()\n",
    "            current_state = np.random.choice(self.n_states, p=probabilities)\n",
    "            path.append(current_state)\n",
    "        #return chain\n",
    "        return [self.states[i] for i in path]\n",
    "    \n",
    "    def steps_to_convergence(self, initial_state=0, tolerance=1e-6, max_steps=10000):\n",
    "\n",
    "        #Compute steady state (left eigenvector with eigenvalue 1)\n",
    "        eigenvalues, eigenvectors = np.linalg.eig(self.transition_matrix.T)\n",
    "        steady_idx = np.argmax(np.abs(eigenvalues - 1) < 1e-10)\n",
    "        steady_state = np.real(eigenvectors[:, steady_idx])\n",
    "        steady_state = steady_state / steady_state.sum()\n",
    "\n",
    "        #setup\n",
    "        current_dist = np.zeros(self.n_states)\n",
    "        current_dist[initial_state] = 1.0\n",
    "        \n",
    "        # Iterate\n",
    "        for step in range(1, max_steps + 1):\n",
    "            current_dist = current_dist @ self.transition_matrix\n",
    "            \n",
    "            if np.sum(np.abs(current_dist - steady_state)) < tolerance:\n",
    "                return step\n",
    "\n",
    "        \n",
    "        return max_steps  # Did not converge within max_steps\n",
    "    \n",
    "    def forecast(self, n_steps, initial_state=0):\n",
    "        # Create initial distribution vector\n",
    "        current_dist = np.zeros(self.n_states)\n",
    "        current_dist[initial_state] = 1.0\n",
    "        \n",
    "        future_dist = current_dist @ np.linalg.matrix_power(self.transition_matrix, n_steps)\n",
    "        return future_dist"
   ]
  },
  {
   "cell_type": "code",
   "execution_count": 32,
   "id": "7c5ae07e",
   "metadata": {},
   "outputs": [
    {
     "name": "stdout",
     "output_type": "stream",
     "text": [
      "Given an inital state of 'raining', it takes 18 for the chain to converge to the steady state distribution\n",
      "Given an inital state of 'clear', it takes 18 for the chain to converge to the steady state distribution\n"
     ]
    }
   ],
   "source": [
    "rain_markov_chain = MarkovChain(rain_transition_matrix, state_names=[\"Raining\", \"Clear\"])\n",
    "print(f\"Given an inital state of 'raining', it takes {rain_markov_chain.steps_to_convergence(initial_state=1)} for the chain to converge to the steady state distribution\")\n",
    "print(f\"Given an inital state of 'clear', it takes {rain_markov_chain.steps_to_convergence(initial_state=1)} for the chain to converge to the steady state distribution\")"
   ]
  },
  {
   "cell_type": "code",
   "execution_count": 33,
   "id": "a9582011",
   "metadata": {},
   "outputs": [],
   "source": [
    "import seaborn as sns"
   ]
  },
  {
   "cell_type": "code",
   "execution_count": 34,
   "id": "aa49f3dd",
   "metadata": {},
   "outputs": [
    {
     "data": {
      "text/plain": [
       "<Axes: xlabel='PRCP', ylabel='Density'>"
      ]
     },
     "execution_count": 34,
     "metadata": {},
     "output_type": "execute_result"
    },
    {
     "data": {
      "image/png": "[encoded data removed]",
      "text/plain": [
       "<Figure size 640x480 with 1 Axes>"
      ]
     },
     "metadata": {},
     "output_type": "display_data"
    }
   ],
   "source": [
    "sns.kdeplot(data=weather[weather[\"rain\"]==True], x=\"PRCP\")"
   ]
  },
  {
   "cell_type": "markdown",
   "id": "b953c2c4",
   "metadata": {},
   "source": [
    "4. Taxicab trajectories: Using the pickled taxicab data, we want to complete the exercise from class.\n",
    "\n",
    "- For the taxicab trajectory data, determine your state space and clean your sequences of cab rides.\n",
    "- Compute the transition matrix for the taxicab data between neighborhoods in Manhattan. Plot it in a heat map. What are the most common routes?\n",
    "- Explain why taxicabs are most likely order 1, and not 2 or more.\n",
    "- Starting at Hell's Kitchen, create a sequence of forecasts of where the cab is likely to be in 2, 3, 5, and 10 trips\n",
    "- Starting at any neighborhood, iterate your forecast until it is no longer changing very much. Where do cabs spend most of their time working in Manhattan?"
   ]
  },
  {
   "cell_type": "code",
   "execution_count": 35,
   "id": "3eb44cea",
   "metadata": {},
   "outputs": [],
   "source": [
    "import pickle"
   ]
  },
  {
   "cell_type": "code",
   "execution_count": 36,
   "id": "62aefa1a",
   "metadata": {},
   "outputs": [],
   "source": [
    "with open(\"data/taxicab.pkl\", 'rb') as file:\n",
    "    taxicab_data = pickle.load(file)"
   ]
  },
  {
   "cell_type": "code",
   "execution_count": 37,
   "id": "d738318f",
   "metadata": {},
   "outputs": [],
   "source": [
    "from functools import reduce"
   ]
  },
  {
   "cell_type": "code",
   "execution_count": 62,
   "id": "8c2cffd6",
   "metadata": {},
   "outputs": [],
   "source": [
    "def get_all_possible_states(list_of_rides):\n",
    "    list_of_sets = list(map(lambda x: set(x), list_of_rides))\n",
    "    union_result_lambda = reduce(lambda x, y: x | y, list_of_sets)\n",
    "    return union_result_lambda\n",
    "\n",
    "all_neighborhoods = get_all_possible_states(taxicab_data)\n",
    "\n",
    "def compute_transition_matrix(states, all_states):\n",
    "    \n",
    "    unique_states = all_states\n",
    "    \n",
    "    # Initialize count matrix\n",
    "    n_states = len(unique_states)\n",
    "    transition_counts = np.zeros((n_states, n_states), dtype=int)\n",
    "    \n",
    "    # Create a mapping from state to index\n",
    "    state_to_idx = {state: idx for idx, state in enumerate(unique_states)}\n",
    "    \n",
    "    # Count transitions\n",
    "    for i in range(len(states) - 1):\n",
    "        from_state = states.iloc[i]\n",
    "        to_state = states.iloc[i + 1]\n",
    "        from_idx = state_to_idx[from_state]\n",
    "        to_idx = state_to_idx[to_state]\n",
    "        transition_counts[from_idx, to_idx] += 1\n",
    "    \n",
    "    return transition_counts"
   ]
  },
  {
   "cell_type": "code",
   "execution_count": 63,
   "id": "2e3fb7e0",
   "metadata": {},
   "outputs": [],
   "source": [
    "all_neighborhoods = sorted(all_neighborhoods)"
   ]
  },
  {
   "cell_type": "code",
   "execution_count": 50,
   "id": "26c0f1e5",
   "metadata": {},
   "outputs": [],
   "source": [
    "transition_matrix_counts = reduce(lambda x, y: x + y, list(map(lambda x: compute_transition_matrix(x, all_neighborhoods), taxicab_data)))"
   ]
  },
  {
   "cell_type": "code",
   "execution_count": null,
   "id": "f94438eb",
   "metadata": {},
   "outputs": [
    {
     "data": {
      "text/html": [
       "<div>\n",
       "<style scoped>\n",
       "    .dataframe tbody tr th:only-of-type {\n",
       "        vertical-align: middle;\n",
       "    }\n",
       "\n",
       "    .dataframe tbody tr th {\n",
       "        vertical-align: top;\n",
       "    }\n",
       "\n",
       "    .dataframe thead th {\n",
       "        text-align: right;\n",
       "    }\n",
       "</style>\n",
       "<table border=\"1\" class=\"dataframe\">\n",
       "  <thead>\n",
       "    <tr style=\"text-align: right;\">\n",
       "      <th></th>\n",
       "      <th>Battery Park City</th>\n",
       "      <th>Central Park</th>\n",
       "      <th>Chelsea</th>\n",
       "      <th>Chinatown</th>\n",
       "      <th>Civic Center</th>\n",
       "      <th>East Harlem</th>\n",
       "      <th>East Village</th>\n",
       "      <th>Ellis Island</th>\n",
       "      <th>Financial District</th>\n",
       "      <th>Flatiron District</th>\n",
       "      <th>...</th>\n",
       "      <th>Roosevelt Island</th>\n",
       "      <th>SoHo</th>\n",
       "      <th>Stuyvesant Town</th>\n",
       "      <th>Theater District</th>\n",
       "      <th>Tribeca</th>\n",
       "      <th>Two Bridges</th>\n",
       "      <th>Upper East Side</th>\n",
       "      <th>Upper West Side</th>\n",
       "      <th>Washington Heights</th>\n",
       "      <th>West Village</th>\n",
       "    </tr>\n",
       "  </thead>\n",
       "  <tbody>\n",
       "    <tr>\n",
       "      <th>Battery Park City</th>\n",
       "      <td>0.262146</td>\n",
       "      <td>0.001635</td>\n",
       "      <td>0.008196</td>\n",
       "      <td>0.014811</td>\n",
       "      <td>0.016387</td>\n",
       "      <td>0.001348</td>\n",
       "      <td>0.005140</td>\n",
       "      <td>0.000000</td>\n",
       "      <td>0.047462</td>\n",
       "      <td>0.005935</td>\n",
       "      <td>...</td>\n",
       "      <td>0.003496</td>\n",
       "      <td>0.022156</td>\n",
       "      <td>0.006111</td>\n",
       "      <td>0.006009</td>\n",
       "      <td>0.065660</td>\n",
       "      <td>0.020986</td>\n",
       "      <td>0.001996</td>\n",
       "      <td>0.002298</td>\n",
       "      <td>0.002275</td>\n",
       "      <td>0.016520</td>\n",
       "    </tr>\n",
       "    <tr>\n",
       "      <th>Central Park</th>\n",
       "      <td>0.004384</td>\n",
       "      <td>0.141217</td>\n",
       "      <td>0.005917</td>\n",
       "      <td>0.002796</td>\n",
       "      <td>0.002573</td>\n",
       "      <td>0.021228</td>\n",
       "      <td>0.002665</td>\n",
       "      <td>0.000000</td>\n",
       "      <td>0.003619</td>\n",
       "      <td>0.006185</td>\n",
       "      <td>...</td>\n",
       "      <td>0.005493</td>\n",
       "      <td>0.003856</td>\n",
       "      <td>0.003136</td>\n",
       "      <td>0.015330</td>\n",
       "      <td>0.003473</td>\n",
       "      <td>0.004428</td>\n",
       "      <td>0.025968</td>\n",
       "      <td>0.045382</td>\n",
       "      <td>0.012727</td>\n",
       "      <td>0.003864</td>\n",
       "    </tr>\n",
       "    <tr>\n",
       "      <th>Chelsea</th>\n",
       "      <td>0.071630</td>\n",
       "      <td>0.029606</td>\n",
       "      <td>0.334834</td>\n",
       "      <td>0.048153</td>\n",
       "      <td>0.050268</td>\n",
       "      <td>0.024435</td>\n",
       "      <td>0.059190</td>\n",
       "      <td>0.000000</td>\n",
       "      <td>0.050662</td>\n",
       "      <td>0.149460</td>\n",
       "      <td>...</td>\n",
       "      <td>0.047566</td>\n",
       "      <td>0.079060</td>\n",
       "      <td>0.063505</td>\n",
       "      <td>0.083142</td>\n",
       "      <td>0.067593</td>\n",
       "      <td>0.041201</td>\n",
       "      <td>0.027948</td>\n",
       "      <td>0.036770</td>\n",
       "      <td>0.056672</td>\n",
       "      <td>0.145997</td>\n",
       "    </tr>\n",
       "    <tr>\n",
       "      <th>Chinatown</th>\n",
       "      <td>0.005771</td>\n",
       "      <td>0.000678</td>\n",
       "      <td>0.002445</td>\n",
       "      <td>0.132049</td>\n",
       "      <td>0.045657</td>\n",
       "      <td>0.001092</td>\n",
       "      <td>0.009650</td>\n",
       "      <td>0.000000</td>\n",
       "      <td>0.013900</td>\n",
       "      <td>0.001996</td>\n",
       "      <td>...</td>\n",
       "      <td>0.003121</td>\n",
       "      <td>0.011711</td>\n",
       "      <td>0.005500</td>\n",
       "      <td>0.001892</td>\n",
       "      <td>0.012520</td>\n",
       "      <td>0.026088</td>\n",
       "      <td>0.000896</td>\n",
       "      <td>0.000711</td>\n",
       "      <td>0.001462</td>\n",
       "      <td>0.004014</td>\n",
       "    </tr>\n",
       "    <tr>\n",
       "      <th>Civic Center</th>\n",
       "      <td>0.006020</td>\n",
       "      <td>0.000376</td>\n",
       "      <td>0.001475</td>\n",
       "      <td>0.018088</td>\n",
       "      <td>0.094854</td>\n",
       "      <td>0.000660</td>\n",
       "      <td>0.002925</td>\n",
       "      <td>0.000000</td>\n",
       "      <td>0.014233</td>\n",
       "      <td>0.001568</td>\n",
       "      <td>...</td>\n",
       "      <td>0.001248</td>\n",
       "      <td>0.007127</td>\n",
       "      <td>0.002022</td>\n",
       "      <td>0.001154</td>\n",
       "      <td>0.019279</td>\n",
       "      <td>0.018675</td>\n",
       "      <td>0.000604</td>\n",
       "      <td>0.000375</td>\n",
       "      <td>0.001007</td>\n",
       "      <td>0.002637</td>\n",
       "    </tr>\n",
       "    <tr>\n",
       "      <th>East Harlem</th>\n",
       "      <td>0.002063</td>\n",
       "      <td>0.048467</td>\n",
       "      <td>0.003238</td>\n",
       "      <td>0.002541</td>\n",
       "      <td>0.002953</td>\n",
       "      <td>0.226994</td>\n",
       "      <td>0.004545</td>\n",
       "      <td>0.000000</td>\n",
       "      <td>0.002878</td>\n",
       "      <td>0.003780</td>\n",
       "      <td>...</td>\n",
       "      <td>0.009613</td>\n",
       "      <td>0.001880</td>\n",
       "      <td>0.005284</td>\n",
       "      <td>0.005040</td>\n",
       "      <td>0.001950</td>\n",
       "      <td>0.005968</td>\n",
       "      <td>0.031295</td>\n",
       "      <td>0.015404</td>\n",
       "      <td>0.023083</td>\n",
       "      <td>0.002303</td>\n",
       "    </tr>\n",
       "    <tr>\n",
       "      <th>East Village</th>\n",
       "      <td>0.019910</td>\n",
       "      <td>0.007027</td>\n",
       "      <td>0.029743</td>\n",
       "      <td>0.062832</td>\n",
       "      <td>0.035123</td>\n",
       "      <td>0.014654</td>\n",
       "      <td>0.267049</td>\n",
       "      <td>0.000000</td>\n",
       "      <td>0.033263</td>\n",
       "      <td>0.039652</td>\n",
       "      <td>...</td>\n",
       "      <td>0.025843</td>\n",
       "      <td>0.040433</td>\n",
       "      <td>0.163126</td>\n",
       "      <td>0.013234</td>\n",
       "      <td>0.024775</td>\n",
       "      <td>0.068733</td>\n",
       "      <td>0.013117</td>\n",
       "      <td>0.008366</td>\n",
       "      <td>0.017995</td>\n",
       "      <td>0.037082</td>\n",
       "    </tr>\n",
       "    <tr>\n",
       "      <th>Ellis Island</th>\n",
       "      <td>0.000000</td>\n",
       "      <td>0.000000</td>\n",
       "      <td>0.000000</td>\n",
       "      <td>0.000000</td>\n",
       "      <td>0.000000</td>\n",
       "      <td>0.000000</td>\n",
       "      <td>0.000000</td>\n",
       "      <td>0.000000</td>\n",
       "      <td>0.000000</td>\n",
       "      <td>0.000000</td>\n",
       "      <td>...</td>\n",
       "      <td>0.000000</td>\n",
       "      <td>0.000000</td>\n",
       "      <td>0.000000</td>\n",
       "      <td>0.000000</td>\n",
       "      <td>0.000002</td>\n",
       "      <td>0.000000</td>\n",
       "      <td>0.000000</td>\n",
       "      <td>0.000000</td>\n",
       "      <td>0.000000</td>\n",
       "      <td>0.000000</td>\n",
       "    </tr>\n",
       "    <tr>\n",
       "      <th>Financial District</th>\n",
       "      <td>0.085048</td>\n",
       "      <td>0.003450</td>\n",
       "      <td>0.011151</td>\n",
       "      <td>0.079739</td>\n",
       "      <td>0.062407</td>\n",
       "      <td>0.004128</td>\n",
       "      <td>0.020114</td>\n",
       "      <td>0.333333</td>\n",
       "      <td>0.308323</td>\n",
       "      <td>0.009846</td>\n",
       "      <td>...</td>\n",
       "      <td>0.009988</td>\n",
       "      <td>0.032176</td>\n",
       "      <td>0.021818</td>\n",
       "      <td>0.009674</td>\n",
       "      <td>0.091823</td>\n",
       "      <td>0.168079</td>\n",
       "      <td>0.004782</td>\n",
       "      <td>0.003202</td>\n",
       "      <td>0.006522</td>\n",
       "      <td>0.019409</td>\n",
       "    </tr>\n",
       "    <tr>\n",
       "      <th>Flatiron District</th>\n",
       "      <td>0.011416</td>\n",
       "      <td>0.005031</td>\n",
       "      <td>0.030673</td>\n",
       "      <td>0.010258</td>\n",
       "      <td>0.011518</td>\n",
       "      <td>0.004646</td>\n",
       "      <td>0.017493</td>\n",
       "      <td>0.000000</td>\n",
       "      <td>0.010499</td>\n",
       "      <td>0.158294</td>\n",
       "      <td>...</td>\n",
       "      <td>0.008115</td>\n",
       "      <td>0.015965</td>\n",
       "      <td>0.022798</td>\n",
       "      <td>0.011681</td>\n",
       "      <td>0.011230</td>\n",
       "      <td>0.009723</td>\n",
       "      <td>0.006645</td>\n",
       "      <td>0.005042</td>\n",
       "      <td>0.006646</td>\n",
       "      <td>0.016387</td>\n",
       "    </tr>\n",
       "    <tr>\n",
       "      <th>Governors Island</th>\n",
       "      <td>0.000000</td>\n",
       "      <td>0.000000</td>\n",
       "      <td>0.000001</td>\n",
       "      <td>0.000000</td>\n",
       "      <td>0.000000</td>\n",
       "      <td>0.000000</td>\n",
       "      <td>0.000001</td>\n",
       "      <td>0.000000</td>\n",
       "      <td>0.000002</td>\n",
       "      <td>0.000000</td>\n",
       "      <td>...</td>\n",
       "      <td>0.000000</td>\n",
       "      <td>0.000000</td>\n",
       "      <td>0.000009</td>\n",
       "      <td>0.000000</td>\n",
       "      <td>0.000000</td>\n",
       "      <td>0.000000</td>\n",
       "      <td>0.000000</td>\n",
       "      <td>0.000000</td>\n",
       "      <td>0.000000</td>\n",
       "      <td>0.000000</td>\n",
       "    </tr>\n",
       "    <tr>\n",
       "      <th>Gramercy</th>\n",
       "      <td>0.011599</td>\n",
       "      <td>0.005344</td>\n",
       "      <td>0.025556</td>\n",
       "      <td>0.019855</td>\n",
       "      <td>0.016336</td>\n",
       "      <td>0.007572</td>\n",
       "      <td>0.046631</td>\n",
       "      <td>0.000000</td>\n",
       "      <td>0.013817</td>\n",
       "      <td>0.044028</td>\n",
       "      <td>...</td>\n",
       "      <td>0.011985</td>\n",
       "      <td>0.019428</td>\n",
       "      <td>0.073139</td>\n",
       "      <td>0.009380</td>\n",
       "      <td>0.013097</td>\n",
       "      <td>0.018964</td>\n",
       "      <td>0.009861</td>\n",
       "      <td>0.005285</td>\n",
       "      <td>0.008728</td>\n",
       "      <td>0.018288</td>\n",
       "    </tr>\n",
       "    <tr>\n",
       "      <th>Greenwich Village</th>\n",
       "      <td>0.020416</td>\n",
       "      <td>0.005158</td>\n",
       "      <td>0.028154</td>\n",
       "      <td>0.026013</td>\n",
       "      <td>0.025298</td>\n",
       "      <td>0.004744</td>\n",
       "      <td>0.043016</td>\n",
       "      <td>0.000000</td>\n",
       "      <td>0.018316</td>\n",
       "      <td>0.030160</td>\n",
       "      <td>...</td>\n",
       "      <td>0.010362</td>\n",
       "      <td>0.049476</td>\n",
       "      <td>0.025368</td>\n",
       "      <td>0.012165</td>\n",
       "      <td>0.024398</td>\n",
       "      <td>0.018868</td>\n",
       "      <td>0.005791</td>\n",
       "      <td>0.005762</td>\n",
       "      <td>0.010742</td>\n",
       "      <td>0.051426</td>\n",
       "    </tr>\n",
       "    <tr>\n",
       "      <th>Harlem</th>\n",
       "      <td>0.001339</td>\n",
       "      <td>0.025802</td>\n",
       "      <td>0.002994</td>\n",
       "      <td>0.001757</td>\n",
       "      <td>0.001571</td>\n",
       "      <td>0.048219</td>\n",
       "      <td>0.002174</td>\n",
       "      <td>0.000000</td>\n",
       "      <td>0.001402</td>\n",
       "      <td>0.002031</td>\n",
       "      <td>...</td>\n",
       "      <td>0.004994</td>\n",
       "      <td>0.001547</td>\n",
       "      <td>0.002058</td>\n",
       "      <td>0.004624</td>\n",
       "      <td>0.001554</td>\n",
       "      <td>0.002599</td>\n",
       "      <td>0.006336</td>\n",
       "      <td>0.025643</td>\n",
       "      <td>0.037864</td>\n",
       "      <td>0.002617</td>\n",
       "    </tr>\n",
       "    <tr>\n",
       "      <th>Hell's Kitchen</th>\n",
       "      <td>0.036033</td>\n",
       "      <td>0.039238</td>\n",
       "      <td>0.070908</td>\n",
       "      <td>0.021517</td>\n",
       "      <td>0.018753</td>\n",
       "      <td>0.021714</td>\n",
       "      <td>0.019352</td>\n",
       "      <td>0.000000</td>\n",
       "      <td>0.025020</td>\n",
       "      <td>0.031605</td>\n",
       "      <td>...</td>\n",
       "      <td>0.029588</td>\n",
       "      <td>0.024049</td>\n",
       "      <td>0.017514</td>\n",
       "      <td>0.109840</td>\n",
       "      <td>0.025583</td>\n",
       "      <td>0.018964</td>\n",
       "      <td>0.019858</td>\n",
       "      <td>0.065311</td>\n",
       "      <td>0.076377</td>\n",
       "      <td>0.041418</td>\n",
       "    </tr>\n",
       "    <tr>\n",
       "      <th>Inwood</th>\n",
       "      <td>0.000144</td>\n",
       "      <td>0.000465</td>\n",
       "      <td>0.000262</td>\n",
       "      <td>0.000189</td>\n",
       "      <td>0.000121</td>\n",
       "      <td>0.001174</td>\n",
       "      <td>0.000186</td>\n",
       "      <td>0.000000</td>\n",
       "      <td>0.000093</td>\n",
       "      <td>0.000101</td>\n",
       "      <td>...</td>\n",
       "      <td>0.000499</td>\n",
       "      <td>0.000109</td>\n",
       "      <td>0.000207</td>\n",
       "      <td>0.000436</td>\n",
       "      <td>0.000130</td>\n",
       "      <td>0.000000</td>\n",
       "      <td>0.000322</td>\n",
       "      <td>0.001463</td>\n",
       "      <td>0.016133</td>\n",
       "      <td>0.000236</td>\n",
       "    </tr>\n",
       "    <tr>\n",
       "      <th>Kips Bay</th>\n",
       "      <td>0.009558</td>\n",
       "      <td>0.005552</td>\n",
       "      <td>0.017124</td>\n",
       "      <td>0.013309</td>\n",
       "      <td>0.012140</td>\n",
       "      <td>0.009819</td>\n",
       "      <td>0.035692</td>\n",
       "      <td>0.000000</td>\n",
       "      <td>0.014910</td>\n",
       "      <td>0.037922</td>\n",
       "      <td>...</td>\n",
       "      <td>0.021348</td>\n",
       "      <td>0.010491</td>\n",
       "      <td>0.048615</td>\n",
       "      <td>0.011235</td>\n",
       "      <td>0.007992</td>\n",
       "      <td>0.021660</td>\n",
       "      <td>0.012609</td>\n",
       "      <td>0.005206</td>\n",
       "      <td>0.009252</td>\n",
       "      <td>0.011715</td>\n",
       "    </tr>\n",
       "    <tr>\n",
       "      <th>Liberty Island</th>\n",
       "      <td>0.000000</td>\n",
       "      <td>0.000000</td>\n",
       "      <td>0.000000</td>\n",
       "      <td>0.000000</td>\n",
       "      <td>0.000000</td>\n",
       "      <td>0.000000</td>\n",
       "      <td>0.000000</td>\n",
       "      <td>0.000000</td>\n",
       "      <td>0.000000</td>\n",
       "      <td>0.000000</td>\n",
       "      <td>...</td>\n",
       "      <td>0.000000</td>\n",
       "      <td>0.000000</td>\n",
       "      <td>0.000000</td>\n",
       "      <td>0.000000</td>\n",
       "      <td>0.000000</td>\n",
       "      <td>0.000000</td>\n",
       "      <td>0.000000</td>\n",
       "      <td>0.000000</td>\n",
       "      <td>0.000000</td>\n",
       "      <td>0.000000</td>\n",
       "    </tr>\n",
       "    <tr>\n",
       "      <th>Little Italy</th>\n",
       "      <td>0.001627</td>\n",
       "      <td>0.000332</td>\n",
       "      <td>0.001188</td>\n",
       "      <td>0.010692</td>\n",
       "      <td>0.004248</td>\n",
       "      <td>0.000316</td>\n",
       "      <td>0.002765</td>\n",
       "      <td>0.000000</td>\n",
       "      <td>0.002903</td>\n",
       "      <td>0.000951</td>\n",
       "      <td>...</td>\n",
       "      <td>0.000749</td>\n",
       "      <td>0.007625</td>\n",
       "      <td>0.001546</td>\n",
       "      <td>0.001434</td>\n",
       "      <td>0.002202</td>\n",
       "      <td>0.003658</td>\n",
       "      <td>0.000381</td>\n",
       "      <td>0.000334</td>\n",
       "      <td>0.000579</td>\n",
       "      <td>0.001990</td>\n",
       "    </tr>\n",
       "    <tr>\n",
       "      <th>Lower East Side</th>\n",
       "      <td>0.010304</td>\n",
       "      <td>0.002496</td>\n",
       "      <td>0.008927</td>\n",
       "      <td>0.059422</td>\n",
       "      <td>0.022759</td>\n",
       "      <td>0.006341</td>\n",
       "      <td>0.062489</td>\n",
       "      <td>0.000000</td>\n",
       "      <td>0.026523</td>\n",
       "      <td>0.009292</td>\n",
       "      <td>...</td>\n",
       "      <td>0.011985</td>\n",
       "      <td>0.018458</td>\n",
       "      <td>0.034489</td>\n",
       "      <td>0.004598</td>\n",
       "      <td>0.012410</td>\n",
       "      <td>0.064497</td>\n",
       "      <td>0.004775</td>\n",
       "      <td>0.003297</td>\n",
       "      <td>0.007956</td>\n",
       "      <td>0.014131</td>\n",
       "    </tr>\n",
       "    <tr>\n",
       "      <th>Marble Hill</th>\n",
       "      <td>0.000004</td>\n",
       "      <td>0.000016</td>\n",
       "      <td>0.000008</td>\n",
       "      <td>0.000000</td>\n",
       "      <td>0.000000</td>\n",
       "      <td>0.000054</td>\n",
       "      <td>0.000002</td>\n",
       "      <td>0.000000</td>\n",
       "      <td>0.000002</td>\n",
       "      <td>0.000003</td>\n",
       "      <td>...</td>\n",
       "      <td>0.000000</td>\n",
       "      <td>0.000000</td>\n",
       "      <td>0.000000</td>\n",
       "      <td>0.000013</td>\n",
       "      <td>0.000005</td>\n",
       "      <td>0.000000</td>\n",
       "      <td>0.000013</td>\n",
       "      <td>0.000039</td>\n",
       "      <td>0.000455</td>\n",
       "      <td>0.000011</td>\n",
       "    </tr>\n",
       "    <tr>\n",
       "      <th>Midtown</th>\n",
       "      <td>0.082518</td>\n",
       "      <td>0.146977</td>\n",
       "      <td>0.140622</td>\n",
       "      <td>0.062435</td>\n",
       "      <td>0.074339</td>\n",
       "      <td>0.083211</td>\n",
       "      <td>0.085830</td>\n",
       "      <td>0.333333</td>\n",
       "      <td>0.092501</td>\n",
       "      <td>0.201095</td>\n",
       "      <td>...</td>\n",
       "      <td>0.178027</td>\n",
       "      <td>0.077200</td>\n",
       "      <td>0.108832</td>\n",
       "      <td>0.227997</td>\n",
       "      <td>0.065910</td>\n",
       "      <td>0.082403</td>\n",
       "      <td>0.173140</td>\n",
       "      <td>0.100768</td>\n",
       "      <td>0.077728</td>\n",
       "      <td>0.076938</td>\n",
       "    </tr>\n",
       "    <tr>\n",
       "      <th>Morningside Heights</th>\n",
       "      <td>0.001204</td>\n",
       "      <td>0.010737</td>\n",
       "      <td>0.002152</td>\n",
       "      <td>0.001332</td>\n",
       "      <td>0.001433</td>\n",
       "      <td>0.015945</td>\n",
       "      <td>0.001090</td>\n",
       "      <td>0.000000</td>\n",
       "      <td>0.000904</td>\n",
       "      <td>0.001161</td>\n",
       "      <td>...</td>\n",
       "      <td>0.003121</td>\n",
       "      <td>0.000999</td>\n",
       "      <td>0.001402</td>\n",
       "      <td>0.003015</td>\n",
       "      <td>0.001189</td>\n",
       "      <td>0.001733</td>\n",
       "      <td>0.004700</td>\n",
       "      <td>0.031512</td>\n",
       "      <td>0.039547</td>\n",
       "      <td>0.001613</td>\n",
       "    </tr>\n",
       "    <tr>\n",
       "      <th>Murray Hill</th>\n",
       "      <td>0.013419</td>\n",
       "      <td>0.011204</td>\n",
       "      <td>0.019308</td>\n",
       "      <td>0.013158</td>\n",
       "      <td>0.015628</td>\n",
       "      <td>0.011924</td>\n",
       "      <td>0.025001</td>\n",
       "      <td>0.000000</td>\n",
       "      <td>0.018321</td>\n",
       "      <td>0.039477</td>\n",
       "      <td>...</td>\n",
       "      <td>0.029588</td>\n",
       "      <td>0.012959</td>\n",
       "      <td>0.033267</td>\n",
       "      <td>0.021330</td>\n",
       "      <td>0.011010</td>\n",
       "      <td>0.019638</td>\n",
       "      <td>0.020794</td>\n",
       "      <td>0.008749</td>\n",
       "      <td>0.011348</td>\n",
       "      <td>0.012878</td>\n",
       "    </tr>\n",
       "    <tr>\n",
       "      <th>NoHo</th>\n",
       "      <td>0.006583</td>\n",
       "      <td>0.001618</td>\n",
       "      <td>0.006652</td>\n",
       "      <td>0.013044</td>\n",
       "      <td>0.010965</td>\n",
       "      <td>0.001815</td>\n",
       "      <td>0.024267</td>\n",
       "      <td>0.000000</td>\n",
       "      <td>0.007211</td>\n",
       "      <td>0.008586</td>\n",
       "      <td>...</td>\n",
       "      <td>0.002747</td>\n",
       "      <td>0.015320</td>\n",
       "      <td>0.010514</td>\n",
       "      <td>0.002967</td>\n",
       "      <td>0.008315</td>\n",
       "      <td>0.010204</td>\n",
       "      <td>0.002432</td>\n",
       "      <td>0.001893</td>\n",
       "      <td>0.002896</td>\n",
       "      <td>0.011193</td>\n",
       "    </tr>\n",
       "    <tr>\n",
       "      <th>Nolita</th>\n",
       "      <td>0.003429</td>\n",
       "      <td>0.000765</td>\n",
       "      <td>0.003181</td>\n",
       "      <td>0.011854</td>\n",
       "      <td>0.007322</td>\n",
       "      <td>0.001045</td>\n",
       "      <td>0.010414</td>\n",
       "      <td>0.000000</td>\n",
       "      <td>0.005462</td>\n",
       "      <td>0.003549</td>\n",
       "      <td>...</td>\n",
       "      <td>0.002372</td>\n",
       "      <td>0.017229</td>\n",
       "      <td>0.004969</td>\n",
       "      <td>0.001788</td>\n",
       "      <td>0.004885</td>\n",
       "      <td>0.007220</td>\n",
       "      <td>0.001266</td>\n",
       "      <td>0.000972</td>\n",
       "      <td>0.001517</td>\n",
       "      <td>0.006150</td>\n",
       "    </tr>\n",
       "    <tr>\n",
       "      <th>Outside Manhattan</th>\n",
       "      <td>0.063058</td>\n",
       "      <td>0.030719</td>\n",
       "      <td>0.030367</td>\n",
       "      <td>0.187154</td>\n",
       "      <td>0.238404</td>\n",
       "      <td>0.081882</td>\n",
       "      <td>0.087485</td>\n",
       "      <td>0.333333</td>\n",
       "      <td>0.088583</td>\n",
       "      <td>0.030385</td>\n",
       "      <td>...</td>\n",
       "      <td>0.230712</td>\n",
       "      <td>0.076734</td>\n",
       "      <td>0.065707</td>\n",
       "      <td>0.052603</td>\n",
       "      <td>0.095704</td>\n",
       "      <td>0.130343</td>\n",
       "      <td>0.054612</td>\n",
       "      <td>0.032387</td>\n",
       "      <td>0.085091</td>\n",
       "      <td>0.040335</td>\n",
       "    </tr>\n",
       "    <tr>\n",
       "      <th>Randall's Island</th>\n",
       "      <td>0.000035</td>\n",
       "      <td>0.000208</td>\n",
       "      <td>0.000016</td>\n",
       "      <td>0.000019</td>\n",
       "      <td>0.000017</td>\n",
       "      <td>0.001878</td>\n",
       "      <td>0.000021</td>\n",
       "      <td>0.000000</td>\n",
       "      <td>0.000027</td>\n",
       "      <td>0.000025</td>\n",
       "      <td>...</td>\n",
       "      <td>0.000125</td>\n",
       "      <td>0.000022</td>\n",
       "      <td>0.000045</td>\n",
       "      <td>0.000038</td>\n",
       "      <td>0.000027</td>\n",
       "      <td>0.000193</td>\n",
       "      <td>0.000281</td>\n",
       "      <td>0.000127</td>\n",
       "      <td>0.000221</td>\n",
       "      <td>0.000027</td>\n",
       "    </tr>\n",
       "    <tr>\n",
       "      <th>Roosevelt Island</th>\n",
       "      <td>0.000065</td>\n",
       "      <td>0.000151</td>\n",
       "      <td>0.000107</td>\n",
       "      <td>0.000113</td>\n",
       "      <td>0.000104</td>\n",
       "      <td>0.000287</td>\n",
       "      <td>0.000201</td>\n",
       "      <td>0.000000</td>\n",
       "      <td>0.000097</td>\n",
       "      <td>0.000144</td>\n",
       "      <td>...</td>\n",
       "      <td>0.121723</td>\n",
       "      <td>0.000084</td>\n",
       "      <td>0.000198</td>\n",
       "      <td>0.000199</td>\n",
       "      <td>0.000115</td>\n",
       "      <td>0.000000</td>\n",
       "      <td>0.000543</td>\n",
       "      <td>0.000108</td>\n",
       "      <td>0.000221</td>\n",
       "      <td>0.000111</td>\n",
       "    </tr>\n",
       "    <tr>\n",
       "      <th>SoHo</th>\n",
       "      <td>0.037080</td>\n",
       "      <td>0.004734</td>\n",
       "      <td>0.023754</td>\n",
       "      <td>0.048900</td>\n",
       "      <td>0.056640</td>\n",
       "      <td>0.004087</td>\n",
       "      <td>0.030804</td>\n",
       "      <td>0.000000</td>\n",
       "      <td>0.033188</td>\n",
       "      <td>0.022497</td>\n",
       "      <td>...</td>\n",
       "      <td>0.008614</td>\n",
       "      <td>0.251787</td>\n",
       "      <td>0.017155</td>\n",
       "      <td>0.012354</td>\n",
       "      <td>0.054893</td>\n",
       "      <td>0.024162</td>\n",
       "      <td>0.005532</td>\n",
       "      <td>0.005422</td>\n",
       "      <td>0.007956</td>\n",
       "      <td>0.057736</td>\n",
       "    </tr>\n",
       "    <tr>\n",
       "      <th>Stuyvesant Town</th>\n",
       "      <td>0.002425</td>\n",
       "      <td>0.000956</td>\n",
       "      <td>0.003903</td>\n",
       "      <td>0.004373</td>\n",
       "      <td>0.003005</td>\n",
       "      <td>0.002272</td>\n",
       "      <td>0.012744</td>\n",
       "      <td>0.000000</td>\n",
       "      <td>0.004627</td>\n",
       "      <td>0.007010</td>\n",
       "      <td>...</td>\n",
       "      <td>0.003745</td>\n",
       "      <td>0.002530</td>\n",
       "      <td>0.143788</td>\n",
       "      <td>0.001888</td>\n",
       "      <td>0.002009</td>\n",
       "      <td>0.007316</td>\n",
       "      <td>0.002246</td>\n",
       "      <td>0.000949</td>\n",
       "      <td>0.001737</td>\n",
       "      <td>0.002785</td>\n",
       "    </tr>\n",
       "    <tr>\n",
       "      <th>Theater District</th>\n",
       "      <td>0.024486</td>\n",
       "      <td>0.042364</td>\n",
       "      <td>0.037556</td>\n",
       "      <td>0.015528</td>\n",
       "      <td>0.015023</td>\n",
       "      <td>0.015582</td>\n",
       "      <td>0.012679</td>\n",
       "      <td>0.000000</td>\n",
       "      <td>0.022794</td>\n",
       "      <td>0.022409</td>\n",
       "      <td>...</td>\n",
       "      <td>0.034082</td>\n",
       "      <td>0.017367</td>\n",
       "      <td>0.014117</td>\n",
       "      <td>0.213330</td>\n",
       "      <td>0.017629</td>\n",
       "      <td>0.012611</td>\n",
       "      <td>0.019413</td>\n",
       "      <td>0.032439</td>\n",
       "      <td>0.033879</td>\n",
       "      <td>0.020481</td>\n",
       "    </tr>\n",
       "    <tr>\n",
       "      <th>Tribeca</th>\n",
       "      <td>0.095871</td>\n",
       "      <td>0.003137</td>\n",
       "      <td>0.015687</td>\n",
       "      <td>0.040512</td>\n",
       "      <td>0.072336</td>\n",
       "      <td>0.002657</td>\n",
       "      <td>0.013436</td>\n",
       "      <td>0.000000</td>\n",
       "      <td>0.046910</td>\n",
       "      <td>0.013428</td>\n",
       "      <td>...</td>\n",
       "      <td>0.007241</td>\n",
       "      <td>0.065297</td>\n",
       "      <td>0.009786</td>\n",
       "      <td>0.008948</td>\n",
       "      <td>0.249553</td>\n",
       "      <td>0.030612</td>\n",
       "      <td>0.003674</td>\n",
       "      <td>0.004390</td>\n",
       "      <td>0.007088</td>\n",
       "      <td>0.038994</td>\n",
       "    </tr>\n",
       "    <tr>\n",
       "      <th>Two Bridges</th>\n",
       "      <td>0.000803</td>\n",
       "      <td>0.000068</td>\n",
       "      <td>0.000162</td>\n",
       "      <td>0.007245</td>\n",
       "      <td>0.003885</td>\n",
       "      <td>0.000167</td>\n",
       "      <td>0.000760</td>\n",
       "      <td>0.000000</td>\n",
       "      <td>0.005057</td>\n",
       "      <td>0.000169</td>\n",
       "      <td>...</td>\n",
       "      <td>0.000125</td>\n",
       "      <td>0.000505</td>\n",
       "      <td>0.000503</td>\n",
       "      <td>0.000109</td>\n",
       "      <td>0.001153</td>\n",
       "      <td>0.081633</td>\n",
       "      <td>0.000089</td>\n",
       "      <td>0.000051</td>\n",
       "      <td>0.000124</td>\n",
       "      <td>0.000279</td>\n",
       "    </tr>\n",
       "    <tr>\n",
       "      <th>Upper East Side</th>\n",
       "      <td>0.030689</td>\n",
       "      <td>0.249427</td>\n",
       "      <td>0.036404</td>\n",
       "      <td>0.024880</td>\n",
       "      <td>0.034243</td>\n",
       "      <td>0.283381</td>\n",
       "      <td>0.042727</td>\n",
       "      <td>0.000000</td>\n",
       "      <td>0.039937</td>\n",
       "      <td>0.049447</td>\n",
       "      <td>...</td>\n",
       "      <td>0.116355</td>\n",
       "      <td>0.025888</td>\n",
       "      <td>0.054223</td>\n",
       "      <td>0.057019</td>\n",
       "      <td>0.025889</td>\n",
       "      <td>0.046785</td>\n",
       "      <td>0.458643</td>\n",
       "      <td>0.108013</td>\n",
       "      <td>0.083395</td>\n",
       "      <td>0.026851</td>\n",
       "    </tr>\n",
       "    <tr>\n",
       "      <th>Upper West Side</th>\n",
       "      <td>0.023500</td>\n",
       "      <td>0.164766</td>\n",
       "      <td>0.033436</td>\n",
       "      <td>0.012223</td>\n",
       "      <td>0.013366</td>\n",
       "      <td>0.082261</td>\n",
       "      <td>0.013785</td>\n",
       "      <td>0.000000</td>\n",
       "      <td>0.013767</td>\n",
       "      <td>0.022422</td>\n",
       "      <td>...</td>\n",
       "      <td>0.038327</td>\n",
       "      <td>0.015687</td>\n",
       "      <td>0.015294</td>\n",
       "      <td>0.073301</td>\n",
       "      <td>0.018346</td>\n",
       "      <td>0.010108</td>\n",
       "      <td>0.069060</td>\n",
       "      <td>0.423600</td>\n",
       "      <td>0.176512</td>\n",
       "      <td>0.023563</td>\n",
       "    </tr>\n",
       "    <tr>\n",
       "      <th>Washington Heights</th>\n",
       "      <td>0.000619</td>\n",
       "      <td>0.002097</td>\n",
       "      <td>0.001258</td>\n",
       "      <td>0.000775</td>\n",
       "      <td>0.000915</td>\n",
       "      <td>0.005135</td>\n",
       "      <td>0.000728</td>\n",
       "      <td>0.000000</td>\n",
       "      <td>0.000455</td>\n",
       "      <td>0.000544</td>\n",
       "      <td>...</td>\n",
       "      <td>0.000624</td>\n",
       "      <td>0.000548</td>\n",
       "      <td>0.000692</td>\n",
       "      <td>0.001931</td>\n",
       "      <td>0.000602</td>\n",
       "      <td>0.000674</td>\n",
       "      <td>0.001317</td>\n",
       "      <td>0.007230</td>\n",
       "      <td>0.154905</td>\n",
       "      <td>0.001150</td>\n",
       "    </tr>\n",
       "    <tr>\n",
       "      <th>West Village</th>\n",
       "      <td>0.054795</td>\n",
       "      <td>0.008181</td>\n",
       "      <td>0.062640</td>\n",
       "      <td>0.032464</td>\n",
       "      <td>0.029373</td>\n",
       "      <td>0.007347</td>\n",
       "      <td>0.036951</td>\n",
       "      <td>0.000000</td>\n",
       "      <td>0.032382</td>\n",
       "      <td>0.044800</td>\n",
       "      <td>...</td>\n",
       "      <td>0.016479</td>\n",
       "      <td>0.074307</td>\n",
       "      <td>0.023301</td>\n",
       "      <td>0.020301</td>\n",
       "      <td>0.057107</td>\n",
       "      <td>0.021275</td>\n",
       "      <td>0.009066</td>\n",
       "      <td>0.011492</td>\n",
       "      <td>0.019470</td>\n",
       "      <td>0.288874</td>\n",
       "    </tr>\n",
       "  </tbody>\n",
       "</table>\n",
       "<p>38 rows × 38 columns</p>\n",
       "</div>"
      ],
      "text/plain": [
       "                     Battery Park City  Central Park   Chelsea  Chinatown  \\\n",
       "Battery Park City             0.262146      0.001635  0.008196   0.014811   \n",
       "Central Park                  0.004384      0.141217  0.005917   0.002796   \n",
       "Chelsea                       0.071630      0.029606  0.334834   0.048153   \n",
       "Chinatown                     0.005771      0.000678  0.002445   0.132049   \n",
       "Civic Center                  0.006020      0.000376  0.001475   0.018088   \n",
       "East Harlem                   0.002063      0.048467  0.003238   0.002541   \n",
       "East Village                  0.019910      0.007027  0.029743   0.062832   \n",
       "Ellis Island                  0.000000      0.000000  0.000000   0.000000   \n",
       "Financial District            0.085048      0.003450  0.011151   0.079739   \n",
       "Flatiron District             0.011416      0.005031  0.030673   0.010258   \n",
       "Governors Island              0.000000      0.000000  0.000001   0.000000   \n",
       "Gramercy                      0.011599      0.005344  0.025556   0.019855   \n",
       "Greenwich Village             0.020416      0.005158  0.028154   0.026013   \n",
       "Harlem                        0.001339      0.025802  0.002994   0.001757   \n",
       "Hell's Kitchen                0.036033      0.039238  0.070908   0.021517   \n",
       "Inwood                        0.000144      0.000465  0.000262   0.000189   \n",
       "Kips Bay                      0.009558      0.005552  0.017124   0.013309   \n",
       "Liberty Island                0.000000      0.000000  0.000000   0.000000   \n",
       "Little Italy                  0.001627      0.000332  0.001188   0.010692   \n",
       "Lower East Side               0.010304      0.002496  0.008927   0.059422   \n",
       "Marble Hill                   0.000004      0.000016  0.000008   0.000000   \n",
       "Midtown                       0.082518      0.146977  0.140622   0.062435   \n",
       "Morningside Heights           0.001204      0.010737  0.002152   0.001332   \n",
       "Murray Hill                   0.013419      0.011204  0.019308   0.013158   \n",
       "NoHo                          0.006583      0.001618  0.006652   0.013044   \n",
       "Nolita                        0.003429      0.000765  0.003181   0.011854   \n",
       "Outside Manhattan             0.063058      0.030719  0.030367   0.187154   \n",
       "Randall's Island              0.000035      0.000208  0.000016   0.000019   \n",
       "Roosevelt Island              0.000065      0.000151  0.000107   0.000113   \n",
       "SoHo                          0.037080      0.004734  0.023754   0.048900   \n",
       "Stuyvesant Town               0.002425      0.000956  0.003903   0.004373   \n",
       "Theater District              0.024486      0.042364  0.037556   0.015528   \n",
       "Tribeca                       0.095871      0.003137  0.015687   0.040512   \n",
       "Two Bridges                   0.000803      0.000068  0.000162   0.007245   \n",
       "Upper East Side               0.030689      0.249427  0.036404   0.024880   \n",
       "Upper West Side               0.023500      0.164766  0.033436   0.012223   \n",
       "Washington Heights            0.000619      0.002097  0.001258   0.000775   \n",
       "West Village                  0.054795      0.008181  0.062640   0.032464   \n",
       "\n",
       "                     Civic Center  East Harlem  East Village  Ellis Island  \\\n",
       "Battery Park City        0.016387     0.001348      0.005140      0.000000   \n",
       "Central Park             0.002573     0.021228      0.002665      0.000000   \n",
       "Chelsea                  0.050268     0.024435      0.059190      0.000000   \n",
       "Chinatown                0.045657     0.001092      0.009650      0.000000   \n",
       "Civic Center             0.094854     0.000660      0.002925      0.000000   \n",
       "East Harlem              0.002953     0.226994      0.004545      0.000000   \n",
       "East Village             0.035123     0.014654      0.267049      0.000000   \n",
       "Ellis Island             0.000000     0.000000      0.000000      0.000000   \n",
       "Financial District       0.062407     0.004128      0.020114      0.333333   \n",
       "Flatiron District        0.011518     0.004646      0.017493      0.000000   \n",
       "Governors Island         0.000000     0.000000      0.000001      0.000000   \n",
       "Gramercy                 0.016336     0.007572      0.046631      0.000000   \n",
       "Greenwich Village        0.025298     0.004744      0.043016      0.000000   \n",
       "Harlem                   0.001571     0.048219      0.002174      0.000000   \n",
       "Hell's Kitchen           0.018753     0.021714      0.019352      0.000000   \n",
       "Inwood                   0.000121     0.001174      0.000186      0.000000   \n",
       "Kips Bay                 0.012140     0.009819      0.035692      0.000000   \n",
       "Liberty Island           0.000000     0.000000      0.000000      0.000000   \n",
       "Little Italy             0.004248     0.000316      0.002765      0.000000   \n",
       "Lower East Side          0.022759     0.006341      0.062489      0.000000   \n",
       "Marble Hill              0.000000     0.000054      0.000002      0.000000   \n",
       "Midtown                  0.074339     0.083211      0.085830      0.333333   \n",
       "Morningside Heights      0.001433     0.015945      0.001090      0.000000   \n",
       "Murray Hill              0.015628     0.011924      0.025001      0.000000   \n",
       "NoHo                     0.010965     0.001815      0.024267      0.000000   \n",
       "Nolita                   0.007322     0.001045      0.010414      0.000000   \n",
       "Outside Manhattan        0.238404     0.081882      0.087485      0.333333   \n",
       "Randall's Island         0.000017     0.001878      0.000021      0.000000   \n",
       "Roosevelt Island         0.000104     0.000287      0.000201      0.000000   \n",
       "SoHo                     0.056640     0.004087      0.030804      0.000000   \n",
       "Stuyvesant Town          0.003005     0.002272      0.012744      0.000000   \n",
       "Theater District         0.015023     0.015582      0.012679      0.000000   \n",
       "Tribeca                  0.072336     0.002657      0.013436      0.000000   \n",
       "Two Bridges              0.003885     0.000167      0.000760      0.000000   \n",
       "Upper East Side          0.034243     0.283381      0.042727      0.000000   \n",
       "Upper West Side          0.013366     0.082261      0.013785      0.000000   \n",
       "Washington Heights       0.000915     0.005135      0.000728      0.000000   \n",
       "West Village             0.029373     0.007347      0.036951      0.000000   \n",
       "\n",
       "                     Financial District  Flatiron District  ...  \\\n",
       "Battery Park City              0.047462           0.005935  ...   \n",
       "Central Park                   0.003619           0.006185  ...   \n",
       "Chelsea                        0.050662           0.149460  ...   \n",
       "Chinatown                      0.013900           0.001996  ...   \n",
       "Civic Center                   0.014233           0.001568  ...   \n",
       "East Harlem                    0.002878           0.003780  ...   \n",
       "East Village                   0.033263           0.039652  ...   \n",
       "Ellis Island                   0.000000           0.000000  ...   \n",
       "Financial District             0.308323           0.009846  ...   \n",
       "Flatiron District              0.010499           0.158294  ...   \n",
       "Governors Island               0.000002           0.000000  ...   \n",
       "Gramercy                       0.013817           0.044028  ...   \n",
       "Greenwich Village              0.018316           0.030160  ...   \n",
       "Harlem                         0.001402           0.002031  ...   \n",
       "Hell's Kitchen                 0.025020           0.031605  ...   \n",
       "Inwood                         0.000093           0.000101  ...   \n",
       "Kips Bay                       0.014910           0.037922  ...   \n",
       "Liberty Island                 0.000000           0.000000  ...   \n",
       "Little Italy                   0.002903           0.000951  ...   \n",
       "Lower East Side                0.026523           0.009292  ...   \n",
       "Marble Hill                    0.000002           0.000003  ...   \n",
       "Midtown                        0.092501           0.201095  ...   \n",
       "Morningside Heights            0.000904           0.001161  ...   \n",
       "Murray Hill                    0.018321           0.039477  ...   \n",
       "NoHo                           0.007211           0.008586  ...   \n",
       "Nolita                         0.005462           0.003549  ...   \n",
       "Outside Manhattan              0.088583           0.030385  ...   \n",
       "Randall's Island               0.000027           0.000025  ...   \n",
       "Roosevelt Island               0.000097           0.000144  ...   \n",
       "SoHo                           0.033188           0.022497  ...   \n",
       "Stuyvesant Town                0.004627           0.007010  ...   \n",
       "Theater District               0.022794           0.022409  ...   \n",
       "Tribeca                        0.046910           0.013428  ...   \n",
       "Two Bridges                    0.005057           0.000169  ...   \n",
       "Upper East Side                0.039937           0.049447  ...   \n",
       "Upper West Side                0.013767           0.022422  ...   \n",
       "Washington Heights             0.000455           0.000544  ...   \n",
       "West Village                   0.032382           0.044800  ...   \n",
       "\n",
       "                     Roosevelt Island      SoHo  Stuyvesant Town  \\\n",
       "Battery Park City            0.003496  0.022156         0.006111   \n",
       "Central Park                 0.005493  0.003856         0.003136   \n",
       "Chelsea                      0.047566  0.079060         0.063505   \n",
       "Chinatown                    0.003121  0.011711         0.005500   \n",
       "Civic Center                 0.001248  0.007127         0.002022   \n",
       "East Harlem                  0.009613  0.001880         0.005284   \n",
       "East Village                 0.025843  0.040433         0.163126   \n",
       "Ellis Island                 0.000000  0.000000         0.000000   \n",
       "Financial District           0.009988  0.032176         0.021818   \n",
       "Flatiron District            0.008115  0.015965         0.022798   \n",
       "Governors Island             0.000000  0.000000         0.000009   \n",
       "Gramercy                     0.011985  0.019428         0.073139   \n",
       "Greenwich Village            0.010362  0.049476         0.025368   \n",
       "Harlem                       0.004994  0.001547         0.002058   \n",
       "Hell's Kitchen               0.029588  0.024049         0.017514   \n",
       "Inwood                       0.000499  0.000109         0.000207   \n",
       "Kips Bay                     0.021348  0.010491         0.048615   \n",
       "Liberty Island               0.000000  0.000000         0.000000   \n",
       "Little Italy                 0.000749  0.007625         0.001546   \n",
       "Lower East Side              0.011985  0.018458         0.034489   \n",
       "Marble Hill                  0.000000  0.000000         0.000000   \n",
       "Midtown                      0.178027  0.077200         0.108832   \n",
       "Morningside Heights          0.003121  0.000999         0.001402   \n",
       "Murray Hill                  0.029588  0.012959         0.033267   \n",
       "NoHo                         0.002747  0.015320         0.010514   \n",
       "Nolita                       0.002372  0.017229         0.004969   \n",
       "Outside Manhattan            0.230712  0.076734         0.065707   \n",
       "Randall's Island             0.000125  0.000022         0.000045   \n",
       "Roosevelt Island             0.121723  0.000084         0.000198   \n",
       "SoHo                         0.008614  0.251787         0.017155   \n",
       "Stuyvesant Town              0.003745  0.002530         0.143788   \n",
       "Theater District             0.034082  0.017367         0.014117   \n",
       "Tribeca                      0.007241  0.065297         0.009786   \n",
       "Two Bridges                  0.000125  0.000505         0.000503   \n",
       "Upper East Side              0.116355  0.025888         0.054223   \n",
       "Upper West Side              0.038327  0.015687         0.015294   \n",
       "Washington Heights           0.000624  0.000548         0.000692   \n",
       "West Village                 0.016479  0.074307         0.023301   \n",
       "\n",
       "                     Theater District   Tribeca  Two Bridges  Upper East Side  \\\n",
       "Battery Park City            0.006009  0.065660     0.020986         0.001996   \n",
       "Central Park                 0.015330  0.003473     0.004428         0.025968   \n",
       "Chelsea                      0.083142  0.067593     0.041201         0.027948   \n",
       "Chinatown                    0.001892  0.012520     0.026088         0.000896   \n",
       "Civic Center                 0.001154  0.019279     0.018675         0.000604   \n",
       "East Harlem                  0.005040  0.001950     0.005968         0.031295   \n",
       "East Village                 0.013234  0.024775     0.068733         0.013117   \n",
       "Ellis Island                 0.000000  0.000002     0.000000         0.000000   \n",
       "Financial District           0.009674  0.091823     0.168079         0.004782   \n",
       "Flatiron District            0.011681  0.011230     0.009723         0.006645   \n",
       "Governors Island             0.000000  0.000000     0.000000         0.000000   \n",
       "Gramercy                     0.009380  0.013097     0.018964         0.009861   \n",
       "Greenwich Village            0.012165  0.024398     0.018868         0.005791   \n",
       "Harlem                       0.004624  0.001554     0.002599         0.006336   \n",
       "Hell's Kitchen               0.109840  0.025583     0.018964         0.019858   \n",
       "Inwood                       0.000436  0.000130     0.000000         0.000322   \n",
       "Kips Bay                     0.011235  0.007992     0.021660         0.012609   \n",
       "Liberty Island               0.000000  0.000000     0.000000         0.000000   \n",
       "Little Italy                 0.001434  0.002202     0.003658         0.000381   \n",
       "Lower East Side              0.004598  0.012410     0.064497         0.004775   \n",
       "Marble Hill                  0.000013  0.000005     0.000000         0.000013   \n",
       "Midtown                      0.227997  0.065910     0.082403         0.173140   \n",
       "Morningside Heights          0.003015  0.001189     0.001733         0.004700   \n",
       "Murray Hill                  0.021330  0.011010     0.019638         0.020794   \n",
       "NoHo                         0.002967  0.008315     0.010204         0.002432   \n",
       "Nolita                       0.001788  0.004885     0.007220         0.001266   \n",
       "Outside Manhattan            0.052603  0.095704     0.130343         0.054612   \n",
       "Randall's Island             0.000038  0.000027     0.000193         0.000281   \n",
       "Roosevelt Island             0.000199  0.000115     0.000000         0.000543   \n",
       "SoHo                         0.012354  0.054893     0.024162         0.005532   \n",
       "Stuyvesant Town              0.001888  0.002009     0.007316         0.002246   \n",
       "Theater District             0.213330  0.017629     0.012611         0.019413   \n",
       "Tribeca                      0.008948  0.249553     0.030612         0.003674   \n",
       "Two Bridges                  0.000109  0.001153     0.081633         0.000089   \n",
       "Upper East Side              0.057019  0.025889     0.046785         0.458643   \n",
       "Upper West Side              0.073301  0.018346     0.010108         0.069060   \n",
       "Washington Heights           0.001931  0.000602     0.000674         0.001317   \n",
       "West Village                 0.020301  0.057107     0.021275         0.009066   \n",
       "\n",
       "                     Upper West Side  Washington Heights  West Village  \n",
       "Battery Park City           0.002298            0.002275      0.016520  \n",
       "Central Park                0.045382            0.012727      0.003864  \n",
       "Chelsea                     0.036770            0.056672      0.145997  \n",
       "Chinatown                   0.000711            0.001462      0.004014  \n",
       "Civic Center                0.000375            0.001007      0.002637  \n",
       "East Harlem                 0.015404            0.023083      0.002303  \n",
       "East Village                0.008366            0.017995      0.037082  \n",
       "Ellis Island                0.000000            0.000000      0.000000  \n",
       "Financial District          0.003202            0.006522      0.019409  \n",
       "Flatiron District           0.005042            0.006646      0.016387  \n",
       "Governors Island            0.000000            0.000000      0.000000  \n",
       "Gramercy                    0.005285            0.008728      0.018288  \n",
       "Greenwich Village           0.005762            0.010742      0.051426  \n",
       "Harlem                      0.025643            0.037864      0.002617  \n",
       "Hell's Kitchen              0.065311            0.076377      0.041418  \n",
       "Inwood                      0.001463            0.016133      0.000236  \n",
       "Kips Bay                    0.005206            0.009252      0.011715  \n",
       "Liberty Island              0.000000            0.000000      0.000000  \n",
       "Little Italy                0.000334            0.000579      0.001990  \n",
       "Lower East Side             0.003297            0.007956      0.014131  \n",
       "Marble Hill                 0.000039            0.000455      0.000011  \n",
       "Midtown                     0.100768            0.077728      0.076938  \n",
       "Morningside Heights         0.031512            0.039547      0.001613  \n",
       "Murray Hill                 0.008749            0.011348      0.012878  \n",
       "NoHo                        0.001893            0.002896      0.011193  \n",
       "Nolita                      0.000972            0.001517      0.006150  \n",
       "Outside Manhattan           0.032387            0.085091      0.040335  \n",
       "Randall's Island            0.000127            0.000221      0.000027  \n",
       "Roosevelt Island            0.000108            0.000221      0.000111  \n",
       "SoHo                        0.005422            0.007956      0.057736  \n",
       "Stuyvesant Town             0.000949            0.001737      0.002785  \n",
       "Theater District            0.032439            0.033879      0.020481  \n",
       "Tribeca                     0.004390            0.007088      0.038994  \n",
       "Two Bridges                 0.000051            0.000124      0.000279  \n",
       "Upper East Side             0.108013            0.083395      0.026851  \n",
       "Upper West Side             0.423600            0.176512      0.023563  \n",
       "Washington Heights          0.007230            0.154905      0.001150  \n",
       "West Village                0.011492            0.019470      0.288874  \n",
       "\n",
       "[38 rows x 38 columns]"
      ]
     },
     "execution_count": 53,
     "metadata": {},
     "output_type": "execute_result"
    }
   ],
   "source": [
    "transition_prob_matrix = pd.DataFrame(transition_matrix_counts / transition_matrix_counts.sum(axis=1), columns=all_neighborhoods, index=all_neighborhoods)\n",
    "transition_prob_matrix"
   ]
  },
  {
   "cell_type": "code",
   "execution_count": 71,
   "id": "d4299e4f",
   "metadata": {},
   "outputs": [
    {
     "data": {
      "text/plain": [
       "Battery Park City      0.590709\n",
       "Central Park           0.454761\n",
       "Chelsea                2.532127\n",
       "Chinatown              0.624341\n",
       "Civic Center           0.244683\n",
       "East Harlem            0.669284\n",
       "East Village           1.761148\n",
       "Ellis Island           0.000029\n",
       "Financial District     1.503190\n",
       "Flatiron District      0.706343\n",
       "Governors Island       0.166684\n",
       "Gramercy               0.870702\n",
       "Greenwich Village      1.935581\n",
       "Harlem                 0.627988\n",
       "Hell's Kitchen         1.540082\n",
       "Inwood                 0.125856\n",
       "Kips Bay               0.806109\n",
       "Liberty Island         0.000002\n",
       "Little Italy           0.197937\n",
       "Lower East Side        0.860141\n",
       "Marble Hill            0.036906\n",
       "Midtown                4.381863\n",
       "Morningside Heights    0.442563\n",
       "Murray Hill            0.962163\n",
       "NoHo                   0.417030\n",
       "Nolita                 0.350043\n",
       "Outside Manhattan      4.355022\n",
       "Randall's Island       0.182041\n",
       "Roosevelt Island       0.128901\n",
       "SoHo                   1.122771\n",
       "Stuyvesant Town        0.297606\n",
       "Theater District       1.028545\n",
       "Tribeca                1.012980\n",
       "Two Bridges            0.110624\n",
       "Upper East Side        2.854555\n",
       "Upper West Side        2.340187\n",
       "Washington Heights     0.386223\n",
       "West Village           1.372491\n",
       "dtype: float64"
      ]
     },
     "execution_count": 71,
     "metadata": {},
     "output_type": "execute_result"
    }
   ],
   "source": [
    "transition_prob_matrix.sum(axis=1)"
   ]
  },
  {
   "cell_type": "code",
   "execution_count": 54,
   "id": "c04fdc14",
   "metadata": {},
   "outputs": [
    {
     "data": {
      "text/plain": [
       "<Axes: >"
      ]
     },
     "execution_count": 54,
     "metadata": {},
     "output_type": "execute_result"
    },
    {
     "data": {
      "image/png": "[encoded data removed]",
      "text/plain": [
       "<Figure size 640x480 with 2 Axes>"
      ]
     },
     "metadata": {},
     "output_type": "display_data"
    }
   ],
   "source": [
    "sns.heatmap(transition_prob_matrix, xticklabels=True, yticklabels=True)"
   ]
  },
  {
   "cell_type": "markdown",
   "id": "281342bd",
   "metadata": {},
   "source": [
    "#### NOTE: Super high value is for a taxi cab going from liberty island (HINT HINT ISLAND??) to a different neighborhood."
   ]
  },
  {
   "cell_type": "markdown",
   "id": "9a9ac1f4",
   "metadata": {},
   "source": [
    "### Why are taxicabs order 1 and not 2??"
   ]
  },
  {
   "cell_type": "code",
   "execution_count": 56,
   "id": "0d9779ec",
   "metadata": {},
   "outputs": [],
   "source": [
    "#Creating markov chain object:\n",
    "taxi_markov_chain = MarkovChain(transition_matrix=transition_prob_matrix, state_names=all_neighborhoods)"
   ]
  },
  {
   "cell_type": "code",
   "execution_count": 55,
   "id": "38033ffe",
   "metadata": {},
   "outputs": [
    {
     "name": "stdout",
     "output_type": "stream",
     "text": [
      "Hell's Kitchen\n"
     ]
    }
   ],
   "source": [
    "print(list(all_neighborhoods)[14])"
   ]
  },
  {
   "cell_type": "code",
   "execution_count": 57,
   "id": "e87e56ab",
   "metadata": {},
   "outputs": [],
   "source": [
    "##Forecasting states:\n",
    "#Initial point: Hells kitchen\n",
    "#Steps: 2, 3, 5, and 10 \n",
    "two_steps = taxi_markov_chain.forecast(2, 14)\n",
    "three_steps = taxi_markov_chain.forecast(3, 14)\n",
    "five_steps = taxi_markov_chain.forecast(5, 14)\n",
    "ten_steps = taxi_markov_chain.forecast(10,14)\n"
   ]
  },
  {
   "cell_type": "code",
   "execution_count": 58,
   "id": "ed5f311b",
   "metadata": {},
   "outputs": [],
   "source": [
    "import plotly.express as px"
   ]
  },
  {
   "cell_type": "code",
   "execution_count": 59,
   "id": "0550bdee",
   "metadata": {},
   "outputs": [
    {
     "data": {
      "application/vnd.plotly.v1+json": {
       "config": {
        "plotlyServerURL": "https://plot.ly"
       },
       "data": [
        {
         "name": "2 Steps",
         "type": "bar",
         "x": [
          "Battery Park City",
          "Central Park",
          "Chelsea",
          "Chinatown",
          "Civic Center",
          "East Harlem",
          "East Village",
          "Ellis Island",
          "Financial District",
          "Flatiron District",
          "Governors Island",
          "Gramercy",
          "Greenwich Village",
          "Harlem",
          "Hell's Kitchen",
          "Inwood",
          "Kips Bay",
          "Liberty Island",
          "Little Italy",
          "Lower East Side",
          "Marble Hill",
          "Midtown",
          "Morningside Heights",
          "Murray Hill",
          "NoHo",
          "Nolita",
          "Outside Manhattan",
          "Randall's Island",
          "Roosevelt Island",
          "SoHo",
          "Stuyvesant Town",
          "Theater District",
          "Tribeca",
          "Two Bridges",
          "Upper East Side",
          "Upper West Side",
          "Washington Heights",
          "West Village"
         ],
         "xaxis": "x",
         "y": {
          "bdata": "DOqXJGCUpz8J2MOCxWmqPyzupon8N7E/pK9Irvgfoj8R5OPg3yeiPzoiwYZDgKM/3gjRD86eoT8cKdMJixehP7nBfGRS3qM/McLaDYnEqD/BbUtBraOaP73wgjoLD6M/enFfkmvfpD9xhvlmxm6tP/UngF40g74//jaUoeUssz/r9R3noo6jP5MI3rFRWpg/2oQ78+guoz/lQ43L4POgP+vflO525bE/7S8EKxkUrD9bN9TCu/+rP8Kr9d5n6aU/7jWjtJHUoT/fyp6TpqKhPzWTHVsxo6Q/5G0LybuOoj8jOBSDrIKmP5M8lNCTJ6Q/DupBd52XoT/es3vBj3m1P7gAdrtRaaQ/8OcdLuRxoT/df3IQAHujP8O9DK0bMrE/duXTdHDHsT8jnkvK+kSqPw==",
          "dtype": "f8"
         },
         "yaxis": "y"
        },
        {
         "name": "3 Steps",
         "type": "bar",
         "x": [
          "Battery Park City",
          "Central Park",
          "Chelsea",
          "Chinatown",
          "Civic Center",
          "East Harlem",
          "East Village",
          "Ellis Island",
          "Financial District",
          "Flatiron District",
          "Governors Island",
          "Gramercy",
          "Greenwich Village",
          "Harlem",
          "Hell's Kitchen",
          "Inwood",
          "Kips Bay",
          "Liberty Island",
          "Little Italy",
          "Lower East Side",
          "Marble Hill",
          "Midtown",
          "Morningside Heights",
          "Murray Hill",
          "NoHo",
          "Nolita",
          "Outside Manhattan",
          "Randall's Island",
          "Roosevelt Island",
          "SoHo",
          "Stuyvesant Town",
          "Theater District",
          "Tribeca",
          "Two Bridges",
          "Upper East Side",
          "Upper West Side",
          "Washington Heights",
          "West Village"
         ],
         "xaxis": "x2",
         "y": {
          "bdata": "nU+GDG9uqT9kzuyb6MarP5U/58lGzK4/E0eveAJrpj9TyD9pUrWmP98fH7hzFqg/9KKCBE9Upj9JLIqjidymP0iuOBg6fKc/+KD/dFrrqj/KvdAoa8ykP26ePJw8iqc/NyhhRSabqD8CsNBxAkWtP07JfFkmQLM/oCr+kMayrz8V43f0YfCnP3pxX5Jr36Q/JJMypPQApz987rUKI9alP1a+Q7wfha4/q0FJ+6cYrD80Ya86evqtP9KUjqacWqk/GxotLB2bpj9WfL0s+E+mPwhXQtbc3qc/yPGALUswpz/6cZyXuEKpP+tIw4Th66c/DjjPunSFpj/6EL2EIPGwPzjNPu6z6Kc/Reo1A4Qrpj/97z4PeDGoPwbqAbei068/EwEBUwZ3rz/15M7d3iirPw==",
          "dtype": "f8"
         },
         "yaxis": "y2"
        },
        {
         "name": "5 Steps",
         "type": "bar",
         "x": [
          "Battery Park City",
          "Central Park",
          "Chelsea",
          "Chinatown",
          "Civic Center",
          "East Harlem",
          "East Village",
          "Ellis Island",
          "Financial District",
          "Flatiron District",
          "Governors Island",
          "Gramercy",
          "Greenwich Village",
          "Harlem",
          "Hell's Kitchen",
          "Inwood",
          "Kips Bay",
          "Liberty Island",
          "Little Italy",
          "Lower East Side",
          "Marble Hill",
          "Midtown",
          "Morningside Heights",
          "Murray Hill",
          "NoHo",
          "Nolita",
          "Outside Manhattan",
          "Randall's Island",
          "Roosevelt Island",
          "SoHo",
          "Stuyvesant Town",
          "Theater District",
          "Tribeca",
          "Two Bridges",
          "Upper East Side",
          "Upper West Side",
          "Washington Heights",
          "West Village"
         ],
         "xaxis": "x3",
         "y": {
          "bdata": "Zd7DGZ2yqj87LsdjU8mrPzjTqVk156s/l1n1U6D4qT97Sl4A1heqP2pek/aR/Ko/H2g4JGYQqj/X5Nd4kDOqP/wnA0N9Qao/nzlRuRdLqz+IX5vKnMSpP7SKOOuieao/j+Ux37Czqj97kcYmIROsP10hDu5W+Kw//ZByeb0prD/4pZbtiaKqP4PlckjGFqo/6xnBq8kWqj/BnRTxONqpP6KCAnDb5qs/BsEEL+mOqz9f08s6upasP8xcG62e/6o/9/NPo24oqj/ajUU3Av+pP/NKyBXuW6o/H57AYm6Lqj+QI7dSCdqqPwMlp2Ctb6o/EgE9Fy8uqj+a4bvK/GmsP2hVEcLcXqo/wUCwFxz3qT/epyoKe/yqPz8Jrh9Ssqw/srwpJ7BRrD/+sMQ3ZC+rPw==",
          "dtype": "f8"
         },
         "yaxis": "y3"
        },
        {
         "name": "10 Steps",
         "type": "bar",
         "x": [
          "Battery Park City",
          "Central Park",
          "Chelsea",
          "Chinatown",
          "Civic Center",
          "East Harlem",
          "East Village",
          "Ellis Island",
          "Financial District",
          "Flatiron District",
          "Governors Island",
          "Gramercy",
          "Greenwich Village",
          "Harlem",
          "Hell's Kitchen",
          "Inwood",
          "Kips Bay",
          "Liberty Island",
          "Little Italy",
          "Lower East Side",
          "Marble Hill",
          "Midtown",
          "Morningside Heights",
          "Murray Hill",
          "NoHo",
          "Nolita",
          "Outside Manhattan",
          "Randall's Island",
          "Roosevelt Island",
          "SoHo",
          "Stuyvesant Town",
          "Theater District",
          "Tribeca",
          "Two Bridges",
          "Upper East Side",
          "Upper West Side",
          "Washington Heights",
          "West Village"
         ],
         "xaxis": "x4",
         "y": {
          "bdata": "enpuadFAqz95cQlSj1mrP1Zg+tS+S6s/pcOPeIk8qz9iywuqfj2rPwpzPmBHVas/vctsVhg/qz+gegwGXECrP9zE6f0mP6s/VecXaWNJqz/HQ+ExHDmrPxGRKMWXQ6s/QllAiyZDqz8Z6BT2zFmrP3dnpQxIVas/l85F7/hUqz88S7cAk0arPxbrt3etPKs/KLqIIvg8qz+/4bLPFzyrPxJFIGGXUqs/w+sigjRQqz+j3KV7yF+rPxy1oL5OSqs/pKTO+wM/qz/7CekQTjyrP+Gpa9J8Qqs/YsyNH9ZMqz88vTebbUmrP1pyXPtXP6s/25RsI5xBqz+6+VM0zFKrP7RaqOBWPqs/nXn2/Ho9qz8AcpC1wFOrP3F5SIGlXqs/6GEFXKFYqz+VeQ1JrUSrPw==",
          "dtype": "f8"
         },
         "yaxis": "y4"
        }
       ],
       "layout": {
        "annotations": [
         {
          "font": {
           "size": 16
          },
          "showarrow": false,
          "text": "2 Steps",
          "x": 0.5,
          "xanchor": "center",
          "xref": "paper",
          "y": 1,
          "yanchor": "bottom",
          "yref": "paper"
         },
         {
          "font": {
           "size": 16
          },
          "showarrow": false,
          "text": "3 Steps",
          "x": 0.5,
          "xanchor": "center",
          "xref": "paper",
          "y": 0.7375,
          "yanchor": "bottom",
          "yref": "paper"
         },
         {
          "font": {
           "size": 16
          },
          "showarrow": false,
          "text": "5 Steps",
          "x": 0.5,
          "xanchor": "center",
          "xref": "paper",
          "y": 0.475,
          "yanchor": "bottom",
          "yref": "paper"
         },
         {
          "font": {
           "size": 16
          },
          "showarrow": false,
          "text": "10 Steps",
          "x": 0.5,
          "xanchor": "center",
          "xref": "paper",
          "y": 0.2125,
          "yanchor": "bottom",
          "yref": "paper"
         }
        ],
        "height": 800,
        "showlegend": false,
        "template": {
         "data": {
          "bar": [
           {
            "error_x": {
             "color": "#2a3f5f"
            },
            "error_y": {
             "color": "#2a3f5f"
            },
            "marker": {
             "line": {
              "color": "#E5ECF6",
              "width": 0.5
             },
             "pattern": {
              "fillmode": "overlay",
              "size": 10,
              "solidity": 0.2
             }
            },
            "type": "bar"
           }
          ],
          "barpolar": [
           {
            "marker": {
             "line": {
              "color": "#E5ECF6",
              "width": 0.5
             },
             "pattern": {
              "fillmode": "overlay",
              "size": 10,
              "solidity": 0.2
             }
            },
            "type": "barpolar"
           }
          ],
          "carpet": [
           {
            "aaxis": {
             "endlinecolor": "#2a3f5f",
             "gridcolor": "white",
             "linecolor": "white",
             "minorgridcolor": "white",
             "startlinecolor": "#2a3f5f"
            },
            "baxis": {
             "endlinecolor": "#2a3f5f",
             "gridcolor": "white",
             "linecolor": "white",
             "minorgridcolor": "white",
             "startlinecolor": "#2a3f5f"
            },
            "type": "carpet"
           }
          ],
          "choropleth": [
           {
            "colorbar": {
             "outlinewidth": 0,
             "ticks": ""
            },
            "type": "choropleth"
           }
          ],
          "contour": [
           {
            "colorbar": {
             "outlinewidth": 0,
             "ticks": ""
            },
            "colorscale": [
             [
              0,
              "#0d0887"
             ],
             [
              0.1111111111111111,
              "#46039f"
             ],
             [
              0.2222222222222222,
              "#7201a8"
             ],
             [
              0.3333333333333333,
              "#9c179e"
             ],
             [
              0.4444444444444444,
              "#bd3786"
             ],
             [
              0.5555555555555556,
              "#d8576b"
             ],
             [
              0.6666666666666666,
              "#ed7953"
             ],
             [
              0.7777777777777778,
              "#fb9f3a"
             ],
             [
              0.8888888888888888,
              "#fdca26"
             ],
             [
              1,
              "#f0f921"
             ]
            ],
            "type": "contour"
           }
          ],
          "contourcarpet": [
           {
            "colorbar": {
             "outlinewidth": 0,
             "ticks": ""
            },
            "type": "contourcarpet"
           }
          ],
          "heatmap": [
           {
            "colorbar": {
             "outlinewidth": 0,
             "ticks": ""
            },
            "colorscale": [
             [
              0,
              "#0d0887"
             ],
             [
              0.1111111111111111,
              "#46039f"
             ],
             [
              0.2222222222222222,
              "#7201a8"
             ],
             [
              0.3333333333333333,
              "#9c179e"
             ],
             [
              0.4444444444444444,
              "#bd3786"
             ],
             [
              0.5555555555555556,
              "#d8576b"
             ],
             [
              0.6666666666666666,
              "#ed7953"
             ],
             [
              0.7777777777777778,
              "#fb9f3a"
             ],
             [
              0.8888888888888888,
              "#fdca26"
             ],
             [
              1,
              "#f0f921"
             ]
            ],
            "type": "heatmap"
           }
          ],
          "histogram": [
           {
            "marker": {
             "pattern": {
              "fillmode": "overlay",
              "size": 10,
              "solidity": 0.2
             }
            },
            "type": "histogram"
           }
          ],
          "histogram2d": [
           {
            "colorbar": {
             "outlinewidth": 0,
             "ticks": ""
            },
            "colorscale": [
             [
              0,
              "#0d0887"
             ],
             [
              0.1111111111111111,
              "#46039f"
             ],
             [
              0.2222222222222222,
              "#7201a8"
             ],
             [
              0.3333333333333333,
              "#9c179e"
             ],
             [
              0.4444444444444444,
              "#bd3786"
             ],
             [
              0.5555555555555556,
              "#d8576b"
             ],
             [
              0.6666666666666666,
              "#ed7953"
             ],
             [
              0.7777777777777778,
              "#fb9f3a"
             ],
             [
              0.8888888888888888,
              "#fdca26"
             ],
             [
              1,
              "#f0f921"
             ]
            ],
            "type": "histogram2d"
           }
          ],
          "histogram2dcontour": [
           {
            "colorbar": {
             "outlinewidth": 0,
             "ticks": ""
            },
            "colorscale": [
             [
              0,
              "#0d0887"
             ],
             [
              0.1111111111111111,
              "#46039f"
             ],
             [
              0.2222222222222222,
              "#7201a8"
             ],
             [
              0.3333333333333333,
              "#9c179e"
             ],
             [
              0.4444444444444444,
              "#bd3786"
             ],
             [
              0.5555555555555556,
              "#d8576b"
             ],
             [
              0.6666666666666666,
              "#ed7953"
             ],
             [
              0.7777777777777778,
              "#fb9f3a"
             ],
             [
              0.8888888888888888,
              "#fdca26"
             ],
             [
              1,
              "#f0f921"
             ]
            ],
            "type": "histogram2dcontour"
           }
          ],
          "mesh3d": [
           {
            "colorbar": {
             "outlinewidth": 0,
             "ticks": ""
            },
            "type": "mesh3d"
           }
          ],
          "parcoords": [
           {
            "line": {
             "colorbar": {
              "outlinewidth": 0,
              "ticks": ""
             }
            },
            "type": "parcoords"
           }
          ],
          "pie": [
           {
            "automargin": true,
            "type": "pie"
           }
          ],
          "scatter": [
           {
            "fillpattern": {
             "fillmode": "overlay",
             "size": 10,
             "solidity": 0.2
            },
            "type": "scatter"
           }
          ],
          "scatter3d": [
           {
            "line": {
             "colorbar": {
              "outlinewidth": 0,
              "ticks": ""
             }
            },
            "marker": {
             "colorbar": {
              "outlinewidth": 0,
              "ticks": ""
             }
            },
            "type": "scatter3d"
           }
          ],
          "scattercarpet": [
           {
            "marker": {
             "colorbar": {
              "outlinewidth": 0,
              "ticks": ""
             }
            },
            "type": "scattercarpet"
           }
          ],
          "scattergeo": [
           {
            "marker": {
             "colorbar": {
              "outlinewidth": 0,
              "ticks": ""
             }
            },
            "type": "scattergeo"
           }
          ],
          "scattergl": [
           {
            "marker": {
             "colorbar": {
              "outlinewidth": 0,
              "ticks": ""
             }
            },
            "type": "scattergl"
           }
          ],
          "scattermap": [
           {
            "marker": {
             "colorbar": {
              "outlinewidth": 0,
              "ticks": ""
             }
            },
            "type": "scattermap"
           }
          ],
          "scattermapbox": [
           {
            "marker": {
             "colorbar": {
              "outlinewidth": 0,
              "ticks": ""
             }
            },
            "type": "scattermapbox"
           }
          ],
          "scatterpolar": [
           {
            "marker": {
             "colorbar": {
              "outlinewidth": 0,
              "ticks": ""
             }
            },
            "type": "scatterpolar"
           }
          ],
          "scatterpolargl": [
           {
            "marker": {
             "colorbar": {
              "outlinewidth": 0,
              "ticks": ""
             }
            },
            "type": "scatterpolargl"
           }
          ],
          "scatterternary": [
           {
            "marker": {
             "colorbar": {
              "outlinewidth": 0,
              "ticks": ""
             }
            },
            "type": "scatterternary"
           }
          ],
          "surface": [
           {
            "colorbar": {
             "outlinewidth": 0,
             "ticks": ""
            },
            "colorscale": [
             [
              0,
              "#0d0887"
             ],
             [
              0.1111111111111111,
              "#46039f"
             ],
             [
              0.2222222222222222,
              "#7201a8"
             ],
             [
              0.3333333333333333,
              "#9c179e"
             ],
             [
              0.4444444444444444,
              "#bd3786"
             ],
             [
              0.5555555555555556,
              "#d8576b"
             ],
             [
              0.6666666666666666,
              "#ed7953"
             ],
             [
              0.7777777777777778,
              "#fb9f3a"
             ],
             [
              0.8888888888888888,
              "#fdca26"
             ],
             [
              1,
              "#f0f921"
             ]
            ],
            "type": "surface"
           }
          ],
          "table": [
           {
            "cells": {
             "fill": {
              "color": "#EBF0F8"
             },
             "line": {
              "color": "white"
             }
            },
            "header": {
             "fill": {
              "color": "#C8D4E3"
             },
             "line": {
              "color": "white"
             }
            },
            "type": "table"
           }
          ]
         },
         "layout": {
          "annotationdefaults": {
           "arrowcolor": "#2a3f5f",
           "arrowhead": 0,
           "arrowwidth": 1
          },
          "autotypenumbers": "strict",
          "coloraxis": {
           "colorbar": {
            "outlinewidth": 0,
            "ticks": ""
           }
          },
          "colorscale": {
           "diverging": [
            [
             0,
             "#8e0152"
            ],
            [
             0.1,
             "#c51b7d"
            ],
            [
             0.2,
             "#de77ae"
            ],
            [
             0.3,
             "#f1b6da"
            ],
            [
             0.4,
             "#fde0ef"
            ],
            [
             0.5,
             "#f7f7f7"
            ],
            [
             0.6,
             "#e6f5d0"
            ],
            [
             0.7,
             "#b8e186"
            ],
            [
             0.8,
             "#7fbc41"
            ],
            [
             0.9,
             "#4d9221"
            ],
            [
             1,
             "#276419"
            ]
           ],
           "sequential": [
            [
             0,
             "#0d0887"
            ],
            [
             0.1111111111111111,
             "#46039f"
            ],
            [
             0.2222222222222222,
             "#7201a8"
            ],
            [
             0.3333333333333333,
             "#9c179e"
            ],
            [
             0.4444444444444444,
             "#bd3786"
            ],
            [
             0.5555555555555556,
             "#d8576b"
            ],
            [
             0.6666666666666666,
             "#ed7953"
            ],
            [
             0.7777777777777778,
             "#fb9f3a"
            ],
            [
             0.8888888888888888,
             "#fdca26"
            ],
            [
             1,
             "#f0f921"
            ]
           ],
           "sequentialminus": [
            [
             0,
             "#0d0887"
            ],
            [
             0.1111111111111111,
             "#46039f"
            ],
            [
             0.2222222222222222,
             "#7201a8"
            ],
            [
             0.3333333333333333,
             "#9c179e"
            ],
            [
             0.4444444444444444,
             "#bd3786"
            ],
            [
             0.5555555555555556,
             "#d8576b"
            ],
            [
             0.6666666666666666,
             "#ed7953"
            ],
            [
             0.7777777777777778,
             "#fb9f3a"
            ],
            [
             0.8888888888888888,
             "#fdca26"
            ],
            [
             1,
             "#f0f921"
            ]
           ]
          },
          "colorway": [
           "#636efa",
           "#EF553B",
           "#00cc96",
           "#ab63fa",
           "#FFA15A",
           "#19d3f3",
           "#FF6692",
           "#B6E880",
           "#FF97FF",
           "#FECB52"
          ],
          "font": {
           "color": "#2a3f5f"
          },
          "geo": {
           "bgcolor": "white",
           "lakecolor": "white",
           "landcolor": "#E5ECF6",
           "showlakes": true,
           "showland": true,
           "subunitcolor": "white"
          },
          "hoverlabel": {
           "align": "left"
          },
          "hovermode": "closest",
          "mapbox": {
           "style": "light"
          },
          "paper_bgcolor": "white",
          "plot_bgcolor": "#E5ECF6",
          "polar": {
           "angularaxis": {
            "gridcolor": "white",
            "linecolor": "white",
            "ticks": ""
           },
           "bgcolor": "#E5ECF6",
           "radialaxis": {
            "gridcolor": "white",
            "linecolor": "white",
            "ticks": ""
           }
          },
          "scene": {
           "xaxis": {
            "backgroundcolor": "#E5ECF6",
            "gridcolor": "white",
            "gridwidth": 2,
            "linecolor": "white",
            "showbackground": true,
            "ticks": "",
            "zerolinecolor": "white"
           },
           "yaxis": {
            "backgroundcolor": "#E5ECF6",
            "gridcolor": "white",
            "gridwidth": 2,
            "linecolor": "white",
            "showbackground": true,
            "ticks": "",
            "zerolinecolor": "white"
           },
           "zaxis": {
            "backgroundcolor": "#E5ECF6",
            "gridcolor": "white",
            "gridwidth": 2,
            "linecolor": "white",
            "showbackground": true,
            "ticks": "",
            "zerolinecolor": "white"
           }
          },
          "shapedefaults": {
           "line": {
            "color": "#2a3f5f"
           }
          },
          "ternary": {
           "aaxis": {
            "gridcolor": "white",
            "linecolor": "white",
            "ticks": ""
           },
           "baxis": {
            "gridcolor": "white",
            "linecolor": "white",
            "ticks": ""
           },
           "bgcolor": "#E5ECF6",
           "caxis": {
            "gridcolor": "white",
            "linecolor": "white",
            "ticks": ""
           }
          },
          "title": {
           "x": 0.05
          },
          "xaxis": {
           "automargin": true,
           "gridcolor": "white",
           "linecolor": "white",
           "ticks": "",
           "title": {
            "standoff": 15
           },
           "zerolinecolor": "white",
           "zerolinewidth": 2
          },
          "yaxis": {
           "automargin": true,
           "gridcolor": "white",
           "linecolor": "white",
           "ticks": "",
           "title": {
            "standoff": 15
           },
           "zerolinecolor": "white",
           "zerolinewidth": 2
          }
         }
        },
        "xaxis": {
         "anchor": "y",
         "domain": [
          0,
          1
         ],
         "matches": "x4",
         "showticklabels": false
        },
        "xaxis2": {
         "anchor": "y2",
         "domain": [
          0,
          1
         ],
         "matches": "x4",
         "showticklabels": false
        },
        "xaxis3": {
         "anchor": "y3",
         "domain": [
          0,
          1
         ],
         "matches": "x4",
         "showticklabels": false
        },
        "xaxis4": {
         "anchor": "y4",
         "domain": [
          0,
          1
         ],
         "title": {
          "text": "Neighborhood"
         }
        },
        "yaxis": {
         "anchor": "x",
         "domain": [
          0.7875,
          1
         ],
         "title": {
          "text": "Probability"
         }
        },
        "yaxis2": {
         "anchor": "x2",
         "domain": [
          0.525,
          0.7375
         ],
         "title": {
          "text": "Probability"
         }
        },
        "yaxis3": {
         "anchor": "x3",
         "domain": [
          0.2625,
          0.475
         ],
         "title": {
          "text": "Probability"
         }
        },
        "yaxis4": {
         "anchor": "x4",
         "domain": [
          0,
          0.2125
         ],
         "title": {
          "text": "Probability"
         }
        }
       }
      }
     },
     "metadata": {},
     "output_type": "display_data"
    }
   ],
   "source": [
    "from plotly.subplots import make_subplots\n",
    "import plotly.graph_objects as go\n",
    "\n",
    "# Create subplots with shared x-axis\n",
    "fig = make_subplots(\n",
    "    rows=4, cols=1,\n",
    "    shared_xaxes=True,\n",
    "    shared_yaxes=True,\n",
    "    subplot_titles=(\"2 Steps\", \"3 Steps\", \"5 Steps\", \"10 Steps\"),\n",
    "    vertical_spacing=0.05\n",
    ")\n",
    "\n",
    "# Add each bar chart as a subplot\n",
    "fig.add_trace(\n",
    "    go.Bar(x=transition_prob_matrix.columns.values, y=two_steps, name=\"2 Steps\"),\n",
    "    row=1, col=1\n",
    ")\n",
    "\n",
    "fig.add_trace(\n",
    "    go.Bar(x=transition_prob_matrix.columns.values, y=three_steps, name=\"3 Steps\"),\n",
    "    row=2, col=1\n",
    ")\n",
    "\n",
    "fig.add_trace(\n",
    "    go.Bar(x=transition_prob_matrix.columns.values, y=five_steps, name=\"5 Steps\"),\n",
    "    row=3, col=1\n",
    ")\n",
    "\n",
    "fig.add_trace(\n",
    "    go.Bar(x=transition_prob_matrix.columns.values, y=ten_steps, name=\"10 Steps\"),\n",
    "    row=4, col=1\n",
    ")\n",
    "\n",
    "# Update layout\n",
    "fig.update_xaxes(title_text=\"Neighborhood\", row=4, col=1)\n",
    "fig.update_yaxes(title_text=\"Probability\")\n",
    "fig.update_layout(height=800, showlegend=False)\n",
    "\n",
    "fig.show()"
   ]
  }
 ],
 "metadata": {
  "kernelspec": {
   "display_name": "ds6001",
   "language": "python",
   "name": "python3"
  },
  "language_info": {
   "codemirror_mode": {
    "name": "ipython",
    "version": 3
   },
   "file_extension": ".py",
   "mimetype": "text/x-python",
   "name": "python",
   "nbconvert_exporter": "python",
   "pygments_lexer": "ipython3",
   "version": "3.13.5"
  }
 },
 "nbformat": 4,
 "nbformat_minor": 5
}

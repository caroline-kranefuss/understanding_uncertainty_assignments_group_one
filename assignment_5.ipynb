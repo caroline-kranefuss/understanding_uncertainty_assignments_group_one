{
 "cells": [
  {
   "cell_type": "markdown",
   "id": "dd21efe9",
   "metadata": {},
   "source": [
    "# Assignment 5\n",
    "### Do all four questions."
   ]
  },
  {
   "cell_type": "markdown",
   "id": "1ee9b4e8",
   "metadata": {},
   "source": [
    "**1.** Let's review some basic matrix multiplication. When you have an $M \\times N$ matrix $A$ with $M$ rows and $N$ columns, \n",
    "$$\n",
    "A= \\left[ \\begin{array}{cccc} a_{11} & a_{12} & ... & a_{1N} \\\\\n",
    "a_{21} & a_{22} & ... & a_{2N} \\\\\n",
    "\\vdots & \\vdots & ... & \\vdots \\\\\n",
    "a_{M1} & a_{M2} & ... & a_{MN} \n",
    "\\end{array} \\right],\n",
    "$$\n",
    "and you right-multiply it by a vector\n",
    "$$\n",
    "x = \\left[ \\begin{array}{c} x_1 \\\\ x_2 \\\\ \\vdots \\\\ x_N \n",
    "\\end{array} \\right],\n",
    "$$\n",
    "you get\n",
    "$$\n",
    "Ax = \\left[ \\begin{array}{c} \\sum_{i=1}^N a_{1i} x_i \\\\ \\sum_{i=1}^N a_{2i} x_i \\\\ \\vdots \\\\ \\sum_{i=1}^N a_{Mi} x_i \n",
    "\\end{array} \\right].\n",
    "$$\n",
    "This is just \"matrix row times column vector\" element-by-element, stacking the results into a new vector.\n",
    "\n",
    "For this to make sense, $N$ must be the same for the matrix and the vector, but $M$ can be different from $N$. \n",
    "\n",
    "Let's play with some NumPy to see this. First we'll define a matrix $A$:"
   ]
  },
  {
   "cell_type": "code",
   "execution_count": 3,
   "id": "33df3579",
   "metadata": {},
   "outputs": [
    {
     "data": {
      "text/plain": [
       "array([[1, 2, 3],\n",
       "       [4, 5, 6],\n",
       "       [7, 8, 9]])"
      ]
     },
     "execution_count": 3,
     "metadata": {},
     "output_type": "execute_result"
    }
   ],
   "source": [
    "import numpy as np\n",
    "\n",
    "A = np.array([ [1,2,3],\n",
    "              [4,5,6],\n",
    "              [7,8,9]])\n",
    "A"
   ]
  },
  {
   "cell_type": "markdown",
   "id": "94b1b3ac",
   "metadata": {},
   "source": [
    "a. Multiply $A$ times each of the following vectors using the @ operator. Explain which part of the $A$ matrix gets selected and explain why, using the definition of matrix multiplication. "
   ]
  },
  {
   "cell_type": "code",
   "execution_count": 4,
   "id": "5b6148d2",
   "metadata": {},
   "outputs": [],
   "source": [
    "e_1 = np.array([1,0,0])\n",
    "e_2 = np.array([0,1,0])\n",
    "e_3 = np.array([0,0,1])"
   ]
  },
  {
   "cell_type": "code",
   "execution_count": 5,
   "id": "150d025a",
   "metadata": {},
   "outputs": [
    {
     "data": {
      "text/plain": [
       "array([1, 4, 7])"
      ]
     },
     "execution_count": 5,
     "metadata": {},
     "output_type": "execute_result"
    }
   ],
   "source": [
    "A@e_1 \n",
    "# Selects the the first column of A (1,4,7) \n",
    "# This is because the row vector is multiplied by each row, summing the multiplicative results of each element in the row times each corresponding element in the column vector.\n",
    "# Since the second two elements in the column vector are 0, the second two elements in each row multiply to zero, leaving only the items in the first column in the summation."
   ]
  },
  {
   "cell_type": "code",
   "execution_count": 6,
   "id": "a8c985fc",
   "metadata": {},
   "outputs": [
    {
     "data": {
      "text/plain": [
       "array([2, 5, 8])"
      ]
     },
     "execution_count": 6,
     "metadata": {},
     "output_type": "execute_result"
    }
   ],
   "source": [
    "A@e_2\n",
    "# Selects the second column of A (2,5,8) for the same reasons."
   ]
  },
  {
   "cell_type": "code",
   "execution_count": 7,
   "id": "015065b3",
   "metadata": {},
   "outputs": [
    {
     "data": {
      "text/plain": [
       "array([3, 6, 9])"
      ]
     },
     "execution_count": 7,
     "metadata": {},
     "output_type": "execute_result"
    }
   ],
   "source": [
    "A@e_3\n",
    "# Selects the third column of A (2,5,8) for the same reasons."
   ]
  },
  {
   "cell_type": "markdown",
   "id": "72a4704e",
   "metadata": {},
   "source": [
    "b. Now multiply $A$ times $u = (1,1,1)$. Explain the logic of the result with the definition of matrix multiplication."
   ]
  },
  {
   "cell_type": "code",
   "execution_count": 8,
   "id": "5bf73f9b",
   "metadata": {},
   "outputs": [],
   "source": [
    "u = np.ones(3)"
   ]
  },
  {
   "cell_type": "code",
   "execution_count": 9,
   "id": "0f27c8fb",
   "metadata": {},
   "outputs": [
    {
     "data": {
      "text/plain": [
       "array([ 6., 15., 24.])"
      ]
     },
     "execution_count": 9,
     "metadata": {},
     "output_type": "execute_result"
    }
   ],
   "source": [
    "A@u\n",
    "# This result is just addition across rows.\n",
    "# In matrix multiplication, each element of the column vector is multiplied by the element in x that has the same column # as the first vector has for its row #.\n",
    "# Then each of these results are added across the row.\n",
    "# Since all elements of u are 1, it is just the elements in each row of A added together."
   ]
  },
  {
   "cell_type": "markdown",
   "id": "dde75eab",
   "metadata": {},
   "source": [
    "c. Whenever a matrix has 1's on the diagonal and zeros everywhere else, we call it an **identity matrix**. What happens when you multiple $A$ times $x$ below? What happens when you multiple an identity matrix times any vector? Explain your result with the definition of matrix multiplication."
   ]
  },
  {
   "cell_type": "code",
   "execution_count": 10,
   "id": "b0d349c4",
   "metadata": {},
   "outputs": [],
   "source": [
    "A = np.array([ [1,0,0],\n",
    "              [0,1,0],\n",
    "              [0,0,1]])\n",
    "x = np.array([-2,4,11])\n"
   ]
  },
  {
   "cell_type": "code",
   "execution_count": 11,
   "id": "e1b34de7",
   "metadata": {},
   "outputs": [
    {
     "data": {
      "text/plain": [
       "array([-2,  4, 11])"
      ]
     },
     "execution_count": 11,
     "metadata": {},
     "output_type": "execute_result"
    }
   ],
   "source": [
    "A@x\n",
    "# It results in vector x itself. \n",
    "# This is because the identity matrix, when multiplied by x, only selects the first element from the first row of x, the second element from the second row of x, etc.\n",
    "# Nothing leads to adding across rows because every element in the identiyy matrix except one is zero.\n"
   ]
  },
  {
   "cell_type": "markdown",
   "id": "57141925",
   "metadata": {},
   "source": [
    "d. What if every row and column sum to 1, but the 1's are no longer on the diagonal? Multiple $A$ times $X$ below and explain the result. Create another matrix whose rows and columns sum to 1, but is not an identity matrix, and show how it permutes the values of $x$. "
   ]
  },
  {
   "cell_type": "code",
   "execution_count": 12,
   "id": "83a9ed11",
   "metadata": {},
   "outputs": [],
   "source": [
    "A = np.array([ [0,0,1],\n",
    "              [1,0,0],\n",
    "              [0,1,0]])\n",
    "x = np.array([-2,4,11])\n"
   ]
  },
  {
   "cell_type": "code",
   "execution_count": 13,
   "id": "b7b230f1",
   "metadata": {},
   "outputs": [
    {
     "data": {
      "text/plain": [
       "array([11, -2,  4])"
      ]
     },
     "execution_count": 13,
     "metadata": {},
     "output_type": "execute_result"
    }
   ],
   "source": [
    "A@x\n",
    "# This takes the elements in array x and shuffles them around, since only the 11 is \"saved\" (not multiplied by 0) by the first row of A, etc."
   ]
  },
  {
   "cell_type": "code",
   "execution_count": 14,
   "id": "e9fdfe9e",
   "metadata": {},
   "outputs": [
    {
     "data": {
      "text/plain": [
       "array([ 4, 11, -2])"
      ]
     },
     "execution_count": 14,
     "metadata": {},
     "output_type": "execute_result"
    }
   ],
   "source": [
    "B = np.array([ [0,1,0],\n",
    "              [0,0,1],\n",
    "              [1,0,0]])\n",
    "B@x"
   ]
  },
  {
   "cell_type": "markdown",
   "id": "611c26c3",
   "metadata": {},
   "source": [
    "e. The next matrix $A$ could be a Markov transition matrix: Its columns sum to 1, and each entry $a_{ij}$ can be interpreted as the proportion of observations who moved from state $j$ to state $i$. Multiply $A$ by each of the vectors $e_1$, $e_2$, and $e_3$, and explain your results."
   ]
  },
  {
   "cell_type": "code",
   "execution_count": 15,
   "id": "aff4fb97",
   "metadata": {},
   "outputs": [
    {
     "name": "stdout",
     "output_type": "stream",
     "text": [
      "[[0.50052958 0.24049286 0.18358131]\n",
      " [0.02574731 0.39251588 0.37907577]\n",
      " [0.47372311 0.36699127 0.43734292]]\n"
     ]
    }
   ],
   "source": [
    "rng = np.random.default_rng(100)\n",
    "A = rng.random((3,3)) # Generate a random 3X3 matrix\n",
    "sums = np.sum(A,axis=0) # Column sums\n",
    "A = A/sums # Normalize the columns so they sum to 1\n",
    "print(A)"
   ]
  },
  {
   "cell_type": "code",
   "execution_count": 16,
   "id": "d0ded83d",
   "metadata": {},
   "outputs": [
    {
     "data": {
      "text/plain": [
       "array([0.50052958, 0.02574731, 0.47372311])"
      ]
     },
     "execution_count": 16,
     "metadata": {},
     "output_type": "execute_result"
    }
   ],
   "source": [
    "A@e_1\n",
    "# This is the first column - all the proportions of observations who moved from state 0 (j, column #) to another state (i, row #)."
   ]
  },
  {
   "cell_type": "code",
   "execution_count": 17,
   "id": "ba929794",
   "metadata": {},
   "outputs": [
    {
     "data": {
      "text/plain": [
       "array([0.24049286, 0.39251588, 0.36699127])"
      ]
     },
     "execution_count": 17,
     "metadata": {},
     "output_type": "execute_result"
    }
   ],
   "source": [
    "A@e_2\n",
    "# This is the second column - all the proportions of observations who moved from state 1 (j, column #) to another state (i, row #)."
   ]
  },
  {
   "cell_type": "code",
   "execution_count": 18,
   "id": "b9a7a629",
   "metadata": {},
   "outputs": [
    {
     "data": {
      "text/plain": [
       "array([0.18358131, 0.37907577, 0.43734292])"
      ]
     },
     "execution_count": 18,
     "metadata": {},
     "output_type": "execute_result"
    }
   ],
   "source": [
    "A@e_3\n",
    "# This is the third column - all the proportions of observations who moved from state 2 (j, column #) to another state (i, row #)."
   ]
  },
  {
   "cell_type": "markdown",
   "id": "0647bfa7",
   "metadata": {},
   "source": [
    "f. For each of the vectors $e_1, e_2, e_3$, multiple $A$ times that vector 5 times. What answer do you get for each starting vector? Describe the behavior you observe."
   ]
  },
  {
   "cell_type": "code",
   "execution_count": 19,
   "id": "d7200b49",
   "metadata": {},
   "outputs": [],
   "source": [
    "# Not sure.... getting errors, aren't the dimensions no longer compatible at a certain point?"
   ]
  },
  {
   "cell_type": "markdown",
   "id": "fa2c9a93",
   "metadata": {},
   "source": [
    "*2.* Let's consider a simple Markov transition matrix over two states:\n",
    "$$\n",
    "T = \\left[ \\begin{array}{cc} p_{1\\leftarrow 1} &  p_{1\\leftarrow 2} \\\\\n",
    "p_{2 \\leftarrow 1} & p_{2 \\leftarrow 2} \\end{array}\\right] \n",
    "$$\n",
    "The arrows help visualize the transition a bit: This is the same index notation as usual, $p_{ij}$, but writing it $p_{i \\leftarrow j}$ emphasizes that it's the proportion of times that state $j$ transitions to state $i$. Below, $T$ is given by\n",
    "$$\n",
    "T = \\left[ \\begin{array}{cc} .25 & .5 \\\\\n",
    ".75 & .5 \\end{array}\\right].\n",
    "$$\n",
    "\n",
    "- Start in state 1, at the initial condition $[1,0]$. Multiply that vector by $T$. Write out the result in terms of the formula and compute the result in a code chunk below. What is this object you're looking at, in terms of proportions and transitions?\n",
    "- Multiple by $T$ again. What do you get? This isn't a column of $T$. Explain in words what it is. (Hint: A forecast of what in what period?)\n",
    "- Keep multiplying the current vector of outcomes by $T$. When does it start to settle down without changing further?\n",
    "- Do the above analysis again, starting from the initial condition $[0,1]$. Do you get a different result?\n",
    "- The take-away is that, in the long run, these chains settle down into the long-run proportions, and the sensitivity on initial conditions vanishes. \n"
   ]
  },
  {
   "cell_type": "code",
   "execution_count": 20,
   "id": "4b6a775f",
   "metadata": {},
   "outputs": [],
   "source": [
    "T = np.array([[ 1/4, 1/2],\n",
    "                 [ 3/4, 1/2 ]])"
   ]
  },
  {
   "cell_type": "code",
   "execution_count": 21,
   "id": "4c3c0f58",
   "metadata": {},
   "outputs": [
    {
     "data": {
      "text/plain": [
       "array([0.25, 0.75])"
      ]
     },
     "execution_count": 21,
     "metadata": {},
     "output_type": "execute_result"
    }
   ],
   "source": [
    "s1 = [1,0]\n",
    "T@s1 # Is this right? Should it be s1@T?\n",
    "# The result is [(1*0.25 + 0*0.5), (1*0.75 + 0*0.5)].\n",
    "# This means that 25% of the time, the transition from state 1 to state 1 will occur (ie no state change) and 75% of the time, the transition from state 1 to state 2 will occur."
   ]
  },
  {
   "cell_type": "code",
   "execution_count": 22,
   "id": "70dc12fe",
   "metadata": {},
   "outputs": [
    {
     "data": {
      "text/plain": [
       "array([0.625, 0.5  ])"
      ]
     },
     "execution_count": 22,
     "metadata": {},
     "output_type": "execute_result"
    }
   ],
   "source": [
    "(T@s1)@T\n",
    "# This means that the probability that a state that went from 1 to 1 will stay at 1 is 62.5% and the probability that a state that went from 1 to 2 will stay at state 2 is 50%.\n",
    "# The rest of the possibilities are implied by this."
   ]
  },
  {
   "cell_type": "code",
   "execution_count": 23,
   "id": "be24ce6d",
   "metadata": {},
   "outputs": [
    {
     "data": {
      "text/plain": [
       "array([0.55001831, 0.54998779])"
      ]
     },
     "execution_count": 23,
     "metadata": {},
     "output_type": "execute_result"
    }
   ],
   "source": [
    "((T@s1)@T)@T # array([0.53125, 0.5625 ])\n",
    "(((T@s1)@T)@T)@T # array([0.5546875, 0.546875 ])\n",
    "((((T@s1)@T)@T)@T)@T # array([0.54882812, 0.55078125])\n",
    "(((((T@s1)@T)@T)@T)@T)@T # array([0.55029297, 0.54980469])\n",
    "((((((T@s1)@T)@T)@T)@T)@T)@T # array([0.54992676, 0.55004883])\n",
    "(((((((T@s1)@T)@T)@T)@T)@T)@T)@T # array([0.55001831, 0.54998779])\n",
    "\n",
    "# Starts to settle out by the 4th multiplication."
   ]
  },
  {
   "cell_type": "code",
   "execution_count": 24,
   "id": "99da4126",
   "metadata": {},
   "outputs": [
    {
     "data": {
      "text/plain": [
       "array([0.5, 0.5])"
      ]
     },
     "execution_count": 24,
     "metadata": {},
     "output_type": "execute_result"
    }
   ],
   "source": [
    "s2 = [0,1]\n",
    "T@s2"
   ]
  },
  {
   "cell_type": "code",
   "execution_count": 25,
   "id": "2db8ce12",
   "metadata": {},
   "outputs": [
    {
     "data": {
      "text/plain": [
       "array([0.5, 0.5])"
      ]
     },
     "execution_count": 25,
     "metadata": {},
     "output_type": "execute_result"
    }
   ],
   "source": [
    "(T@s2)@T"
   ]
  },
  {
   "cell_type": "code",
   "execution_count": 26,
   "id": "ede5a289",
   "metadata": {},
   "outputs": [
    {
     "data": {
      "text/plain": [
       "array([0.5, 0.5])"
      ]
     },
     "execution_count": 26,
     "metadata": {},
     "output_type": "execute_result"
    }
   ],
   "source": [
    "((T@s2)@T)@T # array([0.5, 0.5])\n",
    "(((T@s2)@T)@T)@T # array([0.5, 0.5])\n",
    "((((T@s2)@T)@T)@T)@T # array([0.5, 0.5])\n",
    "(((((T@s2)@T)@T)@T)@T)@T # array([0.5, 0.5])\n",
    "\n",
    "# Settles out to about the same proportions as starting at s1"
   ]
  },
  {
   "cell_type": "markdown",
   "id": "921592e9",
   "metadata": {},
   "source": [
    "3. Weather data\n",
    "\n",
    "- Load the `cville_weather.csv` data. This includes data from Jan 4, 2024 to Feb 2, 2025. Are there any missing data issues?\n",
    "- Based on the precipitation variable, `PRCP`, make a new variable called `rain` that takes the value 1 if `PRCP`>0 and 0 otherwise.\n",
    "- Build a two-state Markov chain over the states 0 and 1 for the `rain` variable. \n",
    "- For your chain from c, how likely is it to rain if it was rainy yesterday? How likely is it to rain if it was clear yesterday?\n",
    "- Starting from a clear day, forecast the distribution. How quickly does it converge to a fixed result? What if you start from a rainy day?\n",
    "- Conditional on being rainy, plot a KDE of the `PRCP` variable.\n",
    "- Describe one way of making your model better for forecasting and simulation the weather.\n",
    "\n",
    "Congratulations, you now are a non-parametric meteorologist!"
   ]
  },
  {
   "cell_type": "code",
   "execution_count": 27,
   "id": "8e14757b",
   "metadata": {},
   "outputs": [
    {
     "name": "stdout",
     "output_type": "stream",
     "text": [
      "<class 'pandas.core.frame.DataFrame'>\n",
      "RangeIndex: 411 entries, 0 to 410\n",
      "Data columns (total 13 columns):\n",
      " #   Column           Non-Null Count  Dtype  \n",
      "---  ------           --------------  -----  \n",
      " 0   STATION          411 non-null    object \n",
      " 1   NAME             411 non-null    object \n",
      " 2   DATE             411 non-null    object \n",
      " 3   DAPR             12 non-null     float64\n",
      " 4   DAPR_ATTRIBUTES  12 non-null     object \n",
      " 5   MDPR             12 non-null     float64\n",
      " 6   MDPR_ATTRIBUTES  12 non-null     object \n",
      " 7   PRCP             399 non-null    float64\n",
      " 8   PRCP_ATTRIBUTES  399 non-null    object \n",
      " 9   SNOW             223 non-null    float64\n",
      " 10  SNOW_ATTRIBUTES  223 non-null    object \n",
      " 11  SNWD             1 non-null      float64\n",
      " 12  SNWD_ATTRIBUTES  1 non-null      object \n",
      "dtypes: float64(5), object(8)\n",
      "memory usage: 41.9+ KB\n"
     ]
    }
   ],
   "source": [
    "import pandas as pd\n",
    "\n",
    "weather = pd.read_csv(\"data/cville_weather.csv\")\n",
    "\n",
    "weather.info()\n",
    "# Most datatypes are objects; a few are floats. \n",
    "# SNWD and SNWD_ATTRIBUTES only have one non-null entry each. This is curious...\n",
    "# DAPR, DAPR_ATTRIBUTRES, MDPR, MDPR_ATTRIBUTES are missing the second-most data, with only 12 non null entries for each.\n",
    "# Other columns are also missing some data.\n"
   ]
  },
  {
   "cell_type": "code",
   "execution_count": 28,
   "id": "cb9818a3",
   "metadata": {},
   "outputs": [],
   "source": [
    "# Based on the precipitation variable, `PRCP`, make a new variable called `rain` that takes the value 1 if `PRCP`>0 and 0 otherwise.\n",
    "weather['rain'] = weather['PRCP'] > 0"
   ]
  },
  {
   "cell_type": "code",
   "execution_count": 29,
   "id": "9497606a",
   "metadata": {},
   "outputs": [
    {
     "data": {
      "text/html": [
       "<div>\n",
       "<style scoped>\n",
       "    .dataframe tbody tr th:only-of-type {\n",
       "        vertical-align: middle;\n",
       "    }\n",
       "\n",
       "    .dataframe tbody tr th {\n",
       "        vertical-align: top;\n",
       "    }\n",
       "\n",
       "    .dataframe thead th {\n",
       "        text-align: right;\n",
       "    }\n",
       "</style>\n",
       "<table border=\"1\" class=\"dataframe\">\n",
       "  <thead>\n",
       "    <tr style=\"text-align: right;\">\n",
       "      <th></th>\n",
       "      <th>DATE</th>\n",
       "      <th>rain</th>\n",
       "    </tr>\n",
       "  </thead>\n",
       "  <tbody>\n",
       "    <tr>\n",
       "      <th>0</th>\n",
       "      <td>2024-01-04</td>\n",
       "      <td>True</td>\n",
       "    </tr>\n",
       "    <tr>\n",
       "      <th>1</th>\n",
       "      <td>2024-01-07</td>\n",
       "      <td>True</td>\n",
       "    </tr>\n",
       "    <tr>\n",
       "      <th>2</th>\n",
       "      <td>2024-01-09</td>\n",
       "      <td>True</td>\n",
       "    </tr>\n",
       "    <tr>\n",
       "      <th>3</th>\n",
       "      <td>2024-01-10</td>\n",
       "      <td>True</td>\n",
       "    </tr>\n",
       "    <tr>\n",
       "      <th>4</th>\n",
       "      <td>2024-01-24</td>\n",
       "      <td>False</td>\n",
       "    </tr>\n",
       "    <tr>\n",
       "      <th>...</th>\n",
       "      <td>...</td>\n",
       "      <td>...</td>\n",
       "    </tr>\n",
       "    <tr>\n",
       "      <th>406</th>\n",
       "      <td>2025-01-27</td>\n",
       "      <td>False</td>\n",
       "    </tr>\n",
       "    <tr>\n",
       "      <th>407</th>\n",
       "      <td>2025-01-28</td>\n",
       "      <td>False</td>\n",
       "    </tr>\n",
       "    <tr>\n",
       "      <th>408</th>\n",
       "      <td>2025-01-29</td>\n",
       "      <td>False</td>\n",
       "    </tr>\n",
       "    <tr>\n",
       "      <th>409</th>\n",
       "      <td>2025-01-30</td>\n",
       "      <td>False</td>\n",
       "    </tr>\n",
       "    <tr>\n",
       "      <th>410</th>\n",
       "      <td>2025-02-01</td>\n",
       "      <td>False</td>\n",
       "    </tr>\n",
       "  </tbody>\n",
       "</table>\n",
       "<p>411 rows × 2 columns</p>\n",
       "</div>"
      ],
      "text/plain": [
       "           DATE   rain\n",
       "0    2024-01-04   True\n",
       "1    2024-01-07   True\n",
       "2    2024-01-09   True\n",
       "3    2024-01-10   True\n",
       "4    2024-01-24  False\n",
       "..          ...    ...\n",
       "406  2025-01-27  False\n",
       "407  2025-01-28  False\n",
       "408  2025-01-29  False\n",
       "409  2025-01-30  False\n",
       "410  2025-02-01  False\n",
       "\n",
       "[411 rows x 2 columns]"
      ]
     },
     "execution_count": 29,
     "metadata": {},
     "output_type": "execute_result"
    }
   ],
   "source": [
    "#Subsetting the dataframe so I dont have to read that essay\n",
    "markov_subset_df = weather[[\"DATE\", \"rain\"]]\n",
    "markov_subset_df"
   ]
  },
  {
   "cell_type": "code",
   "execution_count": 30,
   "id": "55bf77c9",
   "metadata": {},
   "outputs": [
    {
     "data": {
      "text/html": [
       "<div>\n",
       "<style scoped>\n",
       "    .dataframe tbody tr th:only-of-type {\n",
       "        vertical-align: middle;\n",
       "    }\n",
       "\n",
       "    .dataframe tbody tr th {\n",
       "        vertical-align: top;\n",
       "    }\n",
       "\n",
       "    .dataframe thead th {\n",
       "        text-align: right;\n",
       "    }\n",
       "</style>\n",
       "<table border=\"1\" class=\"dataframe\">\n",
       "  <thead>\n",
       "    <tr style=\"text-align: right;\">\n",
       "      <th>Next State</th>\n",
       "      <th>False</th>\n",
       "      <th>True</th>\n",
       "    </tr>\n",
       "    <tr>\n",
       "      <th>Current State</th>\n",
       "      <th></th>\n",
       "      <th></th>\n",
       "    </tr>\n",
       "  </thead>\n",
       "  <tbody>\n",
       "    <tr>\n",
       "      <th>False</th>\n",
       "      <td>0.762931</td>\n",
       "      <td>0.237069</td>\n",
       "    </tr>\n",
       "    <tr>\n",
       "      <th>True</th>\n",
       "      <td>0.308989</td>\n",
       "      <td>0.691011</td>\n",
       "    </tr>\n",
       "  </tbody>\n",
       "</table>\n",
       "</div>"
      ],
      "text/plain": [
       "Next State        False     True \n",
       "Current State                    \n",
       "False          0.762931  0.237069\n",
       "True           0.308989  0.691011"
      ]
     },
     "execution_count": 30,
     "metadata": {},
     "output_type": "execute_result"
    }
   ],
   "source": [
    "#Generating transition matrix:\n",
    "markov_subset_df = markov_subset_df.sort_values('DATE')\n",
    "markov_subset_df['next_state'] = markov_subset_df['rain'].shift(-1)\n",
    "df_transitions = markov_subset_df[:-1].copy()\n",
    "transition_counts = pd.crosstab(\n",
    "    df_transitions['rain'], \n",
    "    df_transitions['next_state'],\n",
    "    rownames=['Current State'],\n",
    "    colnames=['Next State']\n",
    ")\n",
    "rain_transition_matrix = transition_counts.div(transition_counts.sum(axis=1), axis=0)\n",
    "rain_transition_matrix"
   ]
  },
  {
   "cell_type": "markdown",
   "id": "50b91aec",
   "metadata": {},
   "source": [
    "If it rained yesterday, there is a 69.1% chance of it raining today. If it was clear yesterday, there is a 30.8% chance."
   ]
  },
  {
   "cell_type": "code",
   "execution_count": 34,
   "id": "ce54ecbd",
   "metadata": {},
   "outputs": [
    {
     "data": {
      "text/plain": [
       "(2, 2)"
      ]
     },
     "execution_count": 34,
     "metadata": {},
     "output_type": "execute_result"
    }
   ],
   "source": [
    "rain_transition_matrix.shape"
   ]
  },
  {
   "cell_type": "code",
   "execution_count": 76,
   "id": "cd2e99fe",
   "metadata": {},
   "outputs": [],
   "source": [
    "class MarkovChain:    \n",
    "    def __init__(self, transition_matrix, state_names=None):\n",
    "\n",
    "        self.transition_matrix = np.array(transition_matrix)\n",
    "        self.n_states = self.transition_matrix.shape[0]\n",
    "        self.states = state_names\n",
    "    \n",
    "    def simulate(self, n_steps, initial_state=0):\n",
    "        # Set initial state\n",
    "        current_state = initial_state\n",
    "        # Start chain\n",
    "        path = [current_state]\n",
    "        #simulate random chain\n",
    "        for step in range(n_steps):\n",
    "            probabilities = self.transition_matrix[current_state]\n",
    "            current_state = np.random.choice(self.n_states, p=probabilities)\n",
    "            path.append(current_state)\n",
    "        #return chain\n",
    "        return [self.states[i] for i in path]\n",
    "    \n",
    "    def steps_to_convergence(self, initial_state=0, tolerance=1e-6, max_steps=10000):\n",
    "\n",
    "        #Compute steady state (left eigenvector with eigenvalue 1)\n",
    "        eigenvalues, eigenvectors = np.linalg.eig(self.transition_matrix.T)\n",
    "        steady_idx = np.argmax(np.abs(eigenvalues - 1) < 1e-10)\n",
    "        steady_state = np.real(eigenvectors[:, steady_idx])\n",
    "        steady_state = steady_state / steady_state.sum()\n",
    "\n",
    "        #setup\n",
    "        current_dist = np.zeros(self.n_states)\n",
    "        current_dist[initial_state] = 1.0\n",
    "        \n",
    "        # Iterate\n",
    "        for step in range(1, max_steps + 1):\n",
    "            current_dist = current_dist @ self.transition_matrix\n",
    "            \n",
    "            if np.sum(np.abs(current_dist - steady_state)) < tolerance:\n",
    "                return step\n",
    "\n",
    "        \n",
    "        return max_steps  # Did not converge within max_steps"
   ]
  },
  {
   "cell_type": "code",
   "execution_count": 79,
   "id": "7c5ae07e",
   "metadata": {},
   "outputs": [
    {
     "name": "stdout",
     "output_type": "stream",
     "text": [
      "Given an inital state of 'raining', it takes 18 for the chain to converge to the steady state distribution\n",
      "Given an inital state of 'clear', it takes 18 for the chain to converge to the steady state distribution\n"
     ]
    }
   ],
   "source": [
    "rain_markov_chain = MarkovChain(rain_transition_matrix, state_names=[\"Raining\", \"Clear\"])\n",
    "print(f\"Given an inital state of 'raining', it takes {rain_markov_chain.steps_to_convergence(initial_state=1)} for the chain to converge to the steady state distribution\")\n",
    "print(f\"Given an inital state of 'clear', it takes {rain_markov_chain.steps_to_convergence(initial_state=1)} for the chain to converge to the steady state distribution\")"
   ]
  },
  {
   "cell_type": "code",
   "execution_count": null,
   "id": "a9582011",
   "metadata": {},
   "outputs": [],
   "source": [
    "import seaborn as sns"
   ]
  },
  {
   "cell_type": "code",
   "execution_count": null,
   "id": "aa49f3dd",
   "metadata": {},
   "outputs": [
    {
     "data": {
      "text/plain": [
       "<Axes: xlabel='PRCP', ylabel='Density'>"
      ]
     },
     "execution_count": 82,
     "metadata": {},
     "output_type": "execute_result"
    },
    {
     "data": {
      "image/png": "[encoded data removed]",
      "text/plain": [
       "<Figure size 640x480 with 1 Axes>"
      ]
     },
     "metadata": {},
     "output_type": "display_data"
    }
   ],
   "source": [
    "sns.kdeplot(data=weather[weather[\"rain\"]==True], x=\"PRCP\")"
   ]
  },
  {
   "cell_type": "markdown",
   "id": "b953c2c4",
   "metadata": {},
   "source": [
    "4. Taxicab trajectories: Using the pickled taxicab data, we want to complete the exercise from class.\n",
    "\n",
    "- For the taxicab trajectory data, determine your state space and clean your sequences of cab rides.\n",
    "- Compute the transition matrix for the taxicab data between neighborhoods in Manhattan. Plot it in a heat map. What are the most common routes?\n",
    "- Explain why taxicabs are most likely order 1, and not 2 or more.\n",
    "- Starting at Hell's Kitchen, create a sequence of forecasts of where the cab is likely to be in 2, 3, 5, and 10 trips\n",
    "- Starting at any neighborhood, iterate your forecast until it is no longer changing very much. Where do cabs spend most of their time working in Manhattan?"
   ]
  },
  {
   "cell_type": "code",
   "execution_count": null,
   "id": "3eb44cea",
   "metadata": {},
   "outputs": [],
   "source": [
    "import pickle"
   ]
  },
  {
   "cell_type": "code",
   "execution_count": 112,
   "id": "62aefa1a",
   "metadata": {},
   "outputs": [],
   "source": [
    "with open(\"data/taxicab.pkl\", 'rb') as file:\n",
    "    taxicab_data = pickle.load(file)"
   ]
  },
  {
   "cell_type": "code",
   "execution_count": 122,
   "id": "d738318f",
   "metadata": {},
   "outputs": [],
   "source": [
    "from functools import reduce"
   ]
  },
  {
   "cell_type": "code",
   "execution_count": null,
   "id": "8c2cffd6",
   "metadata": {},
   "outputs": [],
   "source": [
    "def get_all_possible_states(list_of_rides):\n",
    "    list_of_sets = list(map(lambda x: set(x.unique()), list_of_rides))\n",
    "    union_result_lambda = reduce(lambda x, y: x | y, list_of_sets)\n",
    "    return union_result_lambda\n",
    "\n",
    "all_neighborhoods = get_all_possible_states(taxicab_data)\n",
    "\n",
    "def compute_transition_matrix(states, all_states):\n",
    "    unique_states = sorted(all_states)\n",
    "    \n",
    "    # Initialize count matrix\n",
    "    n_states = len(unique_states)\n",
    "    transition_counts = np.zeros((n_states, n_states), dtype=int)\n",
    "    \n",
    "    # Create a mapping from state to index\n",
    "    state_to_idx = {state: idx for idx, state in enumerate(unique_states)}\n",
    "    \n",
    "    # Count transitions\n",
    "    for i in range(len(states) - 1):\n",
    "        from_state = states.iloc[i]\n",
    "        to_state = states.iloc[i + 1]\n",
    "        from_idx = state_to_idx[from_state]\n",
    "        to_idx = state_to_idx[to_state]\n",
    "        transition_counts[from_idx, to_idx] += 1\n",
    "    \n",
    "    return transition_counts"
   ]
  },
  {
   "cell_type": "code",
   "execution_count": null,
   "id": "26c0f1e5",
   "metadata": {},
   "outputs": [],
   "source": [
    "transition_matrix_counts = reduce(lambda x, y: x + y, list(map(lambda x: compute_transition_matrix(x, all_neighborhoods), taxicab_data)))"
   ]
  },
  {
   "cell_type": "code",
   "execution_count": null,
   "id": "f94438eb",
   "metadata": {},
   "outputs": [],
   "source": [
    "transition_prob_matrix = transition_matrix_counts / transition_matrix_counts.sum(axis=1)\n",
    "print(transition_prob_matrix)"
   ]
  },
  {
   "cell_type": "code",
   "execution_count": 138,
   "id": "c04fdc14",
   "metadata": {},
   "outputs": [
    {
     "data": {
      "text/plain": [
       "<Axes: >"
      ]
     },
     "execution_count": 138,
     "metadata": {},
     "output_type": "execute_result"
    },
    {
     "data": {
      "image/png": "[encoded data removed]",
      "text/plain": [
       "<Figure size 640x480 with 2 Axes>"
      ]
     },
     "metadata": {},
     "output_type": "display_data"
    }
   ],
   "source": [
    "sns.heatmap(transition_prob_matrix)"
   ]
  },
  {
   "cell_type": "markdown",
   "id": "9a9ac1f4",
   "metadata": {},
   "source": [
    "### Why are taxicabs order 1 and not 2??"
   ]
  },
  {
   "cell_type": "code",
   "execution_count": null,
   "id": "e87e56ab",
   "metadata": {},
   "outputs": [],
   "source": []
  }
 ],
 "metadata": {
  "kernelspec": {
   "display_name": "ds6001",
   "language": "python",
   "name": "python3"
  },
  "language_info": {
   "codemirror_mode": {
    "name": "ipython",
    "version": 3
   },
   "file_extension": ".py",
   "mimetype": "text/x-python",
   "name": "python",
   "nbconvert_exporter": "python",
   "pygments_lexer": "ipython3",
   "version": "3.13.5"
  }
 },
 "nbformat": 4,
 "nbformat_minor": 5
}

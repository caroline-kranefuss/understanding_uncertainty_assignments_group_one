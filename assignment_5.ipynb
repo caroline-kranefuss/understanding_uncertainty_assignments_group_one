{
 "cells": [
  {
   "cell_type": "markdown",
   "id": "dd21efe9",
   "metadata": {},
   "source": [
    "# Assignment 5\n",
    "### Do all four questions."
   ]
  },
  {
   "cell_type": "markdown",
   "id": "1ee9b4e8",
   "metadata": {},
   "source": [
    "**1.** Let's review some basic matrix multiplication. When you have an $M \\times N$ matrix $A$ with $M$ rows and $N$ columns, \n",
    "$$\n",
    "A= \\left[ \\begin{array}{cccc} a_{11} & a_{12} & ... & a_{1N} \\\\\n",
    "a_{21} & a_{22} & ... & a_{2N} \\\\\n",
    "\\vdots & \\vdots & ... & \\vdots \\\\\n",
    "a_{M1} & a_{M2} & ... & a_{MN} \n",
    "\\end{array} \\right],\n",
    "$$\n",
    "and you right-multiply it by a vector\n",
    "$$\n",
    "x = \\left[ \\begin{array}{c} x_1 \\\\ x_2 \\\\ \\vdots \\\\ x_N \n",
    "\\end{array} \\right],\n",
    "$$\n",
    "you get\n",
    "$$\n",
    "Ax = \\left[ \\begin{array}{c} \\sum_{i=1}^N a_{1i} x_i \\\\ \\sum_{i=1}^N a_{2i} x_i \\\\ \\vdots \\\\ \\sum_{i=1}^N a_{Mi} x_i \n",
    "\\end{array} \\right].\n",
    "$$\n",
    "This is just \"matrix row times column vector\" element-by-element, stacking the results into a new vector.\n",
    "\n",
    "For this to make sense, $N$ must be the same for the matrix and the vector, but $M$ can be different from $N$. \n",
    "\n",
    "Let's play with some NumPy to see this. First we'll define a matrix $A$:"
   ]
  },
  {
   "cell_type": "code",
   "execution_count": 29,
   "id": "33df3579",
   "metadata": {},
   "outputs": [
    {
     "data": {
      "text/plain": [
       "array([[1, 2, 3],\n",
       "       [4, 5, 6],\n",
       "       [7, 8, 9]])"
      ]
     },
     "execution_count": 29,
     "metadata": {},
     "output_type": "execute_result"
    }
   ],
   "source": [
    "import numpy as np\n",
    "\n",
    "A = np.array([ [1,2,3],\n",
    "              [4,5,6],\n",
    "              [7,8,9]])\n",
    "A"
   ]
  },
  {
   "cell_type": "markdown",
   "id": "94b1b3ac",
   "metadata": {},
   "source": [
    "a. Multiply $A$ times each of the following vectors using the @ operator. Explain which part of the $A$ matrix gets selected and explain why, using the definition of matrix multiplication. "
   ]
  },
  {
   "cell_type": "code",
   "execution_count": 30,
   "id": "5b6148d2",
   "metadata": {},
   "outputs": [],
   "source": [
    "e_1 = np.array([1,0,0])\n",
    "e_2 = np.array([0,1,0])\n",
    "e_3 = np.array([0,0,1])"
   ]
  },
  {
   "cell_type": "code",
   "execution_count": 31,
   "id": "150d025a",
   "metadata": {},
   "outputs": [
    {
     "data": {
      "text/plain": [
       "array([1, 4, 7])"
      ]
     },
     "execution_count": 31,
     "metadata": {},
     "output_type": "execute_result"
    }
   ],
   "source": [
    "A@e_1 \n",
    "# Selects the the first column of A (1,4,7) \n",
    "# This is because the row vector is multiplied by each row, summing the multiplicative results of each element in the row times each corresponding element in the column vector.\n",
    "# Since the second two elements in the column vector are 0, the second two elements in each row multiply to zero, leaving only the items in the first column in the summation."
   ]
  },
  {
   "cell_type": "code",
   "execution_count": 32,
   "id": "a8c985fc",
   "metadata": {},
   "outputs": [
    {
     "data": {
      "text/plain": [
       "array([2, 5, 8])"
      ]
     },
     "execution_count": 32,
     "metadata": {},
     "output_type": "execute_result"
    }
   ],
   "source": [
    "A@e_2\n",
    "# Selects the second column of A (2,5,8) for the same reasons."
   ]
  },
  {
   "cell_type": "code",
   "execution_count": 33,
   "id": "015065b3",
   "metadata": {},
   "outputs": [
    {
     "data": {
      "text/plain": [
       "array([3, 6, 9])"
      ]
     },
     "execution_count": 33,
     "metadata": {},
     "output_type": "execute_result"
    }
   ],
   "source": [
    "A@e_3\n",
    "# Selects the third column of A (2,5,8) for the same reasons."
   ]
  },
  {
   "cell_type": "markdown",
   "id": "72a4704e",
   "metadata": {},
   "source": [
    "b. Now multiply $A$ times $u = (1,1,1)$. Explain the logic of the result with the definition of matrix multiplication."
   ]
  },
  {
   "cell_type": "code",
   "execution_count": 34,
   "id": "5bf73f9b",
   "metadata": {},
   "outputs": [],
   "source": [
    "u = np.ones(3)"
   ]
  },
  {
   "cell_type": "code",
   "execution_count": 35,
   "id": "0f27c8fb",
   "metadata": {},
   "outputs": [
    {
     "data": {
      "text/plain": [
       "array([ 6., 15., 24.])"
      ]
     },
     "execution_count": 35,
     "metadata": {},
     "output_type": "execute_result"
    }
   ],
   "source": [
    "A@u\n",
    "# This result is just addition across rows.\n",
    "# In matrix multiplication, each element of the column vector is multiplied by the element in x that has the same column # as the first vector has for its row #.\n",
    "# Then each of these results are added across the row.\n",
    "# Since all elements of u are 1, it is just the elements in each row of A added together."
   ]
  },
  {
   "cell_type": "markdown",
   "id": "dde75eab",
   "metadata": {},
   "source": [
    "c. Whenever a matrix has 1's on the diagonal and zeros everywhere else, we call it an **identity matrix**. What happens when you multiple $A$ times $x$ below? What happens when you multiple an identity matrix times any vector? Explain your result with the definition of matrix multiplication."
   ]
  },
  {
   "cell_type": "code",
   "execution_count": 36,
   "id": "b0d349c4",
   "metadata": {},
   "outputs": [],
   "source": [
    "A = np.array([ [1,0,0],\n",
    "              [0,1,0],\n",
    "              [0,0,1]])\n",
    "x = np.array([-2,4,11])\n"
   ]
  },
  {
   "cell_type": "code",
   "execution_count": 37,
   "id": "e1b34de7",
   "metadata": {},
   "outputs": [
    {
     "data": {
      "text/plain": [
       "array([-2,  4, 11])"
      ]
     },
     "execution_count": 37,
     "metadata": {},
     "output_type": "execute_result"
    }
   ],
   "source": [
    "A@x\n",
    "# It results in vector x itself. \n",
    "# This is because the identity matrix, when multiplied by x, only selects the first element from the first row of x, the second element from the second row of x, etc.\n",
    "# Nothing leads to adding across rows because every element in the identiyy matrix except one is zero.\n"
   ]
  },
  {
   "cell_type": "markdown",
   "id": "57141925",
   "metadata": {},
   "source": [
    "d. What if every row and column sum to 1, but the 1's are no longer on the diagonal? Multiple $A$ times $X$ below and explain the result. Create another matrix whose rows and columns sum to 1, but is not an identity matrix, and show how it permutes the values of $x$. "
   ]
  },
  {
   "cell_type": "code",
   "execution_count": 38,
   "id": "83a9ed11",
   "metadata": {},
   "outputs": [],
   "source": [
    "A = np.array([ [0,0,1],\n",
    "              [1,0,0],\n",
    "              [0,1,0]])\n",
    "x = np.array([-2,4,11])\n"
   ]
  },
  {
   "cell_type": "code",
   "execution_count": 39,
   "id": "b7b230f1",
   "metadata": {},
   "outputs": [
    {
     "data": {
      "text/plain": [
       "array([11, -2,  4])"
      ]
     },
     "execution_count": 39,
     "metadata": {},
     "output_type": "execute_result"
    }
   ],
   "source": [
    "A@x\n",
    "# This takes the elements in array x and shuffles them around, since only the 11 is \"saved\" (not multiplied by 0) by the first row of A, etc."
   ]
  },
  {
   "cell_type": "code",
   "execution_count": 40,
   "id": "e9fdfe9e",
   "metadata": {},
   "outputs": [
    {
     "data": {
      "text/plain": [
       "array([ 4, 11, -2])"
      ]
     },
     "execution_count": 40,
     "metadata": {},
     "output_type": "execute_result"
    }
   ],
   "source": [
    "B = np.array([ [0,1,0],\n",
    "              [0,0,1],\n",
    "              [1,0,0]])\n",
    "B@x"
   ]
  },
  {
   "cell_type": "markdown",
   "id": "611c26c3",
   "metadata": {},
   "source": [
    "e. The next matrix $A$ could be a Markov transition matrix: Its columns sum to 1, and each entry $a_{ij}$ can be interpreted as the proportion of observations who moved from state $j$ to state $i$. Multiply $A$ by each of the vectors $e_1$, $e_2$, and $e_3$, and explain your results."
   ]
  },
  {
   "cell_type": "code",
   "execution_count": 41,
   "id": "aff4fb97",
   "metadata": {},
   "outputs": [
    {
     "name": "stdout",
     "output_type": "stream",
     "text": [
      "[[0.50052958 0.24049286 0.18358131]\n",
      " [0.02574731 0.39251588 0.37907577]\n",
      " [0.47372311 0.36699127 0.43734292]]\n"
     ]
    }
   ],
   "source": [
    "rng = np.random.default_rng(100)\n",
    "A = rng.random((3,3)) # Generate a random 3X3 matrix\n",
    "sums = np.sum(A,axis=0) # Column sums\n",
    "A = A/sums # Normalize the columns so they sum to 1\n",
    "print(A)"
   ]
  },
  {
   "cell_type": "code",
   "execution_count": 42,
   "id": "d0ded83d",
   "metadata": {},
   "outputs": [
    {
     "data": {
      "text/plain": [
       "array([0.50052958, 0.02574731, 0.47372311])"
      ]
     },
     "execution_count": 42,
     "metadata": {},
     "output_type": "execute_result"
    }
   ],
   "source": [
    "A@e_1\n",
    "# This is the first column - all the proportions of observations who moved from state 0 (j, column #) to another state (i, row #)."
   ]
  },
  {
   "cell_type": "code",
   "execution_count": 43,
   "id": "ba929794",
   "metadata": {},
   "outputs": [
    {
     "data": {
      "text/plain": [
       "array([0.24049286, 0.39251588, 0.36699127])"
      ]
     },
     "execution_count": 43,
     "metadata": {},
     "output_type": "execute_result"
    }
   ],
   "source": [
    "A@e_2\n",
    "# This is the second column - all the proportions of observations who moved from state 1 (j, column #) to another state (i, row #)."
   ]
  },
  {
   "cell_type": "code",
   "execution_count": 44,
   "id": "b9a7a629",
   "metadata": {},
   "outputs": [
    {
     "data": {
      "text/plain": [
       "array([0.18358131, 0.37907577, 0.43734292])"
      ]
     },
     "execution_count": 44,
     "metadata": {},
     "output_type": "execute_result"
    }
   ],
   "source": [
    "A@e_3\n",
    "# This is the third column - all the proportions of observations who moved from state 2 (j, column #) to another state (i, row #)."
   ]
  },
  {
   "cell_type": "markdown",
   "id": "0647bfa7",
   "metadata": {},
   "source": [
    "f. For each of the vectors $e_1, e_2, e_3$, multiply $A$ times that vector 5 times. What answer do you get for each starting vector? Describe the behavior you observe."
   ]
  },
  {
   "cell_type": "code",
   "execution_count": 45,
   "id": "d7200b49",
   "metadata": {},
   "outputs": [
    {
     "name": "stdout",
     "output_type": "stream",
     "text": [
      "[array([0.50052958, 0.02574731, 0.47372311]), array([0.34368862, 0.20257047, 0.45374091]), array([0.30404142, 0.26036337, 0.43559521]), array([0.29476439, 0.27514859, 0.43008701]), array([0.29266551, 0.27862515, 0.42870935])]\n"
     ]
    }
   ],
   "source": [
    "def mult(v1, v2):\n",
    "    return v1@v2\n",
    "\n",
    "def mult_mult(v1, v2, x):\n",
    "    results = []\n",
    "    for _ in range(1, x+1):\n",
    "        results.append(np.linalg.matrix_power(v1, _) @ v2)\n",
    "    return results\n",
    "\n",
    "print(mult_mult(A, e_1, 5))\n",
    "\n",
    "# Some help from ChatGPT here comprehending how to use recursion to multiply A by the result each time and using np.linalg.matrix_power - CNK"
   ]
  },
  {
   "cell_type": "code",
   "execution_count": 46,
   "id": "57b2a6ce",
   "metadata": {},
   "outputs": [
    {
     "name": "stdout",
     "output_type": "stream",
     "text": [
      "[array([0.24049286, 0.39251588, 0.36699127]), array([0.28214379, 0.29937825, 0.41847795]), array([0.29004438, 0.28341002, 0.42654561]), array([0.29163968, 0.2804039 , 0.42795643]), array([0.29197422, 0.27979983, 0.42822595])]\n"
     ]
    }
   ],
   "source": [
    "print(mult_mult(A, e_2, 5))"
   ]
  },
  {
   "cell_type": "code",
   "execution_count": 47,
   "id": "186d189d",
   "metadata": {},
   "outputs": [
    {
     "name": "stdout",
     "output_type": "stream",
     "text": [
      "[array([0.18358131, 0.37907577, 0.43734292]), array([0.26334088, 0.31930609, 0.41735304]), array([0.28521895, 0.29032145, 0.4244596 ]), array([0.29050361, 0.28220175, 0.42729464]), array([0.29171646, 0.2802254 , 0.42805814])]\n"
     ]
    }
   ],
   "source": [
    "print(mult_mult(A, e_3, 5))"
   ]
  },
  {
   "cell_type": "code",
   "execution_count": 48,
   "id": "b2565b9b",
   "metadata": {},
   "outputs": [],
   "source": [
    "# The arrays all come out to about the same values as compared to each other. \n",
    "# This shows that chains settle down into 'long-run proportions' - the dependence on initial conditions gets very small to null. This is the general rule of a Markov chain."
   ]
  },
  {
   "cell_type": "markdown",
   "id": "fa2c9a93",
   "metadata": {},
   "source": [
    "*2.* Let's consider a simple Markov transition matrix over two states:\n",
    "$$\n",
    "T = \\left[ \\begin{array}{cc} p_{1\\leftarrow 1} &  p_{1\\leftarrow 2} \\\\\n",
    "p_{2 \\leftarrow 1} & p_{2 \\leftarrow 2} \\end{array}\\right] \n",
    "$$\n",
    "The arrows help visualize the transition a bit: This is the same index notation as usual, $p_{ij}$, but writing it $p_{i \\leftarrow j}$ emphasizes that it's the proportion of times that state $j$ transitions to state $i$. Below, $T$ is given by\n",
    "$$\n",
    "T = \\left[ \\begin{array}{cc} .25 & .5 \\\\\n",
    ".75 & .5 \\end{array}\\right].\n",
    "$$\n",
    "\n",
    "- Start in state 1, at the initial condition $[1,0]$. Multiply that vector by $T$. Write out the result in terms of the formula and compute the result in a code chunk below. What is this object you're looking at, in terms of proportions and transitions?\n",
    "- Multiple by $T$ again. What do you get? This isn't a column of $T$. Explain in words what it is. (Hint: A forecast of what in what period?)\n",
    "- Keep multiplying the current vector of outcomes by $T$. When does it start to settle down without changing further?\n",
    "- Do the above analysis again, starting from the initial condition $[0,1]$. Do you get a different result?\n",
    "- The take-away is that, in the long run, these chains settle down into the long-run proportions, and the sensitivity on initial conditions vanishes. \n"
   ]
  },
  {
   "cell_type": "code",
   "execution_count": 49,
   "id": "4b6a775f",
   "metadata": {},
   "outputs": [],
   "source": [
    "T = np.array([[ 1/4, 1/2],\n",
    "                 [ 3/4, 1/2 ]])"
   ]
  },
  {
   "cell_type": "code",
   "execution_count": 50,
   "id": "4c3c0f58",
   "metadata": {},
   "outputs": [
    {
     "data": {
      "text/plain": [
       "array([0.25, 0.75])"
      ]
     },
     "execution_count": 50,
     "metadata": {},
     "output_type": "execute_result"
    }
   ],
   "source": [
    "s1 = [1,0]\n",
    "T@s1 \n",
    "# The result is [(1*0.25 + 0*0.5), (1*0.75 + 0*0.5)].\n",
    "# This means that 25% of the time, the transition from state 1 to state 1 will occur (ie no state change) and 75% of the time, the transition from state 1 to state 2 will occur."
   ]
  },
  {
   "cell_type": "code",
   "execution_count": 51,
   "id": "70dc12fe",
   "metadata": {},
   "outputs": [
    {
     "data": {
      "text/plain": [
       "array([0.4375, 0.5625])"
      ]
     },
     "execution_count": 51,
     "metadata": {},
     "output_type": "execute_result"
    }
   ],
   "source": [
    "T@(T@s1)\n",
    "# Pre multiply by T (not post)\n",
    "# This means that the probability that a state that went from 1 to 1 will stay at 1 is 43.75% and the probability that a state that went from 1 to 2 will stay at state 2 is 56.25%.\n",
    "# The rest of the possibilities are implied by this."
   ]
  },
  {
   "cell_type": "code",
   "execution_count": 52,
   "id": "be24ce6d",
   "metadata": {},
   "outputs": [
    {
     "name": "stdout",
     "output_type": "stream",
     "text": [
      "[array([0.25, 0.75]), array([0.4375, 0.5625]), array([0.390625, 0.609375]), array([0.40234375, 0.59765625]), array([0.39941406, 0.60058594])]\n"
     ]
    }
   ],
   "source": [
    "print(mult_mult(T, s1, 5))\n",
    "\n",
    "# Settles out by third iteration\n"
   ]
  },
  {
   "cell_type": "code",
   "execution_count": 53,
   "id": "2db8ce12",
   "metadata": {},
   "outputs": [
    {
     "name": "stdout",
     "output_type": "stream",
     "text": [
      "[array([0.5, 0.5]), array([0.375, 0.625]), array([0.40625, 0.59375]), array([0.3984375, 0.6015625]), array([0.40039062, 0.59960938])]\n"
     ]
    }
   ],
   "source": [
    "s2 = [0,1]\n",
    "\n",
    "print(mult_mult(T, s2, 5))\n",
    "\n",
    "# Also settles out by third iteration to about the same proportions as starting at s1"
   ]
  },
  {
   "cell_type": "markdown",
   "id": "921592e9",
   "metadata": {},
   "source": [
    "3. Weather data\n",
    "\n",
    "- Load the `cville_weather.csv` data. This includes data from Jan 4, 2024 to Feb 2, 2025. Are there any missing data issues?\n",
    "- Based on the precipitation variable, `PRCP`, make a new variable called `rain` that takes the value 1 if `PRCP`>0 and 0 otherwise.\n",
    "- Build a two-state Markov chain over the states 0 and 1 for the `rain` variable. \n",
    "- For your chain from c, how likely is it to rain if it was rainy yesterday? How likely is it to rain if it was clear yesterday?\n",
    "- Starting from a clear day, forecast the distribution. How quickly does it converge to a fixed result? What if you start from a rainy day?\n",
    "- Conditional on being rainy, plot a KDE of the `PRCP` variable.\n",
    "- Describe one way of making your model better for forecasting and simulation the weather.\n",
    "\n",
    "Congratulations, you now are a non-parametric meteorologist!"
   ]
  },
  {
   "cell_type": "code",
   "execution_count": 54,
   "id": "8e14757b",
   "metadata": {},
   "outputs": [
    {
     "name": "stdout",
     "output_type": "stream",
     "text": [
      "<class 'pandas.core.frame.DataFrame'>\n",
      "RangeIndex: 411 entries, 0 to 410\n",
      "Data columns (total 13 columns):\n",
      " #   Column           Non-Null Count  Dtype  \n",
      "---  ------           --------------  -----  \n",
      " 0   STATION          411 non-null    object \n",
      " 1   NAME             411 non-null    object \n",
      " 2   DATE             411 non-null    object \n",
      " 3   DAPR             12 non-null     float64\n",
      " 4   DAPR_ATTRIBUTES  12 non-null     object \n",
      " 5   MDPR             12 non-null     float64\n",
      " 6   MDPR_ATTRIBUTES  12 non-null     object \n",
      " 7   PRCP             399 non-null    float64\n",
      " 8   PRCP_ATTRIBUTES  399 non-null    object \n",
      " 9   SNOW             223 non-null    float64\n",
      " 10  SNOW_ATTRIBUTES  223 non-null    object \n",
      " 11  SNWD             1 non-null      float64\n",
      " 12  SNWD_ATTRIBUTES  1 non-null      object \n",
      "dtypes: float64(5), object(8)\n",
      "memory usage: 41.9+ KB\n"
     ]
    }
   ],
   "source": [
    "import pandas as pd\n",
    "\n",
    "weather = pd.read_csv(\"./cville_weather.csv\")\n",
    "\n",
    "weather.info()\n",
    "# Most datatypes are objects; a few are floats. \n",
    "# SNWD and SNWD_ATTRIBUTES only have one non-null entry each. This is curious...\n",
    "# DAPR, DAPR_ATTRIBUTRES, MDPR, MDPR_ATTRIBUTES are missing the second-most data, with only 12 non null entries for each.\n",
    "# Other columns are also missing some data.\n"
   ]
  },
  {
   "cell_type": "code",
   "execution_count": 55,
   "id": "cb9818a3",
   "metadata": {},
   "outputs": [],
   "source": [
    "# Based on the precipitation variable, `PRCP`, make a new variable called `rain` that takes the value 1 if `PRCP`>0 and 0 otherwise.\n",
    "\n",
    "weather['rain_state'] = weather['PRCP'] > 0"
   ]
  },
  {
   "cell_type": "code",
   "execution_count": 56,
   "id": "55bf77c9",
   "metadata": {},
   "outputs": [],
   "source": [
    "# Build a two-state Markov chain over the states 0 and 1 for the `rain` variable. \n",
    "\n",
    "T = np.array([[ 1/4, 1/2],\n",
    "                 [ 3/4, 1/2 ]]) # What values are we supposed to fill here? Using these as placeholders\n",
    "\n",
    "# It is 50% likely to rain today if it rained yesterday. It is 75% likely to rain today if it was clear yesterday. ## Fix for new values of T"
   ]
  },
  {
   "cell_type": "code",
   "execution_count": 57,
   "id": "f4f9c696",
   "metadata": {},
   "outputs": [
    {
     "name": "stdout",
     "output_type": "stream",
     "text": [
      "[array([0.25, 0.75]), array([0.4375, 0.5625]), array([0.390625, 0.609375]), array([0.40234375, 0.59765625]), array([0.39941406, 0.60058594])]\n"
     ]
    }
   ],
   "source": [
    "# Starting from a clear day, forecast the distribution. How quickly does it converge to a fixed result? What if you start from a rainy day?\n",
    "\n",
    "s1 = [1, 0] # From clear to rain (is this correct? Should it be [0,0] ie from clear to clear?)\n",
    "\n",
    "print(mult_mult(T, s1, 5))\n",
    "\n",
    "# It converges by the third iteration"
   ]
  },
  {
   "cell_type": "code",
   "execution_count": null,
   "id": "09432297",
   "metadata": {},
   "outputs": [
    {
     "name": "stdout",
     "output_type": "stream",
     "text": [
      "[array([0.5, 0.5]), array([0.375, 0.625]), array([0.40625, 0.59375]), array([0.3984375, 0.6015625]), array([0.40039062, 0.59960938])]\n"
     ]
    }
   ],
   "source": [
    "s2 = [0,1] # From rain to clear (is this correct? Should it be [1,1] ie from rain to rain?)\n",
    "\n",
    "print(mult_mult(T, s2, 5))\n",
    "\n",
    "# It converges by the third iteration as well"
   ]
  },
  {
   "cell_type": "code",
   "execution_count": null,
   "id": "9d9a23ae",
   "metadata": {},
   "outputs": [
    {
     "name": "stdout",
     "output_type": "stream",
     "text": [
      "Axes(0.125,0.11;0.775x0.77)\n"
     ]
    },
    {
     "data": {
      "image/png": "[encoded data removed]",
      "text/plain": [
       "<Figure size 640x480 with 1 Axes>"
      ]
     },
     "metadata": {},
     "output_type": "display_data"
    }
   ],
   "source": [
    "# Conditional on being rainy, plot a KDE of the `PRCP` variable.\n",
    "\n",
    "# How do I incorporate the condition of it being rainy? I think the way I did it is wrong but incorporating Markov chain into this seems too complicated for our purview.\n",
    "\n",
    "import seaborn as sns\n",
    "\n",
    "my_kde = sns.kdeplot(weather['PRCP'] == 1)\n",
    "print(my_kde)"
   ]
  },
  {
   "cell_type": "markdown",
   "id": "b953c2c4",
   "metadata": {},
   "source": [
    "4. Taxicab trajectories: Using the pickled taxicab data, we want to complete the exercise from class.\n",
    "\n",
    "- For the taxicab trajectory data, determine your state space and clean your sequences of cab rides.\n",
    "- Compute the transition matrix for the taxicab data between neighborhoods in Manhattan. Plot it in a heat map. What are the most common routes?\n",
    "- Explain why taxicabs are most likely order 1, and not 2 or more.\n",
    "- Starting at Hell's Kitchen, create a sequence of forecasts of where the cab is likely to be in 2, 3, 5, and 10 trips\n",
    "- Starting at any neighborhood, iterate your forecast until it is no longer changing very much. Where do cabs spend most of their time working in Manhattan?"
   ]
  }
 ],
 "metadata": {
  "kernelspec": {
   "display_name": "ds5030",
   "language": "python",
   "name": "python3"
  },
  "language_info": {
   "codemirror_mode": {
    "name": "ipython",
    "version": 3
   },
   "file_extension": ".py",
   "mimetype": "text/x-python",
   "name": "python",
   "nbconvert_exporter": "python",
   "pygments_lexer": "ipython3",
   "version": "3.13.5"
  }
 },
 "nbformat": 4,
 "nbformat_minor": 5
}

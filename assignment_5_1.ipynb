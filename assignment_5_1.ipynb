{
 "cells": [
  {
   "cell_type": "markdown",
   "id": "dd21efe9",
   "metadata": {},
   "source": [
    "# Assignment 5\n",
    "### Do all four questions."
   ]
  },
  {
   "cell_type": "markdown",
   "id": "1ee9b4e8",
   "metadata": {},
   "source": [
    "**1.** Let's review some basic matrix multiplication. When you have an $M \\times N$ matrix $A$ with $M$ rows and $N$ columns, \n",
    "$$\n",
    "A= \\left[ \\begin{array}{cccc} a_{11} & a_{12} & ... & a_{1N} \\\\\n",
    "a_{21} & a_{22} & ... & a_{2N} \\\\\n",
    "\\vdots & \\vdots & ... & \\vdots \\\\\n",
    "a_{M1} & a_{M2} & ... & a_{MN} \n",
    "\\end{array} \\right],\n",
    "$$\n",
    "and you right-multiply it by a vector\n",
    "$$\n",
    "x = \\left[ \\begin{array}{c} x_1 \\\\ x_2 \\\\ \\vdots \\\\ x_N \n",
    "\\end{array} \\right],\n",
    "$$\n",
    "you get\n",
    "$$\n",
    "Ax = \\left[ \\begin{array}{c} \\sum_{i=1}^N a_{1i} x_i \\\\ \\sum_{i=1}^N a_{2i} x_i \\\\ \\vdots \\\\ \\sum_{i=1}^N a_{Mi} x_i \n",
    "\\end{array} \\right].\n",
    "$$\n",
    "This is just \"matrix row times column vector\" element-by-element, stacking the results into a new vector.\n",
    "\n",
    "For this to make sense, $N$ must be the same for the matrix and the vector, but $M$ can be different from $N$. \n",
    "\n",
    "Let's play with some NumPy to see this. First we'll define a matrix $A$:"
   ]
  },
  {
   "cell_type": "code",
   "execution_count": 1,
   "id": "33df3579",
   "metadata": {},
   "outputs": [
    {
     "data": {
      "text/plain": [
       "array([[1, 2, 3],\n",
       "       [4, 5, 6],\n",
       "       [7, 8, 9]])"
      ]
     },
     "execution_count": 1,
     "metadata": {},
     "output_type": "execute_result"
    }
   ],
   "source": [
    "import numpy as np\n",
    "\n",
    "A = np.array([ [1,2,3],\n",
    "              [4,5,6],\n",
    "              [7,8,9]])\n",
    "A"
   ]
  },
  {
   "cell_type": "markdown",
   "id": "94b1b3ac",
   "metadata": {},
   "source": [
    "a. Multiply $A$ times each of the following vectors using the @ operator. Explain which part of the $A$ matrix gets selected and explain why, using the definition of matrix multiplication. "
   ]
  },
  {
   "cell_type": "code",
   "execution_count": 2,
   "id": "5b6148d2",
   "metadata": {},
   "outputs": [],
   "source": [
    "e_1 = np.array([1,0,0])\n",
    "e_2 = np.array([0,1,0])\n",
    "e_3 = np.array([0,0,1])"
   ]
  },
  {
   "cell_type": "code",
   "execution_count": 3,
   "id": "150d025a",
   "metadata": {},
   "outputs": [
    {
     "data": {
      "text/plain": [
       "array([1, 4, 7])"
      ]
     },
     "execution_count": 3,
     "metadata": {},
     "output_type": "execute_result"
    }
   ],
   "source": [
    "A@e_1 \n",
    "# Selects the the first column of A (1,4,7) \n",
    "# This is because the row vector is multiplied by each row, summing the multiplicative results of each element in the row times each corresponding element in the column vector.\n",
    "# Since the second two elements in the column vector are 0, the second two elements in each row multiply to zero, leaving only the items in the first column in the summation."
   ]
  },
  {
   "cell_type": "code",
   "execution_count": 4,
   "id": "a8c985fc",
   "metadata": {},
   "outputs": [
    {
     "data": {
      "text/plain": [
       "array([2, 5, 8])"
      ]
     },
     "execution_count": 4,
     "metadata": {},
     "output_type": "execute_result"
    }
   ],
   "source": [
    "A@e_2\n",
    "# Selects the second column of A (2,5,8) for the same reasons."
   ]
  },
  {
   "cell_type": "code",
   "execution_count": 5,
   "id": "015065b3",
   "metadata": {},
   "outputs": [
    {
     "data": {
      "text/plain": [
       "array([3, 6, 9])"
      ]
     },
     "execution_count": 5,
     "metadata": {},
     "output_type": "execute_result"
    }
   ],
   "source": [
    "A@e_3\n",
    "# Selects the third column of A (2,5,8) for the same reasons."
   ]
  },
  {
   "cell_type": "markdown",
   "id": "72a4704e",
   "metadata": {},
   "source": [
    "b. Now multiply $A$ times $u = (1,1,1)$. Explain the logic of the result with the definition of matrix multiplication."
   ]
  },
  {
   "cell_type": "code",
   "execution_count": 6,
   "id": "5bf73f9b",
   "metadata": {},
   "outputs": [],
   "source": [
    "u = np.ones(3)"
   ]
  },
  {
   "cell_type": "code",
   "execution_count": 7,
   "id": "0f27c8fb",
   "metadata": {},
   "outputs": [
    {
     "data": {
      "text/plain": [
       "array([ 6., 15., 24.])"
      ]
     },
     "execution_count": 7,
     "metadata": {},
     "output_type": "execute_result"
    }
   ],
   "source": [
    "A@u\n",
    "# This result is just addition across rows.\n",
    "# In matrix multiplication, each element of the column vector is multiplied by the element in x that has the same column # as the first vector has for its row #.\n",
    "# Then each of these results are added across the row.\n",
    "# Since all elements of u are 1, it is just the elements in each row of A added together."
   ]
  },
  {
   "cell_type": "markdown",
   "id": "dde75eab",
   "metadata": {},
   "source": [
    "c. Whenever a matrix has 1's on the diagonal and zeros everywhere else, we call it an **identity matrix**. What happens when you multiple $A$ times $x$ below? What happens when you multiple an identity matrix times any vector? Explain your result with the definition of matrix multiplication."
   ]
  },
  {
   "cell_type": "code",
   "execution_count": 8,
   "id": "b0d349c4",
   "metadata": {},
   "outputs": [],
   "source": [
    "A = np.array([ [1,0,0],\n",
    "              [0,1,0],\n",
    "              [0,0,1]])\n",
    "x = np.array([-2,4,11])\n"
   ]
  },
  {
   "cell_type": "code",
   "execution_count": 9,
   "id": "e1b34de7",
   "metadata": {},
   "outputs": [
    {
     "data": {
      "text/plain": [
       "array([-2,  4, 11])"
      ]
     },
     "execution_count": 9,
     "metadata": {},
     "output_type": "execute_result"
    }
   ],
   "source": [
    "A@x\n",
    "# It results in vector x itself. \n",
    "# This is because the identity matrix, when multiplied by x, only selects the first element from the first row of x, the second element from the second row of x, etc.\n",
    "# Nothing leads to adding across rows because every element in the identiyy matrix except one is zero.\n"
   ]
  },
  {
   "cell_type": "markdown",
   "id": "57141925",
   "metadata": {},
   "source": [
    "d. What if every row and column sum to 1, but the 1's are no longer on the diagonal? Multiple $A$ times $X$ below and explain the result. Create another matrix whose rows and columns sum to 1, but is not an identity matrix, and show how it permutes the values of $x$. "
   ]
  },
  {
   "cell_type": "code",
   "execution_count": 10,
   "id": "83a9ed11",
   "metadata": {},
   "outputs": [],
   "source": [
    "A = np.array([ [0,0,1],\n",
    "              [1,0,0],\n",
    "              [0,1,0]])\n",
    "x = np.array([-2,4,11])\n"
   ]
  },
  {
   "cell_type": "code",
   "execution_count": 11,
   "id": "b7b230f1",
   "metadata": {},
   "outputs": [
    {
     "data": {
      "text/plain": [
       "array([11, -2,  4])"
      ]
     },
     "execution_count": 11,
     "metadata": {},
     "output_type": "execute_result"
    }
   ],
   "source": [
    "A@x\n",
    "# This takes the elements in array x and shuffles them around, since only the 11 is \"saved\" (not multiplied by 0) by the first row of A, etc."
   ]
  },
  {
   "cell_type": "code",
   "execution_count": 12,
   "id": "e9fdfe9e",
   "metadata": {},
   "outputs": [
    {
     "data": {
      "text/plain": [
       "array([ 4, 11, -2])"
      ]
     },
     "execution_count": 12,
     "metadata": {},
     "output_type": "execute_result"
    }
   ],
   "source": [
    "B = np.array([ [0,1,0],\n",
    "              [0,0,1],\n",
    "              [1,0,0]])\n",
    "B@x"
   ]
  },
  {
   "cell_type": "markdown",
   "id": "611c26c3",
   "metadata": {},
   "source": [
    "e. The next matrix $A$ could be a Markov transition matrix: Its columns sum to 1, and each entry $a_{ij}$ can be interpreted as the proportion of observations who moved from state $j$ to state $i$. Multiply $A$ by each of the vectors $e_1$, $e_2$, and $e_3$, and explain your results."
   ]
  },
  {
   "cell_type": "code",
   "execution_count": 13,
   "id": "aff4fb97",
   "metadata": {},
   "outputs": [
    {
     "name": "stdout",
     "output_type": "stream",
     "text": [
      "[[0.50052958 0.24049286 0.18358131]\n",
      " [0.02574731 0.39251588 0.37907577]\n",
      " [0.47372311 0.36699127 0.43734292]]\n"
     ]
    }
   ],
   "source": [
    "rng = np.random.default_rng(100)\n",
    "A = rng.random((3,3)) # Generate a random 3X3 matrix\n",
    "sums = np.sum(A,axis=0) # Column sums\n",
    "A = A/sums # Normalize the columns so they sum to 1\n",
    "print(A)"
   ]
  },
  {
   "cell_type": "code",
   "execution_count": 14,
   "id": "d0ded83d",
   "metadata": {},
   "outputs": [
    {
     "data": {
      "text/plain": [
       "array([0.50052958, 0.02574731, 0.47372311])"
      ]
     },
     "execution_count": 14,
     "metadata": {},
     "output_type": "execute_result"
    }
   ],
   "source": [
    "A@e_1\n",
    "# This is the first column - all the proportions of observations who moved from state 0 (j, column #) to another state (i, row #)."
   ]
  },
  {
   "cell_type": "code",
   "execution_count": 15,
   "id": "ba929794",
   "metadata": {},
   "outputs": [
    {
     "data": {
      "text/plain": [
       "array([0.24049286, 0.39251588, 0.36699127])"
      ]
     },
     "execution_count": 15,
     "metadata": {},
     "output_type": "execute_result"
    }
   ],
   "source": [
    "A@e_2\n",
    "# This is the second column - all the proportions of observations who moved from state 1 (j, column #) to another state (i, row #)."
   ]
  },
  {
   "cell_type": "code",
   "execution_count": 16,
   "id": "b9a7a629",
   "metadata": {},
   "outputs": [
    {
     "data": {
      "text/plain": [
       "array([0.18358131, 0.37907577, 0.43734292])"
      ]
     },
     "execution_count": 16,
     "metadata": {},
     "output_type": "execute_result"
    }
   ],
   "source": [
    "A@e_3\n",
    "# This is the third column - all the proportions of observations who moved from state 2 (j, column #) to another state (i, row #)."
   ]
  },
  {
   "cell_type": "markdown",
   "id": "0647bfa7",
   "metadata": {},
   "source": [
    "f. For each of the vectors $e_1, e_2, e_3$, multiply $A$ times that vector 5 times. What answer do you get for each starting vector? Describe the behavior you observe."
   ]
  },
  {
   "cell_type": "code",
   "execution_count": 17,
   "id": "d7200b49",
   "metadata": {},
   "outputs": [
    {
     "name": "stdout",
     "output_type": "stream",
     "text": [
      "[array([0.50052958, 0.02574731, 0.47372311]), array([0.34368862, 0.20257047, 0.45374091]), array([0.30404142, 0.26036337, 0.43559521]), array([0.29476439, 0.27514859, 0.43008701]), array([0.29266551, 0.27862515, 0.42870935])]\n"
     ]
    }
   ],
   "source": [
    "def mult(v1, v2):\n",
    "    return v1@v2\n",
    "\n",
    "def mult_mult(v1, v2, x):\n",
    "    results = []\n",
    "    for _ in range(1, x+1):\n",
    "        results.append(np.linalg.matrix_power(v1, _) @ v2)\n",
    "    return results\n",
    "\n",
    "print(mult_mult(A, e_1, 5))\n",
    "\n",
    "# Some help from ChatGPT here comprehending how to use recursion to multiply A by the result each time and using np.linalg.matrix_power - CNK"
   ]
  },
  {
   "cell_type": "code",
   "execution_count": 18,
   "id": "57b2a6ce",
   "metadata": {},
   "outputs": [
    {
     "name": "stdout",
     "output_type": "stream",
     "text": [
      "[array([0.24049286, 0.39251588, 0.36699127]), array([0.28214379, 0.29937825, 0.41847795]), array([0.29004438, 0.28341002, 0.42654561]), array([0.29163968, 0.2804039 , 0.42795643]), array([0.29197422, 0.27979983, 0.42822595])]\n"
     ]
    }
   ],
   "source": [
    "print(mult_mult(A, e_2, 5))"
   ]
  },
  {
   "cell_type": "code",
   "execution_count": 19,
   "id": "186d189d",
   "metadata": {},
   "outputs": [
    {
     "name": "stdout",
     "output_type": "stream",
     "text": [
      "[array([0.18358131, 0.37907577, 0.43734292]), array([0.26334088, 0.31930609, 0.41735304]), array([0.28521895, 0.29032145, 0.4244596 ]), array([0.29050361, 0.28220175, 0.42729464]), array([0.29171646, 0.2802254 , 0.42805814])]\n"
     ]
    }
   ],
   "source": [
    "print(mult_mult(A, e_3, 5))"
   ]
  },
  {
   "cell_type": "code",
   "execution_count": 20,
   "id": "b2565b9b",
   "metadata": {},
   "outputs": [],
   "source": [
    "# The arrays all come out to about the same values as compared to each other. \n",
    "# This shows that chains settle down into 'long-run proportions' - the dependence on initial conditions gets very small to null. This is the general rule of a Markov chain."
   ]
  },
  {
   "cell_type": "markdown",
   "id": "fa2c9a93",
   "metadata": {},
   "source": [
    "*2.* Let's consider a simple Markov transition matrix over two states:\n",
    "$$\n",
    "T = \\left[ \\begin{array}{cc} p_{1\\leftarrow 1} &  p_{1\\leftarrow 2} \\\\\n",
    "p_{2 \\leftarrow 1} & p_{2 \\leftarrow 2} \\end{array}\\right] \n",
    "$$\n",
    "The arrows help visualize the transition a bit: This is the same index notation as usual, $p_{ij}$, but writing it $p_{i \\leftarrow j}$ emphasizes that it's the proportion of times that state $j$ transitions to state $i$. Below, $T$ is given by\n",
    "$$\n",
    "T = \\left[ \\begin{array}{cc} .25 & .5 \\\\\n",
    ".75 & .5 \\end{array}\\right].\n",
    "$$\n",
    "\n",
    "- Start in state 1, at the initial condition $[1,0]$. Multiply that vector by $T$. Write out the result in terms of the formula and compute the result in a code chunk below. What is this object you're looking at, in terms of proportions and transitions?\n",
    "- Multiple by $T$ again. What do you get? This isn't a column of $T$. Explain in words what it is. (Hint: A forecast of what in what period?)\n",
    "- Keep multiplying the current vector of outcomes by $T$. When does it start to settle down without changing further?\n",
    "- Do the above analysis again, starting from the initial condition $[0,1]$. Do you get a different result?\n",
    "- The take-away is that, in the long run, these chains settle down into the long-run proportions, and the sensitivity on initial conditions vanishes. \n"
   ]
  },
  {
   "cell_type": "code",
   "execution_count": 21,
   "id": "4b6a775f",
   "metadata": {},
   "outputs": [],
   "source": [
    "T = np.array([[ 1/4, 1/2],\n",
    "                 [ 3/4, 1/2 ]])"
   ]
  },
  {
   "cell_type": "code",
   "execution_count": 22,
   "id": "4c3c0f58",
   "metadata": {},
   "outputs": [
    {
     "data": {
      "text/plain": [
       "array([0.25, 0.75])"
      ]
     },
     "execution_count": 22,
     "metadata": {},
     "output_type": "execute_result"
    }
   ],
   "source": [
    "s1 = [1,0]\n",
    "T@s1 \n",
    "# The result is [(1*0.25 + 0*0.5), (1*0.75 + 0*0.5)].\n",
    "# This means that 25% of the time, the transition from state 1 to state 1 will occur (ie no state change) and 75% of the time, the transition from state 1 to state 2 will occur."
   ]
  },
  {
   "cell_type": "code",
   "execution_count": 23,
   "id": "70dc12fe",
   "metadata": {},
   "outputs": [
    {
     "data": {
      "text/plain": [
       "array([0.4375, 0.5625])"
      ]
     },
     "execution_count": 23,
     "metadata": {},
     "output_type": "execute_result"
    }
   ],
   "source": [
    "T@(T@s1)\n",
    "# Pre multiply by T (not post)\n",
    "# This means that the probability that a state that went from 1 to 1 will stay at 1 is 43.75% and the probability that a state that went from 1 to 2 will stay at state 2 is 56.25%.\n",
    "# The rest of the possibilities are implied by this."
   ]
  },
  {
   "cell_type": "code",
   "execution_count": 24,
   "id": "be24ce6d",
   "metadata": {},
   "outputs": [
    {
     "name": "stdout",
     "output_type": "stream",
     "text": [
      "[array([0.25, 0.75]), array([0.4375, 0.5625]), array([0.390625, 0.609375]), array([0.40234375, 0.59765625]), array([0.39941406, 0.60058594])]\n"
     ]
    }
   ],
   "source": [
    "print(mult_mult(T, s1, 5))\n",
    "\n",
    "# Settles out by third iteration\n"
   ]
  },
  {
   "cell_type": "code",
   "execution_count": 25,
   "id": "2db8ce12",
   "metadata": {},
   "outputs": [
    {
     "name": "stdout",
     "output_type": "stream",
     "text": [
      "[array([0.5, 0.5]), array([0.375, 0.625]), array([0.40625, 0.59375]), array([0.3984375, 0.6015625]), array([0.40039062, 0.59960938])]\n"
     ]
    }
   ],
   "source": [
    "s2 = [0,1]\n",
    "\n",
    "print(mult_mult(T, s2, 5))\n",
    "\n",
    "# Also settles out by third iteration to about the same proportions as starting at s1"
   ]
  },
  {
   "cell_type": "markdown",
   "id": "921592e9",
   "metadata": {},
   "source": [
    "3. Weather data\n",
    "\n",
    "- Load the `cville_weather.csv` data. This includes data from Jan 4, 2024 to Feb 2, 2025. Are there any missing data issues?\n",
    "- Based on the precipitation variable, `PRCP`, make a new variable called `rain` that takes the value 1 if `PRCP`>0 and 0 otherwise.\n",
    "- Build a two-state Markov chain over the states 0 and 1 for the `rain` variable. \n",
    "- For your chain from c, how likely is it to rain if it was rainy yesterday? How likely is it to rain if it was clear yesterday?\n",
    "- Starting from a clear day, forecast the distribution. How quickly does it converge to a fixed result? What if you start from a rainy day?\n",
    "- Conditional on being rainy, plot a KDE of the `PRCP` variable.\n",
    "- Describe one way of making your model better for forecasting and simulation the weather.\n",
    "\n",
    "Congratulations, you now are a non-parametric meteorologist!"
   ]
  },
  {
   "cell_type": "code",
   "execution_count": 29,
   "id": "8e14757b",
   "metadata": {},
   "outputs": [
    {
     "name": "stdout",
     "output_type": "stream",
     "text": [
      "<class 'pandas.core.frame.DataFrame'>\n",
      "RangeIndex: 411 entries, 0 to 410\n",
      "Data columns (total 13 columns):\n",
      " #   Column           Non-Null Count  Dtype  \n",
      "---  ------           --------------  -----  \n",
      " 0   STATION          411 non-null    object \n",
      " 1   NAME             411 non-null    object \n",
      " 2   DATE             411 non-null    object \n",
      " 3   DAPR             12 non-null     float64\n",
      " 4   DAPR_ATTRIBUTES  12 non-null     object \n",
      " 5   MDPR             12 non-null     float64\n",
      " 6   MDPR_ATTRIBUTES  12 non-null     object \n",
      " 7   PRCP             399 non-null    float64\n",
      " 8   PRCP_ATTRIBUTES  399 non-null    object \n",
      " 9   SNOW             223 non-null    float64\n",
      " 10  SNOW_ATTRIBUTES  223 non-null    object \n",
      " 11  SNWD             1 non-null      float64\n",
      " 12  SNWD_ATTRIBUTES  1 non-null      object \n",
      "dtypes: float64(5), object(8)\n",
      "memory usage: 41.9+ KB\n"
     ]
    }
   ],
   "source": [
    "import pandas as pd\n",
    "\n",
    "weather = pd.read_csv(\"cville_weather.csv\")\n",
    "\n",
    "weather.info()\n",
    "# Most datatypes are objects; a few are floats. \n",
    "# SNWD and SNWD_ATTRIBUTES only have one non-null entry each. This is curious...\n",
    "# DAPR, DAPR_ATTRIBUTRES, MDPR, MDPR_ATTRIBUTES are missing the second-most data, with only 12 non null entries for each.\n",
    "# Other columns are also missing some data.\n"
   ]
  },
  {
   "cell_type": "code",
   "execution_count": 30,
   "id": "63007259",
   "metadata": {},
   "outputs": [
    {
     "data": {
      "text/html": [
       "<div>\n",
       "<style scoped>\n",
       "    .dataframe tbody tr th:only-of-type {\n",
       "        vertical-align: middle;\n",
       "    }\n",
       "\n",
       "    .dataframe tbody tr th {\n",
       "        vertical-align: top;\n",
       "    }\n",
       "\n",
       "    .dataframe thead th {\n",
       "        text-align: right;\n",
       "    }\n",
       "</style>\n",
       "<table border=\"1\" class=\"dataframe\">\n",
       "  <thead>\n",
       "    <tr style=\"text-align: right;\">\n",
       "      <th>Next State</th>\n",
       "      <th>False</th>\n",
       "      <th>True</th>\n",
       "    </tr>\n",
       "    <tr>\n",
       "      <th>Current State</th>\n",
       "      <th></th>\n",
       "      <th></th>\n",
       "    </tr>\n",
       "  </thead>\n",
       "  <tbody>\n",
       "    <tr>\n",
       "      <th>False</th>\n",
       "      <td>0.762931</td>\n",
       "      <td>0.237069</td>\n",
       "    </tr>\n",
       "    <tr>\n",
       "      <th>True</th>\n",
       "      <td>0.308989</td>\n",
       "      <td>0.691011</td>\n",
       "    </tr>\n",
       "  </tbody>\n",
       "</table>\n",
       "</div>"
      ],
      "text/plain": [
       "Next State        False     True \n",
       "Current State                    \n",
       "False          0.762931  0.237069\n",
       "True           0.308989  0.691011"
      ]
     },
     "execution_count": 30,
     "metadata": {},
     "output_type": "execute_result"
    }
   ],
   "source": [
    "#Generating transition matrix:\n",
    "# Sort by date\n",
    "weather[\"rain\"] = weather[\"PRCP\"] > 0 \n",
    "markov_subset_df = weather[[\"DATE\", \"rain\"]]\n",
    "markov_subset_df = markov_subset_df.sort_values('DATE')\n",
    "# Genersate a next state\n",
    "markov_subset_df['next_state'] = markov_subset_df['rain'].shift(-1)\n",
    "# Create a df of all the transitions\n",
    "df_transitions = markov_subset_df[:-1].copy()\n",
    "transition_counts = pd.crosstab(\n",
    "    df_transitions['rain'], \n",
    "    df_transitions['next_state'],\n",
    "    rownames=['Current State'],\n",
    "    colnames=['Next State']\n",
    ")\n",
    "# Normalize\n",
    "rain_transition_matrix = transition_counts.div(transition_counts.sum(axis=1), axis=0)\n",
    "rain_transition_matrix"
   ]
  },
  {
   "cell_type": "markdown",
   "id": "6430404d",
   "metadata": {},
   "source": [
    "If it rained yesterday, there is a 69.1% chance of it raining today. If it was clear yesterday, there is a 30.8% chance."
   ]
  },
  {
   "cell_type": "code",
   "execution_count": 31,
   "id": "a0bfdde1",
   "metadata": {},
   "outputs": [
    {
     "data": {
      "text/plain": [
       "(2, 2)"
      ]
     },
     "execution_count": 31,
     "metadata": {},
     "output_type": "execute_result"
    }
   ],
   "source": [
    "rain_transition_matrix.shape"
   ]
  },
  {
   "cell_type": "code",
   "execution_count": 32,
   "id": "27e45088",
   "metadata": {},
   "outputs": [],
   "source": [
    "class MarkovChain: \n",
    "    \"\"\"\n",
    "    A class to build a Markov chain\n",
    "    \"\"\"   \n",
    "    def __init__(self, transition_matrix, state_names=None):\n",
    "        # Initialize the transition matrix and the state names, as well as the number of states\n",
    "        self.transition_matrix = np.array(transition_matrix)\n",
    "        self.n_states = self.transition_matrix.shape[0]\n",
    "        self.states = state_names\n",
    "    \n",
    "    def simulate(self, n_steps, initial_state=0):\n",
    "        \"\"\"\n",
    "        A function to simulate random weather progression (rain or cloudy) for a given number of days \n",
    "        given the probability from the previously generated transition matrix\n",
    "        \"\"\"\n",
    "        # Set initial state\n",
    "        current_state = initial_state\n",
    "        # Start chain\n",
    "        path = [current_state]\n",
    "        # Simulate random chain\n",
    "        for step in range(n_steps):\n",
    "            # Get the probability of each state change\n",
    "            probabilities = self.transition_matrix[current_state]\n",
    "            # Normalize to ensure sum = 1.0\n",
    "            probabilities = probabilities / probabilities.sum()\n",
    "            # Randomly choose a state with that probability\n",
    "            current_state = np.random.choice(self.n_states, p=probabilities)\n",
    "            path.append(current_state)\n",
    "        #return chain\n",
    "        return [self.states[i] for i in path]\n",
    "    \n",
    "    def steps_to_convergence(self, initial_state=0, tolerance=1e-6, max_steps=10000):\n",
    "        \"\"\"\n",
    "        A function to calculate how many steps the chain takes to converge \n",
    "        to the same matrix regardless of initial state (a common property of a Markov chain)\n",
    "        \"\"\"\n",
    "\n",
    "        #Compute steady state (left eigenvector with eigenvalue 1)\n",
    "        eigenvalues, eigenvectors = np.linalg.eig(self.transition_matrix.T)\n",
    "        steady_idx = np.argmax(np.abs(eigenvalues - 1) < 1e-10)\n",
    "        steady_state = np.real(eigenvectors[:, steady_idx])\n",
    "        steady_state = steady_state / steady_state.sum()\n",
    "\n",
    "        #setup\n",
    "        current_dist = np.zeros(self.n_states)\n",
    "        current_dist[initial_state] = 1.0\n",
    "        \n",
    "        # Iterate\n",
    "        for step in range(1, max_steps + 1):\n",
    "            current_dist = current_dist @ self.transition_matrix\n",
    "            \n",
    "            if np.sum(np.abs(current_dist - steady_state)) < tolerance:\n",
    "                return step\n",
    "\n",
    "        \n",
    "        return max_steps  # Did not converge within max_steps\n",
    "    \n",
    "    def forecast(self, n_steps, initial_state=0):\n",
    "        \"\"\"\n",
    "        Forecast the weather for any given day in the future given an initial state\n",
    "        \"\"\"\n",
    "        # Create initial distribution vector\n",
    "        current_dist = np.zeros(self.n_states)\n",
    "        current_dist[initial_state] = 1.0\n",
    "        \n",
    "        future_dist = current_dist @ np.linalg.matrix_power(self.transition_matrix, n_steps)\n",
    "        return future_dist"
   ]
  },
  {
   "cell_type": "code",
   "execution_count": 34,
   "id": "9d9a23ae",
   "metadata": {},
   "outputs": [
    {
     "data": {
      "image/png": "[encoded data removed]",
      "text/plain": [
       "<Figure size 640x480 with 1 Axes>"
      ]
     },
     "metadata": {},
     "output_type": "display_data"
    }
   ],
   "source": [
    "# Conditional on being rainy, plot a KDE of the `PRCP` variable.\n",
    "\n",
    "# How do I incorporate the condition of it being rainy? I think the way I did it is wrong but incorporating Markov chain into this seems too complicated for our purview.\n",
    "\n",
    "import seaborn as sns\n",
    "\n",
    "my_kde = sns.kdeplot(weather.loc[weather['rain'] == 1]['PRCP'])"
   ]
  },
  {
   "cell_type": "markdown",
   "id": "b953c2c4",
   "metadata": {},
   "source": [
    "4. Taxicab trajectories: Using the pickled taxicab data, we want to complete the exercise from class.\n",
    "\n",
    "- For the taxicab trajectory data, determine your state space and clean your sequences of cab rides.\n",
    "- Compute the transition matrix for the taxicab data between neighborhoods in Manhattan. Plot it in a heat map. What are the most common routes?\n",
    "- Explain why taxicabs are most likely order 1, and not 2 or more.\n",
    "- Starting at Hell's Kitchen, create a sequence of forecasts of where the cab is likely to be in 2, 3, 5, and 10 trips\n",
    "- Starting at any neighborhood, iterate your forecast until it is no longer changing very much. Where do cabs spend most of their time working in Manhattan?"
   ]
  },
  {
   "cell_type": "code",
   "execution_count": null,
   "id": "3b6b560c",
   "metadata": {},
   "outputs": [],
   "source": [
    "# %%\n",
    "import pickle\n",
    "import pandas as pd\n",
    "import numpy as np\n",
    "import seaborn as sns\n",
    "import matplotlib.pyplot as plt\n"
   ]
  },
  {
   "cell_type": "code",
   "execution_count": null,
   "id": "f834d113",
   "metadata": {},
   "outputs": [
    {
     "name": "stdout",
     "output_type": "stream",
     "text": [
      "DataFrame shape: (38344, 1000)\n",
      "First few rows:\n",
      "             series_0      series_1           series_2           series_3  \\\n",
      "0  Outside Manhattan       Midtown            Chelsea  Greenwich Village   \n",
      "1  Outside Manhattan      Kips Bay    Upper East Side        East Harlem   \n",
      "2  Outside Manhattan      Kips Bay    Upper East Side            Midtown   \n",
      "3  Outside Manhattan  East Village  Outside Manhattan  Outside Manhattan   \n",
      "4  Outside Manhattan  East Village  Outside Manhattan  Outside Manhattan   \n",
      "\n",
      "            series_4           series_5         series_6         series_7  \\\n",
      "0  Battery Park City            Midtown  Upper East Side  Upper West Side   \n",
      "1       East Village            Midtown  Upper East Side  Upper East Side   \n",
      "2       East Village            Midtown  Upper East Side  Upper East Side   \n",
      "3           Gramercy  Flatiron District  Upper East Side          Midtown   \n",
      "4           Gramercy       East Village          Midtown          Midtown   \n",
      "\n",
      "            series_8           series_9  ... series_990       series_991  \\\n",
      "0  Outside Manhattan           Kips Bay  ...    Chelsea          Midtown   \n",
      "1  Outside Manhattan  Greenwich Village  ...    Chelsea  Stuyvesant Town   \n",
      "2  Outside Manhattan  Greenwich Village  ...       SoHo  Stuyvesant Town   \n",
      "3  Outside Manhattan        Murray Hill  ...    Tribeca   Hell's Kitchen   \n",
      "4  Outside Manhattan            Midtown  ...    Tribeca   Hell's Kitchen   \n",
      "\n",
      "        series_992        series_993         series_994       series_995  \\\n",
      "0          Tribeca   Upper East Side               SoHo  Upper West Side   \n",
      "1  Upper East Side       Murray Hill  Battery Park City          Midtown   \n",
      "2  Upper East Side       Murray Hill            Tribeca          Midtown   \n",
      "3      Murray Hill  Theater District  Greenwich Village      East Harlem   \n",
      "4      Murray Hill  Theater District       East Village  Upper East Side   \n",
      "\n",
      "          series_996         series_997         series_998       series_999  \n",
      "0  Outside Manhattan       Central Park  Flatiron District          Midtown  \n",
      "1  Outside Manhattan    Upper East Side     Hell's Kitchen           Nolita  \n",
      "2  Outside Manhattan    Upper West Side     Hell's Kitchen           Nolita  \n",
      "3       West Village    Upper West Side            Chelsea  Upper East Side  \n",
      "4       West Village  Flatiron District            Chelsea  Upper East Side  \n",
      "\n",
      "[5 rows x 1000 columns]\n"
     ]
    }
   ],
   "source": [
    "\n",
    "# Load the .pkl file\n",
    "with open('taxicab.pkl', 'rb') as file:\n",
    "    data = pickle.load(file)\n",
    "\n",
    "# Convert to DataFrame\n",
    "data_reset = [series.reset_index(drop=True) for series in data]\n",
    "df = pd.concat(data_reset, axis=1, ignore_index=True)\n",
    "df.columns = [f'series_{i}' for i in range(len(data))]\n",
    "print(\"DataFrame shape:\", df.shape)\n",
    "print(\"First few rows:\\n\", df.head())\n"
   ]
  },
  {
   "cell_type": "markdown",
   "id": "8560ae8b",
   "metadata": {},
   "source": [
    "1 State Space and Cleaning Sequences\n",
    " \n",
    "The state space consists of 38 Manhattan neighborhoods (e.g., Midtown, Upper East Side, Hell's Kitchen) plus 'outside manhattan'. The sequences were cleaned by converting neighborhood names to lowercase, stripping whitespace, and excluding invalid entries. The data, stored in a DataFrame of shape (38344, 1000), was processed to ensure only valid Manhattan neighborhoods were used for analysis."
   ]
  },
  {
   "cell_type": "code",
   "execution_count": null,
   "id": "a471e9a4",
   "metadata": {},
   "outputs": [
    {
     "name": "stdout",
     "output_type": "stream",
     "text": [
      "\n",
      "State space (Manhattan neighborhoods): ['central park', 'upper west side', 'theater district', 'two bridges', 'greenwich village', 'washington heights', 'harlem', 'flatiron district', 'chinatown', 'ellis island', 'noho', 'east harlem', 'murray hill', 'gramercy', \"randall's island\", 'inwood', 'chelsea', \"hell's kitchen\", 'roosevelt island', 'tribeca', 'outside manhattan', 'stuyvesant town', 'upper east side', 'governors island', 'little italy', 'morningside heights', 'west village', 'lower east side', 'civic center', 'east village', 'marble hill', 'liberty island', 'soho', 'financial district', 'battery park city', 'nolita', 'midtown', 'kips bay']\n",
      "Number of states: 38\n"
     ]
    }
   ],
   "source": [
    "# Get unique neighborhoods from all columns\n",
    "all_neighborhoods = set()\n",
    "for col in df.columns:\n",
    "    all_neighborhoods.update(df[col].str.lower().str.strip().dropna())\n",
    "states = list(all_neighborhoods)\n",
    "S = len(states)\n",
    "print(\"\\nState space (Manhattan neighborhoods):\", states)\n",
    "print(\"Number of states:\", S)\n"
   ]
  },
  {
   "cell_type": "markdown",
   "id": "462a58d8",
   "metadata": {},
   "source": [
    "2 Transition Matrix and Heatmap\n",
    "\n",
    "The transition matrix was computed, showing probabilities of moving between neighborhoods (column-normalized, so columns sum to 1). A heatmap visualizes these probabilities, with darker shades indicating higher likelihoods. Strong diagonal probabilities (e.g., Midtown: 0.36, Chelsea: 0.33, Upper East Side: 0.46, Upper West Side: 0.42, outside Manhattan: 0.51) indicate cabs frequently stay within these neighborhoods, reflecting high local demand. Significant off-diagonal probabilities, such as Liberty Island -> Gramercy (1.00), Ellis Island -> outside Manhattan (0.33), Governors Island -> outside Manhattan (0.33), and Morningside Heights -> Upper West Side (0.35), show frequent trips between specific areas."
   ]
  },
  {
   "cell_type": "code",
   "execution_count": null,
   "id": "53f9c4b9",
   "metadata": {},
   "outputs": [
    {
     "name": "stdout",
     "output_type": "stream",
     "text": [
      "\n",
      "Transition Matrix:\n",
      "                      central park  upper west side  theater district  \\\n",
      "central park                 0.14             0.03              0.02   \n",
      "upper west side              0.22             0.42              0.07   \n",
      "theater district             0.04             0.04              0.21   \n",
      "two bridges                  0.00             0.00              0.00   \n",
      "greenwich village            0.01             0.01              0.01   \n",
      "washington heights           0.00             0.01              0.00   \n",
      "harlem                       0.01             0.02              0.01   \n",
      "flatiron district            0.01             0.00              0.01   \n",
      "chinatown                    0.00             0.00              0.00   \n",
      "ellis island                 0.00             0.00              0.00   \n",
      "noho                         0.00             0.00              0.00   \n",
      "east harlem                  0.02             0.01              0.01   \n",
      "murray hill                  0.01             0.01              0.02   \n",
      "gramercy                     0.01             0.00              0.01   \n",
      "randall's island             0.00             0.00              0.00   \n",
      "inwood                       0.00             0.00              0.00   \n",
      "chelsea                      0.03             0.04              0.09   \n",
      "hell's kitchen               0.04             0.08              0.12   \n",
      "roosevelt island             0.00             0.00              0.00   \n",
      "tribeca                      0.00             0.00              0.01   \n",
      "outside manhattan            0.03             0.04              0.07   \n",
      "stuyvesant town              0.00             0.00              0.00   \n",
      "upper east side              0.20             0.11              0.06   \n",
      "governors island             0.00             0.00              0.00   \n",
      "little italy                 0.00             0.00              0.00   \n",
      "morningside heights          0.01             0.02              0.00   \n",
      "west village                 0.01             0.01              0.02   \n",
      "lower east side              0.00             0.00              0.00   \n",
      "civic center                 0.00             0.00              0.00   \n",
      "east village                 0.01             0.01              0.01   \n",
      "marble hill                  0.00             0.00              0.00   \n",
      "liberty island               0.00             0.00              0.00   \n",
      "soho                         0.01             0.00              0.01   \n",
      "financial district           0.00             0.00              0.01   \n",
      "battery park city            0.00             0.00              0.01   \n",
      "nolita                       0.00             0.00              0.00   \n",
      "midtown                      0.19             0.12              0.21   \n",
      "kips bay                     0.00             0.00              0.01   \n",
      "\n",
      "                     two bridges  greenwich village  washington heights  \\\n",
      "central park                0.00               0.00                0.01   \n",
      "upper west side             0.01               0.02                0.18   \n",
      "theater district            0.01               0.02                0.02   \n",
      "two bridges                 0.08               0.00                0.00   \n",
      "greenwich village           0.01               0.22                0.00   \n",
      "washington heights          0.00               0.00                0.15   \n",
      "harlem                      0.00               0.00                0.14   \n",
      "flatiron district           0.01               0.02                0.00   \n",
      "chinatown                   0.07               0.01                0.00   \n",
      "ellis island                0.00               0.00                0.00   \n",
      "noho                        0.01               0.03                0.00   \n",
      "east harlem                 0.01               0.00                0.02   \n",
      "murray hill                 0.01               0.02                0.00   \n",
      "gramercy                    0.02               0.03                0.00   \n",
      "randall's island            0.00               0.00                0.00   \n",
      "inwood                      0.00               0.00                0.01   \n",
      "chelsea                     0.03               0.11                0.03   \n",
      "hell's kitchen              0.01               0.02                0.07   \n",
      "roosevelt island            0.00               0.00                0.00   \n",
      "tribeca                     0.05               0.02                0.00   \n",
      "outside manhattan           0.09               0.06                0.06   \n",
      "stuyvesant town             0.01               0.01                0.00   \n",
      "upper east side             0.02               0.03                0.05   \n",
      "governors island            0.00               0.00                0.00   \n",
      "little italy                0.01               0.00                0.00   \n",
      "morningside heights         0.00               0.00                0.12   \n",
      "west village                0.02               0.08                0.01   \n",
      "lower east side             0.10               0.02                0.00   \n",
      "civic center                0.02               0.00                0.00   \n",
      "east village                0.06               0.07                0.01   \n",
      "marble hill                 0.00               0.00                0.00   \n",
      "liberty island              0.00               0.00                0.00   \n",
      "soho                        0.03               0.05                0.00   \n",
      "financial district          0.21               0.02                0.00   \n",
      "battery park city           0.02               0.01                0.00   \n",
      "nolita                      0.01               0.01                0.00   \n",
      "midtown                     0.06               0.08                0.05   \n",
      "kips bay                    0.01               0.02                0.00   \n",
      "\n",
      "                     harlem  flatiron district  chinatown  ellis island  ...  \\\n",
      "central park           0.04               0.00       0.00          0.00  ...   \n",
      "upper west side        0.21               0.02       0.01          0.00  ...   \n",
      "theater district       0.02               0.03       0.02          0.00  ...   \n",
      "two bridges            0.00               0.00       0.00          0.00  ...   \n",
      "greenwich village      0.00               0.04       0.02          0.00  ...   \n",
      "washington heights     0.01               0.00       0.00          0.00  ...   \n",
      "harlem                 0.21               0.00       0.00          0.00  ...   \n",
      "flatiron district      0.00               0.16       0.01          0.00  ...   \n",
      "chinatown              0.00               0.00       0.13          0.00  ...   \n",
      "ellis island           0.00               0.00       0.00          0.00  ...   \n",
      "noho                   0.00               0.01       0.02          0.00  ...   \n",
      "east harlem            0.07               0.00       0.00          0.00  ...   \n",
      "murray hill            0.01               0.04       0.01          0.00  ...   \n",
      "gramercy               0.00               0.05       0.02          0.00  ...   \n",
      "randall's island       0.00               0.00       0.00          0.00  ...   \n",
      "inwood                 0.00               0.00       0.00          0.00  ...   \n",
      "chelsea                0.03               0.15       0.05          0.00  ...   \n",
      "hell's kitchen         0.04               0.03       0.02          0.00  ...   \n",
      "roosevelt island       0.00               0.00       0.00          0.00  ...   \n",
      "tribeca                0.00               0.01       0.05          0.33  ...   \n",
      "outside manhattan      0.06               0.05       0.11          0.33  ...   \n",
      "stuyvesant town        0.00               0.01       0.01          0.00  ...   \n",
      "upper east side        0.08               0.05       0.02          0.00  ...   \n",
      "governors island       0.00               0.00       0.00          0.00  ...   \n",
      "little italy           0.00               0.00       0.03          0.33  ...   \n",
      "morningside heights    0.09               0.00       0.00          0.00  ...   \n",
      "west village           0.01               0.03       0.03          0.00  ...   \n",
      "lower east side        0.00               0.01       0.10          0.00  ...   \n",
      "civic center           0.00               0.00       0.02          0.00  ...   \n",
      "east village           0.01               0.04       0.08          0.00  ...   \n",
      "marble hill            0.00               0.00       0.00          0.00  ...   \n",
      "liberty island         0.00               0.00       0.00          0.00  ...   \n",
      "soho                   0.00               0.02       0.06          0.00  ...   \n",
      "financial district     0.00               0.01       0.06          0.00  ...   \n",
      "battery park city      0.00               0.01       0.01          0.00  ...   \n",
      "nolita                 0.00               0.00       0.02          0.00  ...   \n",
      "midtown                0.07               0.16       0.06          0.00  ...   \n",
      "kips bay               0.00               0.04       0.02          0.00  ...   \n",
      "\n",
      "                     civic center  east village  marble hill  liberty island  \\\n",
      "central park                 0.00          0.00         0.01             0.0   \n",
      "upper west side              0.01          0.02         0.14             0.0   \n",
      "theater district             0.02          0.01         0.02             0.0   \n",
      "two bridges                  0.00          0.00         0.00             0.0   \n",
      "greenwich village            0.02          0.04         0.00             0.0   \n",
      "washington heights           0.00          0.00         0.07             0.0   \n",
      "harlem                       0.00          0.00         0.06             0.0   \n",
      "flatiron district            0.01          0.02         0.00             0.0   \n",
      "chinatown                    0.03          0.01         0.00             0.0   \n",
      "ellis island                 0.00          0.00         0.00             0.0   \n",
      "noho                         0.01          0.02         0.00             0.0   \n",
      "east harlem                  0.00          0.01         0.03             0.0   \n",
      "murray hill                  0.02          0.03         0.01             0.0   \n",
      "gramercy                     0.01          0.07         0.00             1.0   \n",
      "randall's island             0.00          0.00         0.00             0.0   \n",
      "inwood                       0.00          0.00         0.10             0.0   \n",
      "chelsea                      0.05          0.07         0.03             0.0   \n",
      "hell's kitchen               0.02          0.02         0.08             0.0   \n",
      "roosevelt island             0.00          0.00         0.00             0.0   \n",
      "tribeca                      0.14          0.01         0.00             0.0   \n",
      "outside manhattan            0.09          0.08         0.11             0.0   \n",
      "stuyvesant town              0.00          0.02         0.00             0.0   \n",
      "upper east side              0.03          0.04         0.08             0.0   \n",
      "governors island             0.00          0.00         0.00             0.0   \n",
      "little italy                 0.01          0.00         0.00             0.0   \n",
      "morningside heights          0.00          0.00         0.10             0.0   \n",
      "west village                 0.04          0.04         0.02             0.0   \n",
      "lower east side              0.04          0.03         0.01             0.0   \n",
      "civic center                 0.09          0.00         0.00             0.0   \n",
      "east village                 0.04          0.27         0.00             0.0   \n",
      "marble hill                  0.00          0.00         0.03             0.0   \n",
      "liberty island               0.00          0.00         0.00             0.0   \n",
      "soho                         0.07          0.03         0.00             0.0   \n",
      "financial district           0.11          0.02         0.00             0.0   \n",
      "battery park city            0.02          0.01         0.00             0.0   \n",
      "nolita                       0.01          0.01         0.00             0.0   \n",
      "midtown                      0.07          0.09         0.07             0.0   \n",
      "kips bay                     0.01          0.04         0.01             0.0   \n",
      "\n",
      "                     soho  financial district  battery park city  nolita  \\\n",
      "central park         0.00                0.00               0.00    0.00   \n",
      "upper west side      0.02                0.01               0.02    0.02   \n",
      "theater district     0.02                0.02               0.02    0.01   \n",
      "two bridges          0.00                0.00               0.00    0.00   \n",
      "greenwich village    0.05                0.02               0.02    0.04   \n",
      "washington heights   0.00                0.00               0.00    0.00   \n",
      "harlem               0.00                0.00               0.00    0.00   \n",
      "flatiron district    0.02                0.01               0.01    0.01   \n",
      "chinatown            0.01                0.02               0.01    0.01   \n",
      "ellis island         0.00                0.00               0.00    0.00   \n",
      "noho                 0.02                0.01               0.00    0.05   \n",
      "east harlem          0.00                0.00               0.00    0.00   \n",
      "murray hill          0.02                0.01               0.01    0.02   \n",
      "gramercy             0.02                0.01               0.01    0.03   \n",
      "randall's island     0.00                0.00               0.00    0.00   \n",
      "inwood               0.00                0.00               0.00    0.00   \n",
      "chelsea              0.09                0.05               0.07    0.06   \n",
      "hell's kitchen       0.02                0.02               0.03    0.02   \n",
      "roosevelt island     0.00                0.00               0.00    0.00   \n",
      "tribeca              0.04                0.08               0.12    0.02   \n",
      "outside manhattan    0.07                0.08               0.05    0.11   \n",
      "stuyvesant town      0.00                0.01               0.00    0.01   \n",
      "upper east side      0.03                0.03               0.02    0.03   \n",
      "governors island     0.00                0.00               0.00    0.00   \n",
      "little italy         0.00                0.00               0.00    0.01   \n",
      "morningside heights  0.00                0.00               0.00    0.00   \n",
      "west village         0.09                0.04               0.06    0.05   \n",
      "lower east side      0.02                0.03               0.01    0.05   \n",
      "civic center         0.01                0.01               0.00    0.00   \n",
      "east village         0.05                0.04               0.02    0.09   \n",
      "marble hill          0.00                0.00               0.00    0.00   \n",
      "liberty island       0.00                0.00               0.00    0.00   \n",
      "soho                 0.25                0.04               0.05    0.09   \n",
      "financial district   0.03                0.31               0.09    0.02   \n",
      "battery park city    0.02                0.04               0.26    0.01   \n",
      "nolita               0.02                0.01               0.00    0.16   \n",
      "midtown              0.08                0.08               0.07    0.07   \n",
      "kips bay             0.01                0.01               0.01    0.02   \n",
      "\n",
      "                     midtown  kips bay  \n",
      "central park            0.01      0.00  \n",
      "upper west side         0.05      0.02  \n",
      "theater district        0.05      0.02  \n",
      "two bridges             0.00      0.00  \n",
      "greenwich village       0.01      0.02  \n",
      "washington heights      0.00      0.00  \n",
      "harlem                  0.00      0.00  \n",
      "flatiron district       0.02      0.03  \n",
      "chinatown               0.00      0.00  \n",
      "ellis island            0.00      0.00  \n",
      "noho                    0.00      0.01  \n",
      "east harlem             0.01      0.01  \n",
      "murray hill             0.04      0.09  \n",
      "gramercy                0.02      0.05  \n",
      "randall's island        0.00      0.00  \n",
      "inwood                  0.00      0.00  \n",
      "chelsea                 0.07      0.07  \n",
      "hell's kitchen          0.05      0.02  \n",
      "roosevelt island        0.00      0.00  \n",
      "tribeca                 0.01      0.01  \n",
      "outside manhattan       0.06      0.05  \n",
      "stuyvesant town         0.00      0.01  \n",
      "upper east side         0.13      0.07  \n",
      "governors island        0.00      0.00  \n",
      "little italy            0.00      0.00  \n",
      "morningside heights     0.00      0.00  \n",
      "west village            0.02      0.02  \n",
      "lower east side         0.01      0.02  \n",
      "civic center            0.00      0.00  \n",
      "east village            0.02      0.06  \n",
      "marble hill             0.00      0.00  \n",
      "liberty island          0.00      0.00  \n",
      "soho                    0.01      0.01  \n",
      "financial district      0.01      0.01  \n",
      "battery park city       0.00      0.00  \n",
      "nolita                  0.00      0.00  \n",
      "midtown                 0.36      0.19  \n",
      "kips bay                0.02      0.19  \n",
      "\n",
      "[38 rows x 38 columns]\n"
     ]
    },
    {
     "data": {
      "image/png": "[encoded data removed]",
      "text/plain": [
       "<Figure size 1200x1000 with 2 Axes>"
      ]
     },
     "metadata": {},
     "output_type": "display_data"
    },
    {
     "name": "stdout",
     "output_type": "stream",
     "text": [
      "\n",
      "Most common routes:\n",
      "liberty island -> gramercy: 1.00\n",
      "outside manhattan -> outside manhattan: 0.51\n",
      "upper east side -> upper east side: 0.46\n",
      "upper west side -> upper west side: 0.42\n",
      "midtown -> midtown: 0.36\n",
      "morningside heights -> upper west side: 0.35\n",
      "chelsea -> chelsea: 0.33\n",
      "governors island -> outside manhattan: 0.33\n",
      "ellis island -> tribeca: 0.33\n",
      "ellis island -> outside manhattan: 0.33\n"
     ]
    }
   ],
   "source": [
    "tr_counts = np.zeros((S, S))\n",
    "for col in df.columns:\n",
    "    col_seq = df[col].str.lower().str.strip().dropna()\n",
    "    col_seq = col_seq[col_seq.isin(all_neighborhoods)].values\n",
    "    for t in range(1, len(col_seq)):\n",
    "        if col_seq[t-1] in states and col_seq[t] in states:\n",
    "            index_from = states.index(col_seq[t-1])\n",
    "            index_to = states.index(col_seq[t])\n",
    "            tr_counts[index_to, index_from] += 1\n",
    "\n",
    "# Transition probabilities (rows sum to 1)\n",
    "sums = tr_counts.sum(axis=0, keepdims=True)\n",
    "tr_pr = np.divide(tr_counts, sums, out=np.zeros_like(tr_counts), where=sums!=0)\n",
    "tr_df = pd.DataFrame(np.round(tr_pr, 2), index=states, columns=states)\n",
    "print(\"\\nTransition Matrix:\\n\", tr_df)\n",
    "\n",
    "# Plot heatmap\n",
    "plt.figure(figsize=(12, 10))\n",
    "sns.heatmap(tr_pr, cmap='Blues', square=True, xticklabels=states, yticklabels=states,\n",
    "            cbar_kws={'label': 'Transition Probability'})\n",
    "plt.title('Taxicab Transition Probabilities')\n",
    "plt.xlabel('To Neighborhood')\n",
    "plt.ylabel('From Neighborhood')\n",
    "plt.xticks(rotation=45, ha='right')\n",
    "plt.tight_layout()\n",
    "plt.show()\n",
    "\n",
    "# Most common routes\n",
    "print(\"\\nMost common routes:\")\n",
    "tr_flat = tr_pr.flatten()\n",
    "top_indices = np.argsort(tr_flat)[-10:][::-1]\n",
    "for idx in top_indices:\n",
    "    i, j = divmod(idx, S)\n",
    "    print(f\"{states[j]} -> {states[i]}: {tr_pr[i, j]:.2f}\")\n"
   ]
  },
  {
   "cell_type": "markdown",
   "id": "8df74974",
   "metadata": {},
   "source": [
    "3 Why Taxicabs Are Likely Order 1\n",
    "\n",
    "Taxicabs are modeled as a first-order Markov chain because the next destination depends primarily on the current location and immediate factors like passenger demand or proximity, not prior trip history. Higher-order models (e.g., order 2) are unnecessary as they add complexity without significant predictive gain, given that passenger requests and driver decisions are largely independent of earlier trips.\n",
    "\n",
    "4 Forecasting from Hell’s Kitchen\n",
    " \n",
    "Starting from Hell’s Kitchen, the probability distribution after 2, 3, 5, and 10 trips was computed using the transition matrix. After 2 trips, the top neighborhoods are Midtown (0.17), Hell’s Kitchen (0.12), and Chelsea (0.11). By 10 trips, the distribution stabilizes, with Midtown (0.17), Upper East Side (0.12), and outside Manhattan (0.10) being the most likely, indicating a shift toward high-demand areas.\n",
    "\n"
   ]
  },
  {
   "cell_type": "code",
   "execution_count": null,
   "id": "15213212",
   "metadata": {},
   "outputs": [
    {
     "name": "stdout",
     "output_type": "stream",
     "text": [
      "\n",
      "Forecasts from Hell's Kitchen:\n",
      "After 2 trips: {'midtown': np.float64(0.17), \"hell's kitchen\": np.float64(0.12), 'chelsea': np.float64(0.11)}\n",
      "After 3 trips: {'midtown': np.float64(0.17), 'upper east side': np.float64(0.11), 'chelsea': np.float64(0.1)}\n",
      "After 5 trips: {'midtown': np.float64(0.17), 'upper east side': np.float64(0.12), 'outside manhattan': np.float64(0.1)}\n",
      "After 10 trips: {'midtown': np.float64(0.17), 'upper east side': np.float64(0.12), 'outside manhattan': np.float64(0.1)}\n"
     ]
    }
   ],
   "source": [
    "try:\n",
    "    hk_idx = states.index(\"hell's kitchen\")\n",
    "except ValueError:\n",
    "    print(\"Warning: Hell's Kitchen not in states. Using first state instead.\")\n",
    "    hk_idx = 0\n",
    "initial = np.zeros(S)\n",
    "initial[hk_idx] = 1\n",
    "print(\"\\nForecasts from Hell's Kitchen:\")\n",
    "vec = initial\n",
    "for i in range(10):\n",
    "    vec = tr_pr @ vec\n",
    "    if i+1 in [2, 3, 5, 10]:\n",
    "        top3 = np.argsort(vec)[-3:][::-1]\n",
    "        print(f\"After {i+1} trips:\", {states[idx]: round(vec[idx], 2) for idx in top3})\n"
   ]
  },
  {
   "cell_type": "markdown",
   "id": "73c477dd",
   "metadata": {},
   "source": [
    "\n",
    "5 Long-Run Distribution\n",
    " \n",
    "Iterating from a uniform distribution, the Markov chain converged after 7 steps to a stationary distribution. Cabs spend the most time in Midtown (0.17), Upper East Side (0.12), outside Manhattan (0.10), Chelsea (0.09), and Upper West Side (0.08), reflecting high passenger demand and trip frequency in central and popular neighborhoods.\n",
    "\n"
   ]
  },
  {
   "cell_type": "code",
   "execution_count": null,
   "id": "64b162e5",
   "metadata": {},
   "outputs": [
    {
     "name": "stdout",
     "output_type": "stream",
     "text": [
      "\n",
      "Converged at step 7\n",
      "Long-run distribution (top 5 neighborhoods): {'midtown': np.float64(0.17), 'upper east side': np.float64(0.12), 'outside manhattan': np.float64(0.1), 'chelsea': np.float64(0.09), 'upper west side': np.float64(0.08)}\n"
     ]
    }
   ],
   "source": [
    "vec = np.ones(S) / S\n",
    "for i in range(50):\n",
    "    vec_new = tr_pr @ vec\n",
    "    if np.max(np.abs(vec_new - vec)) < 0.001:\n",
    "        print(f\"\\nConverged at step {i+1}\")\n",
    "        break\n",
    "    vec = vec_new\n",
    "top5 = np.argsort(vec)[-5:][::-1]\n",
    "print(\"Long-run distribution (top 5 neighborhoods):\", {states[idx]: round(vec[idx], 2) for idx in top5})"
   ]
  }
 ],
 "metadata": {
  "kernelspec": {
   "display_name": "ds6001",
   "language": "python",
   "name": "python3"
  },
  "language_info": {
   "codemirror_mode": {
    "name": "ipython",
    "version": 3
   },
   "file_extension": ".py",
   "mimetype": "text/x-python",
   "name": "python",
   "nbconvert_exporter": "python",
   "pygments_lexer": "ipython3",
   "version": "3.13.5"
  }
 },
 "nbformat": 4,
 "nbformat_minor": 5
}
